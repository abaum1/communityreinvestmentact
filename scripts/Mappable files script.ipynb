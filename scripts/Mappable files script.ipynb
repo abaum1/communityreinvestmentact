{
 "cells": [
  {
   "cell_type": "code",
   "execution_count": 1,
   "metadata": {},
   "outputs": [],
   "source": [
    "import numpy as np\n",
    "import pandas as pd\n",
    "import geopandas\n",
    "import shapely\n",
    "import os"
   ]
  },
  {
   "cell_type": "code",
   "execution_count": 2,
   "metadata": {},
   "outputs": [],
   "source": [
    "bay_county_names = [\"Alameda\", \"ContraCosta\", \"Sonoma\", \"Solano\", \"SanMateo\", \"SantaClara\", \"SanFrancisco\", \"Marin\",\"Napa\"] \n",
    "analysis_years = [\"2008\", \"2009\", \"2010\", \"2011\", \"2012\", \"2013\", \"2014\", \"2015\", \"2016\", \"2017\"] #try to use 2010 census for this\n",
    "\n",
    "\n",
    "slump_years = [\"2008\", \"2009\", \"2010\", \"2011\", \"2012\"]\n",
    "recovery_years = [\"2013\", \"2014\", \"2015\", \"2016\", \"2017\"]\n",
    "geo_data_path = \"/Users/ameliabaum/Desktop/Amelia/CRA_Thesis/communityreinvestmentact/data/CTs_geo_data_1/\"\n",
    "parsed_data_path = \"/Users/ameliabaum/Desktop/Amelia/CRA_Thesis/communityreinvestmentact/data/parsed_data_1/\"\n",
    "shapefiles_data_path = \"/Users/ameliabaum/Desktop/Amelia/CRA_Thesis/communityreinvestmentact/data/raw_shapefiles/\"\n",
    "\n"
   ]
  },
  {
   "cell_type": "markdown",
   "metadata": {},
   "source": [
    "## Shapefiles"
   ]
  },
  {
   "cell_type": "code",
   "execution_count": 5,
   "metadata": {},
   "outputs": [
    {
     "name": "stderr",
     "output_type": "stream",
     "text": [
      "/Users/ameliabaum/anaconda3/lib/python3.7/site-packages/ipykernel_launcher.py:4: SettingWithCopyWarning: \n",
      "A value is trying to be set on a copy of a slice from a DataFrame.\n",
      "Try using .loc[row_indexer,col_indexer] = value instead\n",
      "\n",
      "See the caveats in the documentation: http://pandas.pydata.org/pandas-docs/stable/indexing.html#indexing-view-versus-copy\n",
      "  after removing the cwd from sys.path.\n"
     ]
    },
    {
     "data": {
      "text/plain": [
       "107     POLYGON ((-122.300587 38.300888, -122.300696 3...\n",
       "108     POLYGON ((-122.460436 38.514535, -122.459987 3...\n",
       "109     POLYGON ((-122.318333 38.306618, -122.318355 3...\n",
       "110     POLYGON ((-122.547175 38.521858, -122.5482 38....\n",
       "111     POLYGON ((-122.356477 38.40573, -122.355529 38...\n",
       "112     POLYGON ((-122.28911 38.281736, -122.288409 38...\n",
       "113     POLYGON ((-122.32289 38.303754, -122.322638 38...\n",
       "114     POLYGON ((-122.291875 38.324216, -122.290724 3...\n",
       "115     POLYGON ((-122.290405 38.300842, -122.290211 3...\n",
       "116     POLYGON ((-122.302987 38.301278, -122.302968 3...\n",
       "117     POLYGON ((-122.286201 38.281702, -122.287237 3...\n",
       "118     POLYGON ((-122.267203 38.324475, -122.267259 3...\n",
       "119     POLYGON ((-122.291964 38.332221, -122.292085 3...\n",
       "120     POLYGON ((-122.335976 38.32692, -122.335817 38...\n",
       "121     POLYGON ((-122.321204 38.309016, -122.321193 3...\n",
       "122     POLYGON ((-122.282134 38.27852499999999, -122....\n",
       "123     POLYGON ((-122.267514 38.240557, -122.267509 3...\n",
       "124     POLYGON ((-122.201067 38.271974, -122.201134 3...\n",
       "125     POLYGON ((-122.334503 38.325401, -122.334665 3...\n",
       "126     POLYGON ((-122.291964 38.332221, -122.291868 3...\n",
       "127     POLYGON ((-122.289407 38.300297, -122.289486 3...\n",
       "128     POLYGON ((-122.282351 38.305039, -122.28216 38...\n",
       "129     POLYGON ((-122.255185 38.287441, -122.255056 3...\n",
       "130     POLYGON ((-122.581985 38.595635, -122.581509 3...\n",
       "131     POLYGON ((-122.509791 38.580328, -122.510049 3...\n",
       "132     POLYGON ((-122.344794 38.839423, -122.344624 3...\n",
       "133     POLYGON ((-122.460436 38.514535, -122.460763 3...\n",
       "138     POLYGON ((-121.879775 37.105942, -121.88018 37...\n",
       "829     POLYGON ((-121.741699 37.700118, -121.741952 3...\n",
       "830     POLYGON ((-122.200806 37.772586, -122.200805 3...\n",
       "                              ...                        \n",
       "7007    POLYGON ((-122.71613 38.414558, -122.716198 38...\n",
       "7008    POLYGON ((-122.715443 38.431063, -122.715468 3...\n",
       "7009    POLYGON ((-122.692691 38.449831, -122.692125 3...\n",
       "7010    POLYGON ((-122.717343 38.43574, -122.717319 38...\n",
       "7011    POLYGON ((-122.723867 38.445898, -122.723684 3...\n",
       "7012    POLYGON ((-122.723471 38.445871, -122.723608 3...\n",
       "7013    POLYGON ((-122.670224 38.482197, -122.669754 3...\n",
       "7014    POLYGON ((-122.741652 38.46118, -122.74191 38....\n",
       "7015    POLYGON ((-123.004852 38.496495, -123.004981 3...\n",
       "7016    POLYGON ((-122.813627 38.387516, -122.813454 3...\n",
       "7017    POLYGON ((-122.845928 38.493825, -122.846066 3...\n",
       "7018    POLYGON ((-122.910228 38.315394, -122.910345 3...\n",
       "7019    POLYGON ((-122.518108 38.206055, -122.518119 3...\n",
       "7020    POLYGON ((-122.536113 38.350687, -122.535925 3...\n",
       "7021    POLYGON ((-122.477354 38.297447, -122.477511 3...\n",
       "7022    POLYGON ((-122.553619 38.29384, -122.55364 38....\n",
       "7023    POLYGON ((-122.477354 38.297447, -122.477284 3...\n",
       "7024    POLYGON ((-122.470756 38.312834, -122.471942 3...\n",
       "7025    POLYGON ((-122.660247 38.239426, -122.660212 3...\n",
       "7026    POLYGON ((-122.51554 38.437244, -122.515427 38...\n",
       "7027    POLYGON ((-122.474531 38.293548, -122.474168 3...\n",
       "7028    POLYGON ((-122.698459 38.343049, -122.698295 3...\n",
       "7029    POLYGON ((-122.670412 38.342702, -122.669903 3...\n",
       "7030    POLYGON ((-122.75278 38.45992, -122.753014 38....\n",
       "7031    POLYGON ((-122.743017 38.43871499999999, -122....\n",
       "7032    POLYGON ((-122.851112 38.598179, -122.850732 3...\n",
       "7033    POLYGON ((-122.807914 38.546878, -122.808153 3...\n",
       "7034    POLYGON ((-122.700471 38.444756, -122.70055 38...\n",
       "7035    POLYGON ((-122.960669 38.489315, -122.960677 3...\n",
       "7036    POLYGON ((-122.64833 38.441054, -122.648292 38...\n",
       "Name: geometry, Length: 1405, dtype: object"
      ]
     },
     "execution_count": 5,
     "metadata": {},
     "output_type": "execute_result"
    }
   ],
   "source": [
    "#2000 census tract shapefiles (from 2008 file, but identical to 2000)\n",
    "shapefiles_08 = geopandas.read_file(shapefiles_data_path+\"alltracts_shapefiles_2008/tl_2008_06_tract00.shp\")\n",
    "bay_shapefiles_08 = shapefiles_08[shapefiles_08[\"COUNTYFP00\"].isin(['001', '013', '041', '055', '075', '081', '085', '097', '095'])]\n",
    "bay_shapefiles_08[\"NAME00\"] = pd.to_numeric(bay_shapefiles_08[\"NAME00\"])\n",
    "\n",
    "\n",
    "# Carolina says that 2010 and should be used for all HMDA data 2012-2017, but for right now I'm still using \n",
    "#2000 for these because it seems like the only one that conserves all the data in the merge\n",
    "\n",
    "# shapefiles_10 = geopandas.read_file(shapefiles_data_path+\"gz_2010_06_140_00_500k/gz_2010_06_140_00_500k.shp\")\n",
    "# bay_shapefiles_10 = shapefiles_10[shapefiles_10[\"COUNTY\"].isin(['001', '013', '041', '055', '075', '081', '085', '097', '095'])]\n",
    "# bay_shapefiles_10[\"NAME\"] = pd.to_numeric(bay_shapefiles_10[\"NAME\"])\n",
    "#bay_shapefiles_10.head()\n",
    "bay_shapefiles_08[\"geometry\"]\n"
   ]
  },
  {
   "cell_type": "markdown",
   "metadata": {},
   "source": [
    "## Merging HMDA data with shapefiles for mapping"
   ]
  },
  {
   "cell_type": "code",
   "execution_count": 5,
   "metadata": {},
   "outputs": [
    {
     "name": "stdout",
     "output_type": "stream",
     "text": [
      "writing... Alameda 2008\n",
      "writing... Alameda 2009\n",
      "writing... Alameda 2010\n",
      "writing... Alameda 2011\n",
      "writing... Alameda 2012\n",
      "writing... Alameda 2013\n",
      "writing... Alameda 2014\n",
      "writing... Alameda 2015\n",
      "writing... Alameda 2016\n",
      "writing... Alameda 2017\n",
      "writing... ContraCosta 2008\n",
      "writing... ContraCosta 2009\n",
      "writing... ContraCosta 2010\n",
      "writing... ContraCosta 2011\n",
      "writing... ContraCosta 2012\n",
      "writing... ContraCosta 2013\n",
      "writing... ContraCosta 2014\n",
      "writing... ContraCosta 2015\n",
      "writing... ContraCosta 2016\n",
      "writing... ContraCosta 2017\n",
      "writing... Sonoma 2008\n",
      "writing... Sonoma 2009\n",
      "writing... Sonoma 2010\n",
      "writing... Sonoma 2011\n",
      "writing... Sonoma 2012\n",
      "writing... Sonoma 2013\n",
      "writing... Sonoma 2014\n",
      "writing... Sonoma 2015\n",
      "writing... Sonoma 2016\n",
      "writing... Sonoma 2017\n",
      "writing... Solano 2008\n",
      "writing... Solano 2009\n",
      "writing... Solano 2010\n",
      "writing... Solano 2011\n",
      "writing... Solano 2012\n",
      "writing... Solano 2013\n",
      "writing... Solano 2014\n",
      "writing... Solano 2015\n",
      "writing... Solano 2016\n",
      "writing... Solano 2017\n",
      "writing... SanMateo 2008\n",
      "writing... SanMateo 2009\n",
      "writing... SanMateo 2010\n",
      "writing... SanMateo 2011\n",
      "writing... SanMateo 2012\n",
      "writing... SanMateo 2013\n",
      "writing... SanMateo 2014\n",
      "writing... SanMateo 2015\n",
      "writing... SanMateo 2016\n",
      "writing... SanMateo 2017\n",
      "writing... SantaClara 2008\n",
      "writing... SantaClara 2009\n",
      "writing... SantaClara 2010\n",
      "writing... SantaClara 2011\n",
      "writing... SantaClara 2012\n",
      "writing... SantaClara 2013\n",
      "writing... SantaClara 2014\n",
      "writing... SantaClara 2015\n",
      "writing... SantaClara 2016\n",
      "writing... SantaClara 2017\n",
      "writing... SanFrancisco 2008\n",
      "writing... SanFrancisco 2009\n",
      "writing... SanFrancisco 2010\n",
      "writing... SanFrancisco 2011\n",
      "writing... SanFrancisco 2012\n",
      "writing... SanFrancisco 2013\n",
      "writing... SanFrancisco 2014\n",
      "writing... SanFrancisco 2015\n",
      "writing... SanFrancisco 2016\n",
      "writing... SanFrancisco 2017\n",
      "writing... Marin 2008\n",
      "writing... Marin 2009\n",
      "writing... Marin 2010\n",
      "writing... Marin 2011\n",
      "writing... Marin 2012\n",
      "writing... Marin 2013\n",
      "writing... Marin 2014\n",
      "writing... Marin 2015\n",
      "writing... Marin 2016\n",
      "writing... Marin 2017\n",
      "writing... Napa 2008\n",
      "writing... Napa 2009\n",
      "writing... Napa 2010\n",
      "writing... Napa 2011\n",
      "writing... Napa 2012\n",
      "writing... Napa 2013\n",
      "writing... Napa 2014\n",
      "writing... Napa 2015\n",
      "writing... Napa 2016\n",
      "writing... Napa 2017\n"
     ]
    }
   ],
   "source": [
    "for county in bay_county_names:\n",
    "    for year in analysis_years:\n",
    "        parsed_df = pd.read_csv(parsed_data_path+county+'_'+year+'_parsed.csv')\n",
    "        with_geo = parsed_df.merge(bay_shapefiles_08, how=\"left\", right_on=\"NAME00\", left_on=\"Tract\")  \n",
    "        print(\"writing...\", county, year)\n",
    "        with_geo.to_csv(geo_data_path+county+\"_geoparsed_\"+year+\".csv\", index=False)\n",
    "        \n",
    "        \n"
   ]
  },
  {
   "cell_type": "markdown",
   "metadata": {},
   "source": [
    "## Creating the Recovery and Slump dataframes"
   ]
  },
  {
   "cell_type": "code",
   "execution_count": 6,
   "metadata": {},
   "outputs": [],
   "source": [
    "#creates a combined dataframe of all the years in 2 groups, and averages the 4 proportions in this interval.\n",
    "to_concat_recovery = []\n",
    "to_concat_slump = []\n",
    "all_dfs = []\n",
    "files = [f for f in os.listdir(geo_data_path) if f[-3:] == \"csv\"]\n",
    "for name in files:\n",
    "    df_year = name.split('_')[2][:4]\n",
    "    if df_year in slump_years:\n",
    "        df1 = pd.read_csv(geo_data_path+name)\n",
    "        all_dfs.append(df1)\n",
    "        to_concat_slump.append(df1)\n",
    "        \n",
    "    if df_year in recovery_years:\n",
    "        df2 = pd.read_csv(geo_data_path+name)\n",
    "        all_dfs.append(df2)\n",
    "        to_concat_recovery.append(df2)\n",
    "\n",
    "slump = pd.concat(to_concat_slump, axis=0)\n",
    "#.groupby(by=[\"Tract\", \"tract num\", \"STATEFP\", \"COUNTYFP\", \"TRACTCE\", \"AFFGEOID\", \"GEOID\", \n",
    "#                                    \"NAME\", \"LSAD\", \"ALAND\", \"AWATER\", \"geometry\"]).mean()\n",
    "\n",
    "recovery = pd.concat(to_concat_recovery, axis=0)\n",
    "#.groupby(by=[\"Tract\", \"tract num\", \"STATEFP\", \"COUNTYFP\", \"TRACTCE\", \"AFFGEOID\", \"GEOID\", \n",
    "#                                    \"NAME\", \"LSAD\", \"ALAND\", \"AWATER\", \"geometry\"]).mean()\n",
    "\n",
    "\n",
    "\n",
    "\n",
    "            \n",
    "      \n",
    "    "
   ]
  },
  {
   "cell_type": "code",
   "execution_count": 7,
   "metadata": {},
   "outputs": [
    {
     "name": "stdout",
     "output_type": "stream",
     "text": [
      "7143\n",
      "6779\n"
     ]
    }
   ],
   "source": [
    "print(len(slump))\n",
    "print(len(slump.dropna()))"
   ]
  },
  {
   "cell_type": "code",
   "execution_count": 8,
   "metadata": {},
   "outputs": [],
   "source": [
    "slump.to_csv(geo_data_path+\"all_tracts_geoparsed_slump.csv\", index=False)\n",
    "recovery.to_csv(geo_data_path+\"all_tracts_geoparsed_recovery.csv\", index=False)"
   ]
  },
  {
   "cell_type": "code",
   "execution_count": null,
   "metadata": {},
   "outputs": [],
   "source": []
  }
 ],
 "metadata": {
  "kernelspec": {
   "display_name": "Python 3",
   "language": "python",
   "name": "python3"
  },
  "language_info": {
   "codemirror_mode": {
    "name": "ipython",
    "version": 3
   },
   "file_extension": ".py",
   "mimetype": "text/x-python",
   "name": "python",
   "nbconvert_exporter": "python",
   "pygments_lexer": "ipython3",
   "version": "3.7.2"
  }
 },
 "nbformat": 4,
 "nbformat_minor": 2
}
