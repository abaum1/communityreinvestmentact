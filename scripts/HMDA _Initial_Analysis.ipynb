{
 "cells": [
  {
   "cell_type": "code",
   "execution_count": 1,
   "metadata": {},
   "outputs": [],
   "source": [
    "import pandas as pd\n",
    "import numpy as np\n",
    "from openpyxl import load_workbook\n",
    "import os\n",
    "import matplotlib.pyplot as plt\n",
    "import urllib.request\n"
   ]
  },
  {
   "cell_type": "code",
   "execution_count": 2,
   "metadata": {},
   "outputs": [],
   "source": [
    "#categorized census tracts into 4 categories based on income level\n",
    "def tract_type(row):\n",
    "    if (row[\"tract_to_msamd_income\"] < 50):\n",
    "        return \"low\"\n",
    "    if (row[\"tract_to_msamd_income\"] < 80):\n",
    "        return \"mod\"\n",
    "    if (row[\"tract_to_msamd_income\"] <= 120):\n",
    "        return \"mid\"\n",
    "    if (row[\"tract_to_msamd_income\"] > 120):\n",
    "        return \"high\"\n",
    "    else:\n",
    "        return \"not categorized\"\n",
    "    \n"
   ]
  },
  {
   "cell_type": "code",
   "execution_count": 3,
   "metadata": {},
   "outputs": [],
   "source": [
    "#codes a tract as CRA eligible or ineligible based on its median income to AMI ratio\n",
    "def tract_eligibility(row):\n",
    "    if (row[\"tract_to_msamd_income\"] < 80):\n",
    "        return \"eligible\"\n",
    "    else:\n",
    "        return \"not eligible\""
   ]
  },
  {
   "cell_type": "code",
   "execution_count": 4,
   "metadata": {},
   "outputs": [],
   "source": [
    "#codes a loan borrower as CRA eligible or ineligible based on their median income to AMI ratio\n",
    "def borrower_eligibility(row):\n",
    "    if (row[\"applicant_income_000s\"]*1000 < .8*row[\"hud_median_family_income\"]):\n",
    "        return \"eligible\"\n",
    "    else:\n",
    "        return \"not eligible\"\n"
   ]
  },
  {
   "cell_type": "code",
   "execution_count": 5,
   "metadata": {},
   "outputs": [],
   "source": [
    "def add_year(df, year):\n",
    "    df[\"Year\"] = year\n",
    "    "
   ]
  },
  {
   "cell_type": "code",
   "execution_count": 6,
   "metadata": {},
   "outputs": [],
   "source": [
    "#calculates the proportion of loans in the dataset that go to each of the 4 person-place categories, returns an array of \n",
    "#4 proportions that correspond to each of the 4 categories\n",
    "def people_vs_place(df):\n",
    "    hb_lt = 0 \n",
    "    hb_ht = 0\n",
    "    lb_lt = 0\n",
    "    lb_ht = 0\n",
    "    for row in df.itertuples():\n",
    "        cra_eligible_tract = row._48 \n",
    "        cra_eligible_borrower = row._49\n",
    "\n",
    "        if (cra_eligible_tract == \"eligible\" and cra_eligible_borrower == \"eligible\"):\n",
    "            lb_lt +=1\n",
    "            \n",
    "        elif (cra_eligible_tract == \"not eligible\" and cra_eligible_borrower == \"eligible\"):\n",
    "            lb_ht +=1\n",
    "        elif (cra_eligible_tract == \"eligible\" and cra_eligible_borrower == \"not eligible\"):\n",
    "            hb_lt +=1\n",
    "        elif (cra_eligible_tract == \"not eligible\" and cra_eligible_borrower == \"not eligible\"):\n",
    "            hb_ht +=1\n",
    "        \n",
    "    return [hb_lt/len(df), hb_lt, hb_ht/len(df), hb_ht, lb_lt/len(df), lb_lt, lb_ht/len(df), lb_ht]\n",
    "    \n",
    "        "
   ]
  },
  {
   "cell_type": "code",
   "execution_count": 7,
   "metadata": {},
   "outputs": [],
   "source": [
    "bay_county_names = [\"Alameda\", \"ContraCosta\", \"Sonoma\", \"Solano\", \"SanMateo\", \"SantaClara\", \"SanFrancisco\", \"Marin\",\"Napa\"] \n",
    "#bay_county_codes = ['001', '013', '041', '055', '075', '081', '085', '097', '095']\n",
    "\n",
    "#note- 075 is SF, since SF CTs are 3 digits long, I added a 0 to the county code so that the 10 digit FIPS would be \n",
    "#correct and consistent with the census\n",
    "bay_county_codes = ['001', '013', '097', '095', '081', '085', '0750', '041', '055']\n",
    "\n",
    "\n",
    "analysis_years = [\"2008\", \"2009\", \"2010\", \"2011\", \"2012\", \"2013\", \"2014\", \"2015\", \"2016\", \"2017\"]\n",
    "\n"
   ]
  },
  {
   "cell_type": "code",
   "execution_count": 8,
   "metadata": {},
   "outputs": [],
   "source": [
    "def parse_data(df, year, county):\n",
    "#this uses the functions above combined to \"parse\" raw HMDA data, including to generate proportions of \n",
    "#loans to combinations of HI/LI borrowers and tracts and append other columns described above. It also adds a column \n",
    "#called geoid which is the full 10 digit FIPS for the census tract, which is useful for later processing.\n",
    "    df[\"CRA eligible tract\"] = df.apply(lambda item: tract_eligibility(item), axis=1)\n",
    "    df[\"CRA eligible borrower\"] = df.apply(lambda item: borrower_eligibility(item), axis=1)\n",
    "    df[\"type\"] = df.apply(lambda item: tract_type(item), axis=1)\n",
    "    df[\"Year\"] = year\n",
    "    \n",
    "    df_lol = []\n",
    "    for tract, tract_df in df.groupby(\"census_tract_number\"):\n",
    "        row_list = [tract, \n",
    "                    tract_df[\"Year\"].iloc[0], tract_df[\"county_name\"].iloc[0],\n",
    "                    tract_df[\"type\"].iloc[0], tract_df[\"CRA eligible tract\"].iloc[0]]\n",
    "        row_list.extend(people_vs_place(tract_df))\n",
    "        df_lol.append(row_list)\n",
    "    data = pd.DataFrame(df_lol, columns=[\"Tract\",\"Year\", \"County\", \"type\", \"CRA Eligible\",'% HI borrower, LI tract', '# HI borrower, LI tract', \n",
    "                                         '% HI borrower, HI tract','# HI borrower, HI tract', \"% LI borrower, LI tract\", \"# LI borrower, LI tract\",\n",
    "                                         \"%LI borrower, HI tract\", \"# LI borrower, HI tract\"])\n",
    "    return data\n",
    "        \n",
    "        "
   ]
  },
  {
   "cell_type": "code",
   "execution_count": 9,
   "metadata": {},
   "outputs": [
    {
     "name": "stdout",
     "output_type": "stream",
     "text": [
      "writing.. Alameda 2008  to csv\n",
      "writing.. Alameda 2009  to csv\n",
      "writing.. Alameda 2010  to csv\n",
      "writing.. Alameda 2011  to csv\n",
      "writing.. Alameda 2012  to csv\n",
      "writing.. Alameda 2013  to csv\n",
      "writing.. Alameda 2014  to csv\n",
      "writing.. Alameda 2015  to csv\n",
      "writing.. Alameda 2016  to csv\n",
      "writing.. Alameda 2017  to csv\n",
      "writing.. ContraCosta 2008  to csv\n",
      "writing.. ContraCosta 2009  to csv\n",
      "writing.. ContraCosta 2010  to csv\n",
      "writing.. ContraCosta 2011  to csv\n",
      "writing.. ContraCosta 2012  to csv\n",
      "writing.. ContraCosta 2013  to csv\n",
      "writing.. ContraCosta 2014  to csv\n",
      "writing.. ContraCosta 2015  to csv\n",
      "writing.. ContraCosta 2016  to csv\n",
      "writing.. ContraCosta 2017  to csv\n",
      "writing.. Sonoma 2008  to csv\n",
      "writing.. Sonoma 2009  to csv\n",
      "writing.. Sonoma 2010  to csv\n",
      "writing.. Sonoma 2011  to csv\n",
      "writing.. Sonoma 2012  to csv\n",
      "writing.. Sonoma 2013  to csv\n",
      "writing.. Sonoma 2014  to csv\n",
      "writing.. Sonoma 2015  to csv\n",
      "writing.. Sonoma 2016  to csv\n",
      "writing.. Sonoma 2017  to csv\n",
      "writing.. Solano 2008  to csv\n",
      "writing.. Solano 2009  to csv\n",
      "writing.. Solano 2010  to csv\n",
      "writing.. Solano 2011  to csv\n",
      "writing.. Solano 2012  to csv\n",
      "writing.. Solano 2013  to csv\n",
      "writing.. Solano 2014  to csv\n",
      "writing.. Solano 2015  to csv\n",
      "writing.. Solano 2016  to csv\n",
      "writing.. Solano 2017  to csv\n",
      "writing.. SanMateo 2008  to csv\n",
      "writing.. SanMateo 2009  to csv\n",
      "writing.. SanMateo 2010  to csv\n",
      "writing.. SanMateo 2011  to csv\n",
      "writing.. SanMateo 2012  to csv\n",
      "writing.. SanMateo 2013  to csv\n",
      "writing.. SanMateo 2014  to csv\n",
      "writing.. SanMateo 2015  to csv\n",
      "writing.. SanMateo 2016  to csv\n",
      "writing.. SanMateo 2017  to csv\n",
      "writing.. SantaClara 2008  to csv\n",
      "writing.. SantaClara 2009  to csv\n",
      "writing.. SantaClara 2010  to csv\n",
      "writing.. SantaClara 2011  to csv\n",
      "writing.. SantaClara 2012  to csv\n",
      "writing.. SantaClara 2013  to csv\n",
      "writing.. SantaClara 2014  to csv\n",
      "writing.. SantaClara 2015  to csv\n",
      "writing.. SantaClara 2016  to csv\n",
      "writing.. SantaClara 2017  to csv\n",
      "writing.. SanFrancisco 2008  to csv\n",
      "writing.. SanFrancisco 2009  to csv\n",
      "writing.. SanFrancisco 2010  to csv\n",
      "writing.. SanFrancisco 2011  to csv\n",
      "writing.. SanFrancisco 2012  to csv\n",
      "writing.. SanFrancisco 2013  to csv\n",
      "writing.. SanFrancisco 2014  to csv\n",
      "writing.. SanFrancisco 2015  to csv\n",
      "writing.. SanFrancisco 2016  to csv\n",
      "writing.. SanFrancisco 2017  to csv\n",
      "writing.. Marin 2008  to csv\n",
      "writing.. Marin 2009  to csv\n",
      "writing.. Marin 2010  to csv\n",
      "writing.. Marin 2011  to csv\n",
      "writing.. Marin 2012  to csv\n",
      "writing.. Marin 2013  to csv\n",
      "writing.. Marin 2014  to csv\n",
      "writing.. Marin 2015  to csv\n",
      "writing.. Marin 2016  to csv\n",
      "writing.. Marin 2017  to csv\n",
      "writing.. Napa 2008  to csv\n",
      "writing.. Napa 2009  to csv\n",
      "writing.. Napa 2010  to csv\n",
      "writing.. Napa 2011  to csv\n",
      "writing.. Napa 2012  to csv\n",
      "writing.. Napa 2013  to csv\n",
      "writing.. Napa 2014  to csv\n",
      "writing.. Napa 2015  to csv\n",
      "writing.. Napa 2016  to csv\n",
      "writing.. Napa 2017  to csv\n"
     ]
    }
   ],
   "source": [
    "\n",
    "\n",
    "#It takes several minutes to run since it goes through all of the years and counties of data. The end result is a\n",
    "#csv file for each year and county with a line for each tract and information about the type of tract, the CRA eligibiliy\n",
    "#and the number and percentage of each borrower-tract combination\n",
    "filenames = []\n",
    "tables_dict = {}\n",
    "for county, code in zip(bay_county_names, bay_county_codes): \n",
    "    for year in analysis_years:\n",
    "        filename = \"/Users/ameliabaum/Desktop/Amelia/CRA_Thesis/communityreinvestmentact/data/raw_hmda_filtered/\"+ county + \"_\"+ str(year)+ \".csv\"\n",
    "        filenames.append(filename)\n",
    "        df = pd.read_csv(filename)\n",
    "        new_frame = parse_data(df, year, county)\n",
    "        new_frame[\"Geoid\"] = '6'+code+((new_frame[\"Tract\"]*100).astype(int)).astype(str)\n",
    "        \n",
    "\n",
    "        tables_dict[county+ \"_\"+ str(year)] = new_frame\n",
    "        print(\"writing..\", county, year, \" to csv\")\n",
    "        #WRITING NEW DATA TO NEW FOLDER AS TEST\n",
    "        new_frame.to_csv(\"/Users/ameliabaum/Desktop/Amelia/CRA_Thesis/communityreinvestmentact/data/parsed_data_1/\"+county+\"_\"+str(year)+\"_parsed.csv\", index=False)\n",
    "              "
   ]
  },
  {
   "cell_type": "markdown",
   "metadata": {},
   "source": [
    "### Create master CT reference by Type"
   ]
  },
  {
   "cell_type": "code",
   "execution_count": 10,
   "metadata": {},
   "outputs": [
    {
     "data": {
      "text/plain": [
       "array(['Contra Costa County', 'Sonoma County', 'Marin County',\n",
       "       'San Mateo County', 'Napa County', 'San Francisco County',\n",
       "       'Santa Clara County', 'Alameda County', 'Solano County'],\n",
       "      dtype=object)"
      ]
     },
     "execution_count": 10,
     "metadata": {},
     "output_type": "execute_result"
    }
   ],
   "source": [
    "#create a master reference dataframe that maps all census tracts in the bay to their type. This uses information \n",
    "#directly from the HMDA data, specifically the \"tract to median income\"\n",
    "path = \"/Users/ameliabaum/Desktop/Amelia/CRA_Thesis/communityreinvestmentact/data/parsed_data_1/\"\n",
    "files = [f for f in os.listdir(path) if f[-3:] == \"csv\"]\n",
    "dfs = []\n",
    "for file in files:\n",
    "#     print(file)\n",
    "#     print(len(files))\n",
    "    \n",
    "    df = pd.read_csv(path+file)\n",
    "    lite = df[[\"Geoid\", \"Tract\", \"Year\", \"type\", \"County\", \"CRA Eligible\"]]\n",
    "    \n",
    "    dfs.append(lite)\n",
    "    \n",
    "master = pd.concat(dfs, axis=0)\n",
    "len(master)\n",
    "master[master[\"Year\"] == 2009]['County'].unique()\n"
   ]
  },
  {
   "cell_type": "code",
   "execution_count": 11,
   "metadata": {},
   "outputs": [],
   "source": [
    "master.to_csv(\"/Users/ameliabaum/Desktop/Amelia/CRA_Thesis/communityreinvestmentact/data/reference/tracts_type_master_1.csv\", index=0) #exports it to csv"
   ]
  },
  {
   "cell_type": "code",
   "execution_count": null,
   "metadata": {},
   "outputs": [],
   "source": []
  }
 ],
 "metadata": {
  "kernelspec": {
   "display_name": "Python 3",
   "language": "python",
   "name": "python3"
  },
  "language_info": {
   "codemirror_mode": {
    "name": "ipython",
    "version": 3
   },
   "file_extension": ".py",
   "mimetype": "text/x-python",
   "name": "python",
   "nbconvert_exporter": "python",
   "pygments_lexer": "ipython3",
   "version": "3.6.8"
  }
 },
 "nbformat": 4,
 "nbformat_minor": 2
}
