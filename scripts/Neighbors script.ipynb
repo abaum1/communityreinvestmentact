{
 "cells": [
  {
   "cell_type": "code",
   "execution_count": 1,
   "metadata": {},
   "outputs": [],
   "source": [
    "import pandas as pd\n",
    "import geopandas as gp\n",
    "import matplotlib.pyplot as plt\n",
    "import os\n",
    "import json\n",
    "import time\n",
    "import numpy as np\n",
    "import fiona\n",
    "from geopandas import GeoDataFrame\n",
    "\n"
   ]
  },
  {
   "cell_type": "code",
   "execution_count": 2,
   "metadata": {},
   "outputs": [],
   "source": [
    "bay_county_names = [\"Alameda\", \"ContraCosta\", \"Sonoma\", \"Solano\", \"SanMateo\", \"SantaClara\", \"SanFrancisco\", \"Marin\",\"Napa\"] \n",
    "analysis_years = [\"2009\", \"2013\", \"2014\", \"2015\", \"2016\", \"2017\"]\n",
    "geo_data_path = \"/Users/ameliabaum/Desktop/Amelia/CRA_Thesis/communityreinvestmentact/data/CTs_geo_data_1/\"\n"
   ]
  },
  {
   "cell_type": "markdown",
   "metadata": {},
   "source": [
    "#### Concatenate all CTs in 9 counties for each year and writes the resulting data to csv\n",
    "\n",
    "I am trying to locate pairs of census tracts that are geographically proximate and demographically similar except for their CRA eligibility threshold as the first step towards establishing a regression discontinuity design study. "
   ]
  },
  {
   "cell_type": "code",
   "execution_count": 3,
   "metadata": {},
   "outputs": [
    {
     "name": "stdout",
     "output_type": "stream",
     "text": [
      "['Marin_2009', 'SanMateo_2009', 'Napa_2009', 'Solano_2009', 'Sonoma_2009', 'SanFrancisco_2009', 'ContraCosta_2009', 'SantaClara_2009', 'Alameda_2009']\n",
      "9\n"
     ]
    },
    {
     "data": {
      "text/plain": [
       "Index(['STATEFP00', 'COUNTYFP00', 'TRACTCE00', 'CTIDFP00', 'NAME00',\n",
       "       'NAMELSAD00', 'MTFCC00', 'FUNCSTAT00', 'Tract', 'Year', 'County',\n",
       "       'type', 'CRA Eligib', '% HI borro', '# HI borro', '% HI bor_1',\n",
       "       '# HI bor_1', '% LI borro', '# LI borro', '%LI borrow', '# LI bor_1',\n",
       "       'Geoid', 'geometry'],\n",
       "      dtype='object')"
      ]
     },
     "metadata": {},
     "output_type": "display_data"
    },
    {
     "name": "stdout",
     "output_type": "stream",
     "text": [
      "2009 succeeded\n",
      "['Solano_2013', 'Napa_2013', 'SanMateo_2013', 'Marin_2013', 'Alameda_2013', 'SantaClara_2013', 'ContraCosta_2013', 'SanFrancisco_2013', 'Sonoma_2013']\n",
      "9\n"
     ]
    },
    {
     "data": {
      "text/plain": [
       "Index(['STATEFP10', 'COUNTYFP10', 'TRACTCE10', 'GEOID10', 'NAME10',\n",
       "       'NAMELSAD10', 'MTFCC10', 'FUNCSTAT10', 'ALAND10', 'AWATER10',\n",
       "       'INTPTLAT10', 'INTPTLON10', 'NAME', 'Tract', 'Year', 'County', 'type',\n",
       "       'CRA Eligib', '% HI borro', '# HI borro', '% HI bor_1', '# HI bor_1',\n",
       "       '% LI borro', '# LI borro', '%LI borrow', '# LI bor_1', 'Geoid',\n",
       "       'geometry'],\n",
       "      dtype='object')"
      ]
     },
     "metadata": {},
     "output_type": "display_data"
    },
    {
     "name": "stdout",
     "output_type": "stream",
     "text": [
      "2013 succeeded\n",
      "['Solano_2014', 'Napa_2014', 'SanMateo_2014', 'Marin_2014', 'Alameda_2014', 'SantaClara_2014', 'ContraCosta_2014', 'SanFrancisco_2014', 'Sonoma_2014']\n",
      "9\n"
     ]
    },
    {
     "data": {
      "text/plain": [
       "Index(['STATEFP10', 'COUNTYFP10', 'TRACTCE10', 'GEOID10', 'NAME10',\n",
       "       'NAMELSAD10', 'MTFCC10', 'FUNCSTAT10', 'ALAND10', 'AWATER10',\n",
       "       'INTPTLAT10', 'INTPTLON10', 'NAME', 'Tract', 'Year', 'County', 'type',\n",
       "       'CRA Eligib', '% HI borro', '# HI borro', '% HI bor_1', '# HI bor_1',\n",
       "       '% LI borro', '# LI borro', '%LI borrow', '# LI bor_1', 'Geoid',\n",
       "       'geometry'],\n",
       "      dtype='object')"
      ]
     },
     "metadata": {},
     "output_type": "display_data"
    },
    {
     "name": "stdout",
     "output_type": "stream",
     "text": [
      "2014 succeeded\n",
      "['Napa_2015', 'Solano_2015', 'SanMateo_2015', 'Marin_2015', 'Alameda_2015', 'ContraCosta_2015', 'SantaClara_2015', 'Sonoma_2015', 'SanFrancisco_2015']\n",
      "9\n"
     ]
    },
    {
     "data": {
      "text/plain": [
       "Index(['STATEFP10', 'COUNTYFP10', 'TRACTCE10', 'GEOID10', 'NAME10',\n",
       "       'NAMELSAD10', 'MTFCC10', 'FUNCSTAT10', 'ALAND10', 'AWATER10',\n",
       "       'INTPTLAT10', 'INTPTLON10', 'NAME', 'Tract', 'Year', 'County', 'type',\n",
       "       'CRA Eligib', '% HI borro', '# HI borro', '% HI bor_1', '# HI bor_1',\n",
       "       '% LI borro', '# LI borro', '%LI borrow', '# LI bor_1', 'Geoid',\n",
       "       'geometry'],\n",
       "      dtype='object')"
      ]
     },
     "metadata": {},
     "output_type": "display_data"
    },
    {
     "name": "stdout",
     "output_type": "stream",
     "text": [
      "2015 succeeded\n",
      "['Alameda_2016', 'ContraCosta_2016', 'SantaClara_2016', 'Sonoma_2016', 'SanFrancisco_2016', 'Napa_2016', 'Solano_2016', 'SanMateo_2016', 'Marin_2016']\n",
      "9\n"
     ]
    },
    {
     "data": {
      "text/plain": [
       "Index(['STATEFP10', 'COUNTYFP10', 'TRACTCE10', 'GEOID10', 'NAME10',\n",
       "       'NAMELSAD10', 'MTFCC10', 'FUNCSTAT10', 'ALAND10', 'AWATER10',\n",
       "       'INTPTLAT10', 'INTPTLON10', 'NAME', 'Tract', 'Year', 'County', 'type',\n",
       "       'CRA Eligib', '% HI borro', '# HI borro', '% HI bor_1', '# HI bor_1',\n",
       "       '% LI borro', '# LI borro', '%LI borrow', '# LI bor_1', 'Geoid',\n",
       "       'geometry'],\n",
       "      dtype='object')"
      ]
     },
     "metadata": {},
     "output_type": "display_data"
    },
    {
     "name": "stdout",
     "output_type": "stream",
     "text": [
      "2016 succeeded\n",
      "['Alameda_2017', 'SantaClara_2017', 'ContraCosta_2017', 'SanFrancisco_2017', 'Sonoma_2017', 'Solano_2017', 'Napa_2017', 'SanMateo_2017', 'Marin_2017']\n",
      "9\n"
     ]
    },
    {
     "data": {
      "text/plain": [
       "Index(['STATEFP10', 'COUNTYFP10', 'TRACTCE10', 'GEOID10', 'NAME10',\n",
       "       'NAMELSAD10', 'MTFCC10', 'FUNCSTAT10', 'ALAND10', 'AWATER10',\n",
       "       'INTPTLAT10', 'INTPTLON10', 'NAME', 'Tract', 'Year', 'County', 'type',\n",
       "       'CRA Eligib', '% HI borro', '# HI borro', '% HI bor_1', '# HI bor_1',\n",
       "       '% LI borro', '# LI borro', '%LI borrow', '# LI bor_1', 'Geoid',\n",
       "       'geometry'],\n",
       "      dtype='object')"
      ]
     },
     "metadata": {},
     "output_type": "display_data"
    },
    {
     "name": "stdout",
     "output_type": "stream",
     "text": [
      "2017 succeeded\n"
     ]
    }
   ],
   "source": [
    "#concatenates all the census tracts in a given year from all the counties in the Bay Area. This is because when selectiing\n",
    "#neighbors I do not want to eliminate census tracts that border each other but are separated by administrative \n",
    "#boundaries (ie: cities, counties), so I consider the congruous set of tracts for this analysis\n",
    "\n",
    "for year in analysis_years:\n",
    "    county_folders = [f for f in os.listdir(\"/Users/ameliabaum/Desktop/Amelia/CRA_Thesis/communityreinvestmentact/data/CTs_geo_data_1/\")\n",
    "                     if f[-3:] != \".DS_Store\"\n",
    "                     and f.split('_')[1] == (str(year))]    \n",
    "    countygfs = []\n",
    "    print(county_folders)\n",
    "    \n",
    "    for folder in county_folders:\n",
    "        county = folder.split(\"_\")[0]\n",
    "        gdf = gp.read_file(geo_data_path+folder+\"/\"+county+\"_geoparsed_\"+year+\".shp\")\n",
    "        countygfs.append(gdf)\n",
    "    print(len(countygfs))\n",
    "    try:\n",
    "        to_write = pd.concat(countygfs, axis=0) #concatenates all the dataframes from that year together\n",
    "        display(to_write.columns)\n",
    "        combined_shapefile_path = \"/Users/ameliabaum/Desktop/Amelia/CRA_Thesis/communityreinvestmentact/data/combined_shapefiles/\"\n",
    "        to_write.to_file(driver='ESRI Shapefile', filename=combined_shapefile_path+\"/all_bay_concat_\"+year+\"/all_bay_concat_\"+year+\".shp\")\n",
    "        print('{0} succeeded'.format(year))\n",
    "    except Exception as e:\n",
    "        print('{0} failed'.format(year))\n",
    "    \n"
   ]
  },
  {
   "cell_type": "markdown",
   "metadata": {},
   "source": [
    "#### Building Geographic Neighbors Dictionary\n",
    "\n",
    "Takes in a geodataframe which has the HMDA information geolocated to polygons, concatenated for all of the 9 counties. Builds a dictionary where the keys are each unique tract number and the values are an array of geographic neighbors \n",
    "of that tract, and the eligibility threshold does not match the tract in question. The first function \"find_neighbors_all\" finds all of the CTs that are geographic neighbors and are oppositely CRA coded, the second function \"find_neighbors_midmod\" finds neighbors only for those tracts that are middle or moderate income, by eliminating high (>120% AMI) and low (<50% AMI) tracts."
   ]
  },
  {
   "cell_type": "code",
   "execution_count": 4,
   "metadata": {},
   "outputs": [],
   "source": [
    "def find_neighbors_all(geodataframe, year):\n",
    "    neighbors_dict = {}\n",
    "    for df_row in geodataframe.iterrows(): #index, then row\n",
    "        polygon = df_row[1][\"geometry\"]\n",
    "        \n",
    "\n",
    "        eligibility = df_row[1][\"CRA Eligib\"]\n",
    "        if (year == '2009'):\n",
    "            tract = (df_row[1][\"CTIDFP00\"])\n",
    "            neighbors_dict[tract] = list(geodataframe[geodataframe.apply(lambda row: row['geometry'].touches(polygon) and \n",
    "            row['CRA Eligib'] != eligibility, axis=1)][\"CTIDFP00\"].values)#list so that it is easier to write to json later\n",
    "        else:\n",
    "            tract = (df_row[1][\"GEOID10\"])\n",
    "            neighbors_dict[tract] = list(geodataframe[geodataframe.apply(lambda row: row['geometry'].touches(polygon) and \n",
    "            row['CRA Eligib'] != eligibility, axis=1)][\"GEOID10\"].values)#list so that it is easier to write to json later\n",
    "  \n",
    "    return neighbors_dict\n",
    "\n",
    "    \n",
    "    \n"
   ]
  },
  {
   "cell_type": "code",
   "execution_count": 5,
   "metadata": {},
   "outputs": [],
   "source": [
    "def find_neighbors_midmod(geodataframe, year):\n",
    "    neighbors_dict = {}\n",
    "    geodf_mid_mod = geodataframe[(geodataframe['type'] == \"mod\") | (geodataframe[\"type\"] == \"mid\")]\n",
    "    for df_row in geodf_mid_mod.iterrows(): #index, then row\n",
    "        polygon = df_row[1][\"geometry\"]\n",
    "        \n",
    "\n",
    "        eligibility = df_row[1][\"CRA Eligib\"]\n",
    "        if (year == '2009'):\n",
    "            tract = (df_row[1][\"CTIDFP00\"])\n",
    "            neighbors_dict[tract] = list(geodf_mid_mod[geodf_mid_mod.apply(lambda row: row['geometry'].touches(polygon) and \n",
    "                    row['CRA Eligib'] != eligibility, axis=1)][\"CTIDFP00\"].values)#list so that it is easier to write to json later\n",
    "        else:\n",
    "            tract = (df_row[1][\"GEOID10\"])\n",
    "            neighbors_dict[tract] = list(geodf_mid_mod[geodf_mid_mod.apply(lambda row: row['geometry'].touches(polygon) and \n",
    "                    row['CRA Eligib'] != eligibility, axis=1)][\"GEOID10\"].values)#list so that it is easier to write to json later\n",
    "    return neighbors_dict"
   ]
  },
  {
   "cell_type": "code",
   "execution_count": 6,
   "metadata": {},
   "outputs": [
    {
     "data": {
      "text/plain": [
       "1559"
      ]
     },
     "metadata": {},
     "output_type": "display_data"
    }
   ],
   "source": [
    "for year in [\"2016\"]:\n",
    "    geodf = gp.read_file('/Users/ameliabaum/Desktop/Amelia/CRA_Thesis/communityreinvestmentact/data/combined_shapefiles/all_bay_concat_'+year+'/all_bay_concat_'+year+'.shp')\n",
    "    display(len(geodf))\n",
    "    \n",
    "    "
   ]
  },
  {
   "cell_type": "markdown",
   "metadata": {},
   "source": [
    "#### This takes a very long time to run, but since both the all tracts and mid mod dictionaries are saves as npy files it shouldn't have to be run repeatedly"
   ]
  },
  {
   "cell_type": "code",
   "execution_count": 7,
   "metadata": {},
   "outputs": [
    {
     "name": "stdout",
     "output_type": "stream",
     "text": [
      "finding all neighbors for 2009\n",
      "finding all neighbors for 2013\n",
      "finding all neighbors for 2014\n",
      "finding all neighbors for 2015\n",
      "finding all neighbors for 2016\n",
      "finding all neighbors for 2017\n"
     ]
    },
    {
     "data": {
      "text/plain": [
       "473.92005705833435"
      ]
     },
     "execution_count": 7,
     "metadata": {},
     "output_type": "execute_result"
    }
   ],
   "source": [
    "start = time.time()\n",
    "neighbors_years = {}\n",
    "neighbors_years_midmod = {}\n",
    "\n",
    "\n",
    "for year in analysis_years:\n",
    "    #reads in a shapefile of all the CTs in the 9 counties of a given year\n",
    "    geodf = gp.read_file('/Users/ameliabaum/Desktop/Amelia/CRA_Thesis/communityreinvestmentact/data/combined_shapefiles/all_bay_concat_'+year+'/all_bay_concat_'+year+'.shp')\n",
    "    #applies the find neighbors function from above\n",
    "#     print(\"finding mid mod neighbors for \"+ str(year))\n",
    "\n",
    "#     neighbors_years_midmod[year] = find_neighbors_midmod(geodf, year) #for only mid mod tracts\n",
    "    print(\"finding all neighbors for \"+ str(year))\n",
    "\n",
    "    neighbors_years[year] = find_neighbors_all(geodf, year) #adds the dictionary of neighbors for a given year to the master\n",
    "    #dictionary of neighbors for all of the years\n",
    "    \n",
    "\n",
    "#writes the dictionary to json, if needed\n",
    "#     with open('/Users/ameliabaum/Desktop/Amelia/CRA_Thesis/communityreinvestmentact/data/neighbors_all_'+str(year)+'.json', 'w') as fp:\n",
    "#         json.dump(neighbors, fp)\n",
    "end =time.time()\n",
    "elapsed = end-start\n",
    "\n",
    "elapsed"
   ]
  },
  {
   "cell_type": "markdown",
   "metadata": {},
   "source": [
    "#### Saves the neighbors dictionary as a numpy object, to be read in later as a dictionary\n"
   ]
  },
  {
   "cell_type": "code",
   "execution_count": 18,
   "metadata": {},
   "outputs": [],
   "source": [
    "np.save('/Users/ameliabaum/Desktop/Amelia/CRA_Thesis/communityreinvestmentact/data/neighbors/neighbors_all_allyears_new.npy', neighbors_years)\n",
    "\n"
   ]
  },
  {
   "cell_type": "code",
   "execution_count": 31,
   "metadata": {},
   "outputs": [],
   "source": [
    "# np.save('/Users/ameliabaum/Desktop/Amelia/CRA_Thesis/communityreinvestmentact/data/neighbors/neighbors_midmod_allyears_new.npy', neighbors_years_midmod)"
   ]
  },
  {
   "cell_type": "markdown",
   "metadata": {},
   "source": [
    "#### Load saved npy files with neighbors"
   ]
  },
  {
   "cell_type": "code",
   "execution_count": 32,
   "metadata": {},
   "outputs": [
    {
     "name": "stdout",
     "output_type": "stream",
     "text": [
      "num all tracts 2009 1375\n",
      "num all tracts 2013 1533\n"
     ]
    }
   ],
   "source": [
    "neighbors_years = np.load('/Users/ameliabaum/Desktop/Amelia/CRA_Thesis/communityreinvestmentact/data/neighbors/neighbors_all_allyears_new.npy').item()\n",
    "neighbors_years_midmod = np.load('/Users/ameliabaum/Desktop/Amelia/CRA_Thesis/communityreinvestmentact/data/neighbors/neighbors_midmod_allyears_new.npy').item()\n",
    "\n",
    "\n",
    "\n",
    "# print(\"num mid mod tracts 2009 \", len(neighbors_years_midmod['2009'].values())) #910 tracts in the midmod dict\n",
    "print(\"num all tracts 2009\", len(neighbors_years[\"2009\"].values())) # 1397 tracts in the all dict\n",
    "\n",
    "# print(\"num mid mod tracts 2013\", len(neighbors_years_midmod['2013'].values())) #910 tracts in the midmod dict\n",
    "print(\"num all tracts 2013\", len(neighbors_years['2013'].values())) # 1397 tracts in the all dict\n",
    "\n"
   ]
  },
  {
   "cell_type": "markdown",
   "metadata": {},
   "source": [
    "#### Creates a dataframe of all the tracts with neighbors by year (2009 to start), indicating which are CRA eligible. Exports to csv called \"boolean_tracts_year\"\n"
   ]
  },
  {
   "cell_type": "code",
   "execution_count": 33,
   "metadata": {},
   "outputs": [
    {
     "name": "stdout",
     "output_type": "stream",
     "text": [
      "num all tracts that have at least one oppositely coded neighbor 968\n"
     ]
    }
   ],
   "source": [
    "ntracts = []\n",
    "years = []\n",
    "master = pd.read_csv('/Users/ameliabaum/Desktop/Amelia/CRA_Thesis/communityreinvestmentact/data/reference/tracts_type_master_1.csv')\n",
    "boolean_tracts = pd.DataFrame()\n",
    "for year in ['2013']: #- this is for the recovery models, 2013-2017. they use the 2010 tract categorizations \n",
    "    for tract in neighbors_years[year]:\n",
    "        if (len(neighbors_years[year][tract]) > 0): #if the tract has neighbors\n",
    "            ntracts.append(tract) #add it to the list \"ntracts\"\n",
    "            years.append(year) #and add the year to the years list\n",
    "    cra_ref = master[master[\"Year\"] == int(year)] #reference dataframe for just the year in question\n",
    "            \n",
    "\n",
    "boolean_tracts[\"Tract\"] = [int(tract) for tract in ntracts]#add the column 'Tract' to boolean_tracts of all of th tracts with neighbors\n",
    "boolean_tracts[\"Year\"] = years #add the column 'Year' to boolean_tracts of all of the years\n",
    "# merge the boolean_tracts_all dataframe (all the tracts with neighbors), with their respective CRA coding\n",
    "# based on the reference dataframe\n",
    "boolean_tracts_withcra = pd.merge(boolean_tracts, cra_ref,  how='inner', left_on=\"Tract\", right_on ='Geoid')\n",
    "boolean_tracts_withcra = boolean_tracts_withcra[[\"Geoid\", \"Year_x\", \"Tract_y\", \"type\", \"County\", \"CRA Eligible\"]]\n",
    "\n",
    "\n",
    "boolean_tracts_withcra.to_csv(\"/Users/ameliabaum/Desktop/Amelia/CRA_Thesis/communityreinvestmentact/data/neighbors/boolean_tracts_all_2010.csv\", index=False)\n",
    "print(\"num all tracts that have at least one oppositely coded neighbor\", len(boolean_tracts_withcra))\n"
   ]
  },
  {
   "cell_type": "code",
   "execution_count": 12,
   "metadata": {},
   "outputs": [
    {
     "ename": "KeyError",
     "evalue": "'2013'",
     "output_type": "error",
     "traceback": [
      "\u001b[0;31m---------------------------------------------------------------------------\u001b[0m",
      "\u001b[0;31mKeyError\u001b[0m                                  Traceback (most recent call last)",
      "\u001b[0;32m<ipython-input-12-ed1af323f35b>\u001b[0m in \u001b[0;36m<module>\u001b[0;34m\u001b[0m\n\u001b[1;32m      4\u001b[0m \u001b[0mboolean_tracts_midmod\u001b[0m \u001b[0;34m=\u001b[0m \u001b[0mpd\u001b[0m\u001b[0;34m.\u001b[0m\u001b[0mDataFrame\u001b[0m\u001b[0;34m(\u001b[0m\u001b[0;34m)\u001b[0m\u001b[0;34m\u001b[0m\u001b[0;34m\u001b[0m\u001b[0m\n\u001b[1;32m      5\u001b[0m \u001b[0;32mfor\u001b[0m \u001b[0myear\u001b[0m \u001b[0;32min\u001b[0m \u001b[0;34m[\u001b[0m\u001b[0;34m\"2013\"\u001b[0m\u001b[0;34m]\u001b[0m\u001b[0;34m:\u001b[0m\u001b[0;34m\u001b[0m\u001b[0;34m\u001b[0m\u001b[0m\n\u001b[0;32m----> 6\u001b[0;31m     \u001b[0;32mfor\u001b[0m \u001b[0mtract\u001b[0m \u001b[0;32min\u001b[0m \u001b[0mneighbors_years_midmod\u001b[0m\u001b[0;34m[\u001b[0m\u001b[0myear\u001b[0m\u001b[0;34m]\u001b[0m\u001b[0;34m:\u001b[0m\u001b[0;34m\u001b[0m\u001b[0;34m\u001b[0m\u001b[0m\n\u001b[0m\u001b[1;32m      7\u001b[0m         \u001b[0;32mif\u001b[0m \u001b[0;34m(\u001b[0m\u001b[0mlen\u001b[0m\u001b[0;34m(\u001b[0m\u001b[0mneighbors_years_midmod\u001b[0m\u001b[0;34m[\u001b[0m\u001b[0myear\u001b[0m\u001b[0;34m]\u001b[0m\u001b[0;34m[\u001b[0m\u001b[0mtract\u001b[0m\u001b[0;34m]\u001b[0m\u001b[0;34m)\u001b[0m \u001b[0;34m>\u001b[0m \u001b[0;36m0\u001b[0m\u001b[0;34m)\u001b[0m\u001b[0;34m:\u001b[0m \u001b[0;31m#if the tract has neighbors\u001b[0m\u001b[0;34m\u001b[0m\u001b[0;34m\u001b[0m\u001b[0m\n\u001b[1;32m      8\u001b[0m             \u001b[0mntracts\u001b[0m\u001b[0;34m.\u001b[0m\u001b[0mappend\u001b[0m\u001b[0;34m(\u001b[0m\u001b[0mtract\u001b[0m\u001b[0;34m)\u001b[0m \u001b[0;31m#add it to the list \"ntracts\"\u001b[0m\u001b[0;34m\u001b[0m\u001b[0;34m\u001b[0m\u001b[0m\n",
      "\u001b[0;31mKeyError\u001b[0m: '2013'"
     ]
    }
   ],
   "source": [
    "# ntracts = []\n",
    "# years = []\n",
    "# master = pd.read_csv('/Users/ameliabaum/Desktop/Amelia/CRA_Thesis/communityreinvestmentact/data/reference/tracts_type_master_1.csv')\n",
    "# boolean_tracts_midmod = pd.DataFrame()\n",
    "# for year in [\"2013\"]:\n",
    "#     for tract in neighbors_years_midmod[year]:\n",
    "#         if (len(neighbors_years_midmod[year][tract]) > 0): #if the tract has neighbors\n",
    "#             ntracts.append(tract) #add it to the list \"ntracts\"\n",
    "#             years.append(year) #and add the year to the years list\n",
    "#     cra_ref_midmod = master[master[\"Year\"] == int(year)] #reference dataframe for just the year in question\n",
    "            \n",
    "\n",
    "# boolean_tracts_midmod[\"Tract\"] = [int(tract) for tract in ntracts] #add the column 'Tract' to boolean_tracts of all of th tracts with neighbors\n",
    "# boolean_tracts_midmod[\"Year\"] = years #add the column 'Year' to boolean_tracts of all of the years\n",
    "\n",
    "\n",
    "# #merge the boolean_tracts_all dataframe (all the tracts with neighbors), with their respective CRA coding\n",
    "# #based on the reference dataframe\n",
    "# boolean_tracts_midmod_withcra = pd.merge(boolean_tracts_midmod, cra_ref_midmod,  how='inner', left_on=\"Tract\", right_on ='Geoid')\n",
    "# # boolean_tracts_midmod_withcra.to_csv(\"/Users/ameliabaum/Desktop/Amelia/CRA_Thesis/communityreinvestmentact/data/neighbors/boolean_tracts_midmod_2009.csv\", index=False)\n",
    "# boolean_tracts_midmod_withcra.to_csv(\"/Users/ameliabaum/Desktop/Amelia/CRA_Thesis/communityreinvestmentact/data/neighbors/boolean_tracts_midmod_2010.csv\", index=False)\n",
    "\n",
    "\n",
    "# print(\"num mid or mod tracts that have at least one oppositely coded neighbor\", len(boolean_tracts_midmod))\n"
   ]
  },
  {
   "cell_type": "code",
   "execution_count": null,
   "metadata": {},
   "outputs": [],
   "source": [
    "# ntracts = []\n",
    "# years = []\n",
    "# boolean_tracts_midmod = pd.DataFrame()\n",
    "# for year in [\"2009\"]:\n",
    "#     for tract in neighbors_years_midmod[year]:\n",
    "#         if (len(neighbors_years_midmod[year][tract]) > 0): #if the tract has neighbors\n",
    "#             ntracts.append(tract) #add it to the list \"ntracts\"\n",
    "#             years.append(year) #and add the year to the years list\n",
    "#     cra_ref_midmod = master[master[\"Year\"] == int(year)] #reference dataframe for just the year in question\n",
    "            \n",
    "\n",
    "# boolean_tracts_midmod[\"Tract\"] = [int(tract) for tract in ntracts] #add the column 'Tract' to boolean_tracts of all of th tracts with neighbors\n",
    "# boolean_tracts_midmod[\"Year\"] = years #add the column 'Year' to boolean_tracts of all of the years\n",
    "\n",
    "\n",
    "# #merge the boolean_tracts_all dataframe (all the tracts with neighbors), with their respective CRA coding\n",
    "# #based on the reference dataframe\n",
    "# boolean_tracts_midmod_withcra = pd.merge(boolean_tracts_midmod, cra_ref_midmod,  how='inner', left_on=\"Tract\", right_on ='Geoid')\n",
    "# # boolean_tracts_midmod_withcra.to_csv(\"/Users/ameliabaum/Desktop/Amelia/CRA_Thesis/communityreinvestmentact/data/neighbors/boolean_tracts_midmod_2009.csv\", index=False)\n",
    "# boolean_tracts_midmod_withcra.to_csv(\"/Users/ameliabaum/Desktop/Amelia/CRA_Thesis/communityreinvestmentact/data/neighbors/boolean_tracts_midmod_2009.csv\", index=False)\n",
    "\n",
    "\n",
    "# print(\"num mid or mod tracts that have at least one oppositely coded neighbor\", len(boolean_tracts_midmod))\n"
   ]
  },
  {
   "cell_type": "code",
   "execution_count": 35,
   "metadata": {},
   "outputs": [
    {
     "name": "stdout",
     "output_type": "stream",
     "text": [
      "num all tracts that have at least one oppositely coded neighbor 792\n"
     ]
    }
   ],
   "source": [
    "ntracts = []\n",
    "years = []\n",
    "master = pd.read_csv('/Users/ameliabaum/Desktop/Amelia/CRA_Thesis/communityreinvestmentact/data/reference/tracts_type_master_1.csv')\n",
    "boolean_tracts = pd.DataFrame()\n",
    "for year in ['2009']: #this is for all the models to avoid endogeneity \n",
    "    for tract in neighbors_years[year]:\n",
    "        if (len(neighbors_years[year][tract]) > 0): #if the tract has neighbors\n",
    "            ntracts.append(tract) #add it to the list \"ntracts\"\n",
    "            years.append(year) #and add the year to the years list\n",
    "    cra_ref = master[master[\"Year\"] == int(year)] #reference dataframe for just the year in question\n",
    "            \n",
    "\n",
    "boolean_tracts[\"Tract\"] = [int(tract) for tract in ntracts]#add the column 'Tract' to boolean_tracts of all of th tracts with neighbors\n",
    "boolean_tracts[\"Year\"] = years #add the column 'Year' to boolean_tracts of all of the years\n",
    "# merge the boolean_tracts_all dataframe (all the tracts with neighbors), with their respective CRA coding\n",
    "# based on the reference dataframe\n",
    "boolean_tracts_withcra = pd.merge(boolean_tracts, cra_ref,  how='inner', left_on=\"Tract\", right_on ='Geoid')\n",
    "boolean_tracts_withcra = boolean_tracts_withcra[[\"Geoid\", \"Year_x\", \"Tract_y\", \"type\", \"County\", \"CRA Eligible\"]]\n",
    "\n",
    "\n",
    "boolean_tracts_withcra.to_csv(\"/Users/ameliabaum/Desktop/Amelia/CRA_Thesis/communityreinvestmentact/data/neighbors/boolean_tracts_all_2009.csv\", index=False)\n",
    "print(\"num all tracts that have at least one oppositely coded neighbor\", len(boolean_tracts_withcra))\n"
   ]
  },
  {
   "cell_type": "code",
   "execution_count": null,
   "metadata": {},
   "outputs": [],
   "source": []
  }
 ],
 "metadata": {
  "kernelspec": {
   "display_name": "Python 3",
   "language": "python",
   "name": "python3"
  },
  "language_info": {
   "codemirror_mode": {
    "name": "ipython",
    "version": 3
   },
   "file_extension": ".py",
   "mimetype": "text/x-python",
   "name": "python",
   "nbconvert_exporter": "python",
   "pygments_lexer": "ipython3",
   "version": "3.6.8"
  }
 },
 "nbformat": 4,
 "nbformat_minor": 2
}
