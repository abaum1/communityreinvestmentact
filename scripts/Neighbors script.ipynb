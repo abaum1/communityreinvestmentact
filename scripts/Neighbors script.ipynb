{
 "cells": [
  {
   "cell_type": "code",
   "execution_count": 1,
   "metadata": {},
   "outputs": [],
   "source": [
    "import pandas as pd\n",
    "import geopandas as gp\n",
    "import matplotlib.pyplot as plt\n",
    "import os\n",
    "import json\n",
    "import time\n",
    "import numpy as np\n"
   ]
  },
  {
   "cell_type": "code",
   "execution_count": 2,
   "metadata": {},
   "outputs": [],
   "source": [
    "bay_county_names = [\"Alameda\", \"ContraCosta\", \"Sonoma\", \"Solano\", \"SanMateo\", \"SantaClara\", \"SanFrancisco\", \"Marin\",\"Napa\"] \n",
    "analysis_years = [\"2008\", \"2009\",\"2010\", \"2011\", \"2012\", \"2013\", \"2014\", \"2015\", \"2016\", \"2017\"]"
   ]
  },
  {
   "cell_type": "markdown",
   "metadata": {},
   "source": [
    "#### Concatenate all CTs in 9 counties for each year and writes the resulting data to csv\n",
    "\n",
    "I am trying to locate pairs of census tracts that are geographically proximate and demographically similar except for their CRA eligibility threshold as the first step towards establishing a regression discontinuity design study. "
   ]
  },
  {
   "cell_type": "code",
   "execution_count": 3,
   "metadata": {},
   "outputs": [],
   "source": [
    "#concatenates all the census tracts in a given year from all the counties in the Bay Area. This is because when selectiing\n",
    "#neighbors I do not want to eliminate census tracts that border each other but are separated by administrative \n",
    "#boundaries (ie: cities, counties), so I consider the congruous set of tracts for this analysis\n",
    "\n",
    "\n",
    "for year in analysis_years:\n",
    "    county_files = [f for f in os.listdir(\"/Users/ameliabaum/Desktop/Amelia/CRA_Thesis/communityreinvestmentact/data/CTs_geo_data_1/\") \n",
    "                    if f[-3:] == \"csv\"\n",
    "                    and f.split('_')[2] == (str(year) +\".csv\")]\n",
    "    countydfs = []\n",
    "    for file in county_files:\n",
    "        df = pd.read_csv(\"/Users/ameliabaum/Desktop/Amelia/CRA_Thesis/communityreinvestmentact/data/CTs_geo_data_1/\"+file)\n",
    "        countydfs.append(df)\n",
    "        \n",
    "    to_write = pd.concat(countydfs, axis=0) #concatenates all the dataframes from that year together\n",
    "    #to_write.to_csv(\"/Users/ameliabaum/Desktop/Amelia/CRA_Thesis/communityreinvestmentact/data/CTs_geo_data_1/all_bay_concat_\"+year+\".csv\", index=False)\n"
   ]
  },
  {
   "cell_type": "markdown",
   "metadata": {},
   "source": [
    "#### Building Geographic Neighbors Dictionary\n",
    "\n",
    "Takes in a geodataframe which has the HMDA information geolocated to polygons, concatenated for all of the 9 counties. Builds a dictionary where the keys are each unique tract number and the values are an array of geographic neighbors \n",
    "of that tract, and the eligibility threshold does not match the tract in question. The first function \"find_neighbors_all\" finds all of the CTs that are geographic neighbors and are oppositely CRA coded, the second function \"find_neighbors_midmod\" finds neighbors only for those tracts that are middle or moderate income, by eliminating high (>120% AMI) and low (<50% AMI) tracts."
   ]
  },
  {
   "cell_type": "code",
   "execution_count": 4,
   "metadata": {},
   "outputs": [],
   "source": [
    "def find_neighbors_all(geodataframe):\n",
    "    neighbors_dict = {}\n",
    "    for df_row in geodataframe.iterrows(): #index, then row\n",
    "        polygon = df_row[1][\"geometry\"]\n",
    "        tract = (df_row[1][\"ctidfp00\"])\n",
    "\n",
    "        eligibility = df_row[1][\"cra_eligib\"]\n",
    "        neighbors_dict[tract] = list(geodataframe[geodataframe.apply(lambda row: row['geometry'].touches(polygon) and \n",
    "                row['cra_eligib'] != eligibility, axis=1)][\"ctidfp00\"].values)#list so that it is easier to write to json later\n",
    "         \n",
    "    return neighbors_dict\n",
    "\n",
    "    \n",
    "    \n"
   ]
  },
  {
   "cell_type": "code",
   "execution_count": 27,
   "metadata": {},
   "outputs": [],
   "source": [
    "def find_neighbors_midmod(geodataframe):\n",
    "    neighbors_dict = {}\n",
    "    geodf_mid_mod = geodataframe[(geodataframe['type'] == \"mod\") | (geodataframe[\"type\"] == \"mid\")]\n",
    "    for df_row in geodf_mid_mod.iterrows(): #index, then row\n",
    "        polygon = df_row[1][\"geometry\"]\n",
    "        tract = (df_row[1][\"ctidfp00\"])\n",
    "\n",
    "        eligibility = df_row[1][\"cra_eligib\"]\n",
    "        neighbors_dict[tract] = list(geodf_mid_mod[geodf_mid_mod.apply(lambda row: row['geometry'].touches(polygon) and \n",
    "                row['cra_eligib'] != eligibility, axis=1)][\"ctidfp00\"].values)#list so that it is easier to write to json later\n",
    "         \n",
    "    return neighbors_dict"
   ]
  },
  {
   "cell_type": "markdown",
   "metadata": {},
   "source": [
    "#### This takes a very long time to run, but since both the all tracts and mid mod dictionaries are saves as npy files it shouldn't have to be run repeatedly"
   ]
  },
  {
   "cell_type": "code",
   "execution_count": 29,
   "metadata": {},
   "outputs": [
    {
     "name": "stdout",
     "output_type": "stream",
     "text": [
      "finding mid mod neighbors for 2008\n",
      "finding mid mod neighbors for 2009\n",
      "finding mid mod neighbors for 2010\n",
      "finding mid mod neighbors for 2011\n",
      "finding mid mod neighbors for 2012\n",
      "finding mid mod neighbors for 2013\n",
      "finding mid mod neighbors for 2014\n",
      "finding mid mod neighbors for 2015\n",
      "finding mid mod neighbors for 2016\n",
      "finding mid mod neighbors for 2017\n"
     ]
    },
    {
     "data": {
      "text/plain": [
       "328.1445622444153"
      ]
     },
     "execution_count": 29,
     "metadata": {},
     "output_type": "execute_result"
    }
   ],
   "source": [
    "start = time.time()\n",
    "neighbors_years = {}\n",
    "neighbors_years_midmod = {}\n",
    "\n",
    "\n",
    "for year in analysis_years:\n",
    "    #reads in a shapefile of all the CTs in the 9 counties of a given year\n",
    "    geodf = gp.read_file('/Users/ameliabaum/Desktop/Amelia/CRA_Thesis/communityreinvestmentact/data/combined_shapefiles/all_bay_concat_'+year+'/all_bay_concat_'+year+'.shp')\n",
    "    #print(\"finding all neighbors for \"+ str(year))\n",
    "    #applies the find neighbors function from above\n",
    "    #neighbors_years[year] = find_neighbors_midmod(geodf) #for only mid mod tracts\n",
    "    #neighbors_years[year] = find_neighbors_all(geodf) #adds the dictionary of neighbors for a given year to the master\n",
    "    print(\"finding mid mod neighbors for \"+ str(year))\n",
    "    neighbors_years_midmod[year] = find_neighbors_midmod(geodf)\n",
    "    #dictionary of neighbors for all of the years\n",
    "    \n",
    "\n",
    "#writes the dictionary to json, if needed\n",
    "#     with open('/Users/ameliabaum/Desktop/Amelia/CRA_Thesis/communityreinvestmentact/data/neighbors_all_'+str(year)+'.json', 'w') as fp:\n",
    "#         json.dump(neighbors, fp)\n",
    "end =time.time()\n",
    "elapsed = end-start\n",
    "\n",
    "elapsed"
   ]
  },
  {
   "cell_type": "markdown",
   "metadata": {},
   "source": [
    "#### Saves the neighbors dictionary as a numpy object, to be read in later as a dictionary\n"
   ]
  },
  {
   "cell_type": "code",
   "execution_count": 40,
   "metadata": {},
   "outputs": [],
   "source": [
    "np.save('/Users/ameliabaum/Desktop/Amelia/CRA_Thesis/communityreinvestmentact/data/neighbors/neighbors_all_allyears.npy', neighbors_years)"
   ]
  },
  {
   "cell_type": "code",
   "execution_count": 30,
   "metadata": {},
   "outputs": [],
   "source": [
    "np.save('/Users/ameliabaum/Desktop/Amelia/CRA_Thesis/communityreinvestmentact/data/neighbors/neighbors_midmod_allyears.npy', neighbors_years_midmod)"
   ]
  },
  {
   "cell_type": "code",
   "execution_count": 37,
   "metadata": {},
   "outputs": [
    {
     "name": "stdout",
     "output_type": "stream",
     "text": [
      "num mid mod tracts 910\n",
      "num all tracts 1397\n"
     ]
    }
   ],
   "source": [
    "neighbors_years = np.load('/Users/ameliabaum/Desktop/Amelia/CRA_Thesis/communityreinvestmentact/data/neighbors/neighbors_all_allyears.npy').item()\n",
    "neighbors_years_midmod = np.load('/Users/ameliabaum/Desktop/Amelia/CRA_Thesis/communityreinvestmentact/data/neighbors/neighbors_midmod_allyears.npy').item()\n",
    "\n",
    "print(\"num mid mod tracts\", len(neighbors_years_midmod['2009'].values())) #910 tracts in the midmod dict\n",
    "print(\"num all tracts\", len(neighbors_years['2009'].values())) # 1397 tracts in the all dict\n",
    "\n"
   ]
  },
  {
   "cell_type": "markdown",
   "metadata": {},
   "source": [
    "#### Creates a dataframe of all the tracts with neighbors by year (2009 to start), indicating which are CRA eligible. Exports to csv called \"boolean_tracts_year\"\n"
   ]
  },
  {
   "cell_type": "markdown",
   "metadata": {},
   "source": [
    "There are some issues with this code that I am still working on, but for now the regression is using the file \"boolean_tracts_2009\". I think this is right now? It looks like it's ok for the all but the midmod below is the same which doesnt make sense"
   ]
  },
  {
   "cell_type": "code",
   "execution_count": 39,
   "metadata": {},
   "outputs": [
    {
     "name": "stdout",
     "output_type": "stream",
     "text": [
      "num all tracts that have at least one oppositely coded neighbor 801\n"
     ]
    }
   ],
   "source": [
    "ntracts = []\n",
    "years = []\n",
    "master = pd.read_csv('/Users/ameliabaum/Desktop/Amelia/CRA_Thesis/communityreinvestmentact/data/reference/tracts_type_master_1.csv')\n",
    "boolean_tracts = pd.DataFrame()\n",
    "for year in ['2009']:\n",
    "#for year in analysis_years:\n",
    "    for tract in neighbors_years[year]:\n",
    "        if (len(neighbors_years[year][tract]) > 0): #if the tract has neighbors\n",
    "            ntracts.append(tract) #add it to the list \"ntracts\"\n",
    "            years.append(year) #and add the year to the years list\n",
    "    cra_ref = master[master[\"Year\"] == int(year)] #reference dataframe for just the year in question\n",
    "            \n",
    "\n",
    "boolean_tracts[\"Tract\"] = ntracts #add the column 'Tract' to boolean_tracts of all of th tracts with neighbors\n",
    "boolean_tracts[\"Year\"] = years #add the column 'Year' to boolean_tracts of all of the years\n",
    "\n",
    "\n",
    "#merge the boolean_tracts_all dataframe (all the tracts with neighbors), with their respective CRA coding\n",
    "#based on the reference dataframe\n",
    "boolean_tracts_withcra = pd.merge(boolean_tracts, cra_ref,  how='inner', left_on=\"Tract\", right_on ='Geoid')\n",
    "boolean_tracts_withcra = boolean_tracts_withcra[[\"Geoid\", \"Year_x\", \"Tract_y\", \"type\", \"County\", \"CRA Eligible\"]]\n",
    "\n",
    "boolean_tracts_withcra.to_csv(\"/Users/ameliabaum/Desktop/Amelia/CRA_Thesis/communityreinvestmentact/data/neighbors/boolean_tracts_all_2009.csv\", index=False)\n",
    "\n",
    "print(\"num all tracts that have at least one oppositely coded neighbor\", len(boolean_tracts_withcra))\n"
   ]
  },
  {
   "cell_type": "code",
   "execution_count": 42,
   "metadata": {},
   "outputs": [
    {
     "name": "stdout",
     "output_type": "stream",
     "text": [
      "num mid or mod tracts that have at least one oppositely coded neighbor 626\n"
     ]
    }
   ],
   "source": [
    "ntracts = []\n",
    "years = []\n",
    "master = pd.read_csv('/Users/ameliabaum/Desktop/Amelia/CRA_Thesis/communityreinvestmentact/data/reference/tracts_type_master_1.csv')\n",
    "boolean_tracts_midmod = pd.DataFrame()\n",
    "for year in ['2009']:\n",
    "#for year in analysis_years:\n",
    "    for tract in neighbors_years_midmod[year]:\n",
    "        if (len(neighbors_years_midmod[year][tract]) > 0): #if the tract has neighbors\n",
    "            ntracts.append(tract) #add it to the list \"ntracts\"\n",
    "            years.append(year) #and add the year to the years list\n",
    "    cra_ref_midmod = master[master[\"Year\"] == int(year)] #reference dataframe for just the year in question\n",
    "            \n",
    "\n",
    "boolean_tracts_midmod[\"Tract\"] = ntracts #add the column 'Tract' to boolean_tracts of all of th tracts with neighbors\n",
    "boolean_tracts_midmod[\"Year\"] = years #add the column 'Year' to boolean_tracts of all of the years\n",
    "\n",
    "\n",
    "#merge the boolean_tracts_all dataframe (all the tracts with neighbors), with their respective CRA coding\n",
    "#based on the reference dataframe\n",
    "boolean_tracts_midmod_withcra = pd.merge(boolean_tracts_midmod, cra_ref_midmod,  how='inner', left_on=\"Tract\", right_on ='Geoid')\n",
    "boolean_tracts_midmod_withcra.to_csv(\"/Users/ameliabaum/Desktop/Amelia/CRA_Thesis/communityreinvestmentact/data/neighbors/boolean_tracts_midmod_2009.csv\", index=False)\n",
    "\n",
    "\n",
    "print(\"num mid or mod tracts that have at least one oppositely coded neighbor\", len(boolean_tracts_midmod))\n"
   ]
  },
  {
   "cell_type": "code",
   "execution_count": null,
   "metadata": {},
   "outputs": [],
   "source": []
  }
 ],
 "metadata": {
  "kernelspec": {
   "display_name": "Python 3",
   "language": "python",
   "name": "python3"
  },
  "language_info": {
   "codemirror_mode": {
    "name": "ipython",
    "version": 3
   },
   "file_extension": ".py",
   "mimetype": "text/x-python",
   "name": "python",
   "nbconvert_exporter": "python",
   "pygments_lexer": "ipython3",
   "version": "3.7.2"
  }
 },
 "nbformat": 4,
 "nbformat_minor": 2
}
