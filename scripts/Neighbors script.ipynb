{
 "cells": [
  {
   "cell_type": "code",
   "execution_count": 62,
   "metadata": {},
   "outputs": [],
   "source": [
    "import pandas as pd\n",
    "import geopandas as gp\n",
    "import matplotlib.pyplot as plt\n",
    "import os\n",
    "import json\n",
    "import time\n",
    "import numpy as np\n"
   ]
  },
  {
   "cell_type": "code",
   "execution_count": 37,
   "metadata": {},
   "outputs": [],
   "source": [
    "bay_county_names = [\"Alameda\", \"ContraCosta\", \"Sonoma\", \"Solano\", \"SanMateo\", \"SantaClara\", \"SanFrancisco\", \"Marin\",\"Napa\"] \n",
    "analysis_years = [\"2008\", \"2009\",\"2010\", \"2011\", \"2012\", \"2013\", \"2014\", \"2015\", \"2016\", \"2017\"]"
   ]
  },
  {
   "cell_type": "code",
   "execution_count": 7,
   "metadata": {},
   "outputs": [],
   "source": [
    "#concatenates all the census tracts in a given year from all the counties in the Bay Area. This is because when selectiing\n",
    "#neighbors I do not want to eliminate census tracts that border each other but are separated by administrative \n",
    "#boundaries (ie: cities, counties), so I consider the congruous set of tracts for this analysis\n",
    "\n",
    "# I am trying to locate pairs of census tracts that are geographically proximate and demographically similar except\n",
    "# for their CRA eligibility threshold as the first step towards establishing a regression discontinuity design study.\n",
    "# As a preliminary measure, I eliminate census tracts categorized as \"high\" and \"low\" since I want to look for neighboring\n",
    "#tracts that are as close to the CRA threshold as possible in order to compare otherwise similar geographies.\n",
    "for year in analysis_years:\n",
    "    county_files = [f for f in os.listdir(\"/Users/ameliabaum/Desktop/Amelia/CRA_Thesis/communityreinvestmentact/data/county_geo_data/\") \n",
    "                    if f[-3:] == \"csv\"\n",
    "                    and f.split('_')[2] == (str(year) +\".csv\")]\n",
    "    countydfs = []\n",
    "    for file in county_files:\n",
    "        df = pd.read_csv(\"/Users/ameliabaum/Desktop/Amelia/CRA_Thesis/communityreinvestmentact/data/county_geo_data/\"+file)\n",
    "        countydfs.append(df)\n",
    "    to_write = pd.concat(countydfs, axis=0) #concatenates all the dataframes from that year together\n",
    "    #to_write.to_csv(\"/Users/ameliabaum/Desktop/Amelia/CRA_Thesis/communityreinvestmentact/data/county_geo_data/\" + \"all_bay_concat_\"+year+\".csv\")\n"
   ]
  },
  {
   "cell_type": "code",
   "execution_count": 1,
   "metadata": {},
   "outputs": [],
   "source": [
    "path = '/Users/ameliabaum/Desktop/Amelia/CRA_Thesis/data/county_geo_data/'\n",
    "dfs = []\n",
    "for year in analysis_years:\n",
    "    dfs.append(pd.read_csv(path+'all_bay_concat_'+ year+'.csv'))\n",
    "\n",
    "print(dfs)\n",
    "\n",
    "\n"
   ]
  },
  {
   "cell_type": "code",
   "execution_count": 52,
   "metadata": {},
   "outputs": [],
   "source": [
    "#Takes in a geodataframe which has the HMDA information geolocated to polygons, concatenated for all of the \n",
    "#9 counties. Builds a dictionary where the keys are each unique tract number and the values are an array of geographic neighbors \n",
    "#of that tract, and the eligibility threshold does not match the tract in question. Currently filters out high and low income\n",
    "#tracts to look at only the center of the distribution, though this might change.\n",
    "\n",
    "\n",
    "\n",
    "def find_neighbors(geodataframe):\n",
    "    neighbors_dict = {}\n",
    "    #geodf_mid_mod = geodataframe[(geodataframe['type'] == \"mod\") | (geodataframe[\"type\"] == \"mid\")]\n",
    "    for df_row in geodataframe.iterrows(): #index, then row\n",
    "        polygon = df_row[1][\"geometry\"]\n",
    "        tract = (df_row[1][\"ctidfp00\"])\n",
    "\n",
    "        eligibility = df_row[1][\"cra_eligib\"]\n",
    "        neighbors_dict[tract] = list(geodataframe[geodataframe.apply(lambda row: row['geometry'].touches(polygon) and \n",
    "                                        row['cra_eligib'] != eligibility, axis=1)][\"ctidfp00\"].values)\n",
    "        #list so that it is easier to write to json later\n",
    "         \n",
    "    return neighbors_dict\n",
    "\n",
    "    \n",
    "    \n"
   ]
  },
  {
   "cell_type": "code",
   "execution_count": 57,
   "metadata": {},
   "outputs": [
    {
     "name": "stdout",
     "output_type": "stream",
     "text": [
      "finding neighbors for 2009\n"
     ]
    },
    {
     "data": {
      "text/plain": [
       "157.83533120155334"
      ]
     },
     "execution_count": 57,
     "metadata": {},
     "output_type": "execute_result"
    }
   ],
   "source": [
    "start = time.time()\n",
    "neighbors_years = {}\n",
    "\n",
    "#for year in analysis_years:\n",
    "for year in [\"2009\"]:\n",
    "\n",
    "    geodf = gp.read_file('/Users/ameliabaum/Desktop/Amelia/CRA_Thesis/communityreinvestmentact/data/combined_shapefiles/all_bay_concat_'+year+'/all_bay_concat_'+year+'.shp')\n",
    "    print(\"finding neighbors for \"+ str(year))\n",
    "    neighbors = find_neighbors(geodf) #save this in json\n",
    "    neighbors_years[year] = find_neighbors(geodf)\n",
    "    #print([type(x) for x in neighbors.keys()])\n",
    "    #print([type(x[0]) for x in neighbors.values()])\n",
    "    \n",
    "#     print(\"writing\", str(year), \"to json\")\n",
    "#     with open('/Users/ameliabaum/Desktop/Amelia/CRA_Thesis/communityreinvestmentact/data/neighbors_all_'+str(year)+'.json', 'w') as fp:\n",
    "#         json.dump(neighbors, fp)\n",
    "end =time.time()\n",
    "elapsed = end-start\n",
    "\n",
    "elapsed"
   ]
  },
  {
   "cell_type": "code",
   "execution_count": 65,
   "metadata": {},
   "outputs": [],
   "source": [
    "#type(neighbors_years['2009'][6001433700][0])\n",
    "np.save('/Users/ameliabaum/Desktop/Amelia/CRA_Thesis/communityreinvestmentact/data/neighbors/neighbors_2009.npy', neighbors_years)"
   ]
  },
  {
   "cell_type": "code",
   "execution_count": 83,
   "metadata": {},
   "outputs": [],
   "source": [
    "ntracts = []\n",
    "years = []\n",
    "master = pd.read_csv('/Users/ameliabaum/Desktop/Amelia/CRA_Thesis/tracts_type_master.csv')\n",
    "boolean_tracts = pd.DataFrame()\n",
    "#for year in neighbors_years:\n",
    "for year in ['2009']:\n",
    "    for tract in neighbors_years[year]:\n",
    "        #print(tract)\n",
    "        if (len(neighbors_years[year][tract]) > 0):\n",
    "            ntracts.append(tract)\n",
    "            years.append(year)\n",
    "\n",
    "            \n",
    "\n",
    "boolean_tracts[\"Tract\"] = ntracts #tracts with neighbors, seems to be 805 which makes sense\n",
    "\n",
    "#print(len(ntracts.unique()))\n",
    "boolean_tracts[\"Year\"] = years\n",
    "cra_ref = pd.read_csv('/Users/ameliabaum/Desktop/Amelia/CRA_Thesis/communityreinvestmentact/data/place_parsed/allbay_place_geolocated_2009_.csv')[['CTIDFP00', 'CRA Eligible']]\n",
    "boolean_tracts_all = pd.merge(boolean_tracts, cra_ref,  how='left', left_on=\"Tract\", right_on ='CTIDFP00').drop(\"CTIDFP00\", axis=1)\n",
    "#\n",
    "#boolean_tracts_all = pd.merge(boolean_tracts, master,  how='left', left_on=['Tract','Year'], right_on = ['census_tract_number','as_of_year'])\n",
    "# boolean_tracts_all[[\"Tract\", \"Year\", \"Tract Type\"]]\n",
    "# boolean_tracts_all[\"CRA\"] = boolean_tracts_all[\"Tract Type\"].isin(['low', 'mod']) # == 'low' | boolean_tracts_all[\"Tract Type\"] == 'mod'\n",
    "# # boolean_tracts_all[\"Tract Type\"] == 'low' or boolean_tracts_all[\"Tract Type\"] == 'mod'\n",
    "# print(len(boolean_tracts_all))\n",
    "boolean_tracts_all.to_csv(\"/Users/ameliabaum/Desktop/Amelia/CRA_Thesis/communityreinvestmentact/data/neighbors/boolean_tracts_all_2009.csv\", index=False)\n",
    "\n",
    "\n",
    "\n",
    "\n"
   ]
  },
  {
   "cell_type": "code",
   "execution_count": 27,
   "metadata": {},
   "outputs": [
    {
     "ename": "ValueError",
     "evalue": "Length of values does not match length of index",
     "output_type": "error",
     "traceback": [
      "\u001b[0;31m---------------------------------------------------------------------------\u001b[0m",
      "\u001b[0;31mValueError\u001b[0m                                Traceback (most recent call last)",
      "\u001b[0;32m<ipython-input-27-45b4d14affec>\u001b[0m in \u001b[0;36m<module>\u001b[0;34m()\u001b[0m\n\u001b[1;32m     10\u001b[0m             \u001b[0;31m#years.append(year)\u001b[0m\u001b[0;34m\u001b[0m\u001b[0;34m\u001b[0m\u001b[0m\n\u001b[1;32m     11\u001b[0m \u001b[0mboolean_tracts\u001b[0m\u001b[0;34m[\u001b[0m\u001b[0;34m\"Tract\"\u001b[0m\u001b[0;34m]\u001b[0m \u001b[0;34m=\u001b[0m \u001b[0mntracts\u001b[0m\u001b[0;34m\u001b[0m\u001b[0m\n\u001b[0;32m---> 12\u001b[0;31m \u001b[0mboolean_tracts\u001b[0m\u001b[0;34m[\u001b[0m\u001b[0;34m\"Year\"\u001b[0m\u001b[0;34m]\u001b[0m \u001b[0;34m=\u001b[0m \u001b[0myears\u001b[0m\u001b[0;34m\u001b[0m\u001b[0m\n\u001b[0m\u001b[1;32m     13\u001b[0m \u001b[0mboolean_tracts\u001b[0m\u001b[0;34m[\u001b[0m\u001b[0;34m\"Year\"\u001b[0m\u001b[0;34m]\u001b[0m \u001b[0;34m=\u001b[0m \u001b[0mboolean_tracts\u001b[0m\u001b[0;34m[\u001b[0m\u001b[0;34m\"Year\"\u001b[0m\u001b[0;34m]\u001b[0m\u001b[0;34m.\u001b[0m\u001b[0mastype\u001b[0m\u001b[0;34m(\u001b[0m\u001b[0mint\u001b[0m\u001b[0;34m)\u001b[0m\u001b[0;34m\u001b[0m\u001b[0m\n\u001b[1;32m     14\u001b[0m \u001b[0mboolean_tracts\u001b[0m\u001b[0;34m\u001b[0m\u001b[0m\n",
      "\u001b[0;32m~/anaconda3/lib/python3.7/site-packages/pandas/core/frame.py\u001b[0m in \u001b[0;36m__setitem__\u001b[0;34m(self, key, value)\u001b[0m\n\u001b[1;32m   3117\u001b[0m         \u001b[0;32melse\u001b[0m\u001b[0;34m:\u001b[0m\u001b[0;34m\u001b[0m\u001b[0m\n\u001b[1;32m   3118\u001b[0m             \u001b[0;31m# set column\u001b[0m\u001b[0;34m\u001b[0m\u001b[0;34m\u001b[0m\u001b[0m\n\u001b[0;32m-> 3119\u001b[0;31m             \u001b[0mself\u001b[0m\u001b[0;34m.\u001b[0m\u001b[0m_set_item\u001b[0m\u001b[0;34m(\u001b[0m\u001b[0mkey\u001b[0m\u001b[0;34m,\u001b[0m \u001b[0mvalue\u001b[0m\u001b[0;34m)\u001b[0m\u001b[0;34m\u001b[0m\u001b[0m\n\u001b[0m\u001b[1;32m   3120\u001b[0m \u001b[0;34m\u001b[0m\u001b[0m\n\u001b[1;32m   3121\u001b[0m     \u001b[0;32mdef\u001b[0m \u001b[0m_setitem_slice\u001b[0m\u001b[0;34m(\u001b[0m\u001b[0mself\u001b[0m\u001b[0;34m,\u001b[0m \u001b[0mkey\u001b[0m\u001b[0;34m,\u001b[0m \u001b[0mvalue\u001b[0m\u001b[0;34m)\u001b[0m\u001b[0;34m:\u001b[0m\u001b[0;34m\u001b[0m\u001b[0m\n",
      "\u001b[0;32m~/anaconda3/lib/python3.7/site-packages/pandas/core/frame.py\u001b[0m in \u001b[0;36m_set_item\u001b[0;34m(self, key, value)\u001b[0m\n\u001b[1;32m   3192\u001b[0m \u001b[0;34m\u001b[0m\u001b[0m\n\u001b[1;32m   3193\u001b[0m         \u001b[0mself\u001b[0m\u001b[0;34m.\u001b[0m\u001b[0m_ensure_valid_index\u001b[0m\u001b[0;34m(\u001b[0m\u001b[0mvalue\u001b[0m\u001b[0;34m)\u001b[0m\u001b[0;34m\u001b[0m\u001b[0m\n\u001b[0;32m-> 3194\u001b[0;31m         \u001b[0mvalue\u001b[0m \u001b[0;34m=\u001b[0m \u001b[0mself\u001b[0m\u001b[0;34m.\u001b[0m\u001b[0m_sanitize_column\u001b[0m\u001b[0;34m(\u001b[0m\u001b[0mkey\u001b[0m\u001b[0;34m,\u001b[0m \u001b[0mvalue\u001b[0m\u001b[0;34m)\u001b[0m\u001b[0;34m\u001b[0m\u001b[0m\n\u001b[0m\u001b[1;32m   3195\u001b[0m         \u001b[0mNDFrame\u001b[0m\u001b[0;34m.\u001b[0m\u001b[0m_set_item\u001b[0m\u001b[0;34m(\u001b[0m\u001b[0mself\u001b[0m\u001b[0;34m,\u001b[0m \u001b[0mkey\u001b[0m\u001b[0;34m,\u001b[0m \u001b[0mvalue\u001b[0m\u001b[0;34m)\u001b[0m\u001b[0;34m\u001b[0m\u001b[0m\n\u001b[1;32m   3196\u001b[0m \u001b[0;34m\u001b[0m\u001b[0m\n",
      "\u001b[0;32m~/anaconda3/lib/python3.7/site-packages/pandas/core/frame.py\u001b[0m in \u001b[0;36m_sanitize_column\u001b[0;34m(self, key, value, broadcast)\u001b[0m\n\u001b[1;32m   3389\u001b[0m \u001b[0;34m\u001b[0m\u001b[0m\n\u001b[1;32m   3390\u001b[0m             \u001b[0;31m# turn me into an ndarray\u001b[0m\u001b[0;34m\u001b[0m\u001b[0;34m\u001b[0m\u001b[0m\n\u001b[0;32m-> 3391\u001b[0;31m             \u001b[0mvalue\u001b[0m \u001b[0;34m=\u001b[0m \u001b[0m_sanitize_index\u001b[0m\u001b[0;34m(\u001b[0m\u001b[0mvalue\u001b[0m\u001b[0;34m,\u001b[0m \u001b[0mself\u001b[0m\u001b[0;34m.\u001b[0m\u001b[0mindex\u001b[0m\u001b[0;34m,\u001b[0m \u001b[0mcopy\u001b[0m\u001b[0;34m=\u001b[0m\u001b[0;32mFalse\u001b[0m\u001b[0;34m)\u001b[0m\u001b[0;34m\u001b[0m\u001b[0m\n\u001b[0m\u001b[1;32m   3392\u001b[0m             \u001b[0;32mif\u001b[0m \u001b[0;32mnot\u001b[0m \u001b[0misinstance\u001b[0m\u001b[0;34m(\u001b[0m\u001b[0mvalue\u001b[0m\u001b[0;34m,\u001b[0m \u001b[0;34m(\u001b[0m\u001b[0mnp\u001b[0m\u001b[0;34m.\u001b[0m\u001b[0mndarray\u001b[0m\u001b[0;34m,\u001b[0m \u001b[0mIndex\u001b[0m\u001b[0;34m)\u001b[0m\u001b[0;34m)\u001b[0m\u001b[0;34m:\u001b[0m\u001b[0;34m\u001b[0m\u001b[0m\n\u001b[1;32m   3393\u001b[0m                 \u001b[0;32mif\u001b[0m \u001b[0misinstance\u001b[0m\u001b[0;34m(\u001b[0m\u001b[0mvalue\u001b[0m\u001b[0;34m,\u001b[0m \u001b[0mlist\u001b[0m\u001b[0;34m)\u001b[0m \u001b[0;32mand\u001b[0m \u001b[0mlen\u001b[0m\u001b[0;34m(\u001b[0m\u001b[0mvalue\u001b[0m\u001b[0;34m)\u001b[0m \u001b[0;34m>\u001b[0m \u001b[0;36m0\u001b[0m\u001b[0;34m:\u001b[0m\u001b[0;34m\u001b[0m\u001b[0m\n",
      "\u001b[0;32m~/anaconda3/lib/python3.7/site-packages/pandas/core/series.py\u001b[0m in \u001b[0;36m_sanitize_index\u001b[0;34m(data, index, copy)\u001b[0m\n\u001b[1;32m   3999\u001b[0m \u001b[0;34m\u001b[0m\u001b[0m\n\u001b[1;32m   4000\u001b[0m     \u001b[0;32mif\u001b[0m \u001b[0mlen\u001b[0m\u001b[0;34m(\u001b[0m\u001b[0mdata\u001b[0m\u001b[0;34m)\u001b[0m \u001b[0;34m!=\u001b[0m \u001b[0mlen\u001b[0m\u001b[0;34m(\u001b[0m\u001b[0mindex\u001b[0m\u001b[0;34m)\u001b[0m\u001b[0;34m:\u001b[0m\u001b[0;34m\u001b[0m\u001b[0m\n\u001b[0;32m-> 4001\u001b[0;31m         \u001b[0;32mraise\u001b[0m \u001b[0mValueError\u001b[0m\u001b[0;34m(\u001b[0m\u001b[0;34m'Length of values does not match length of '\u001b[0m \u001b[0;34m'index'\u001b[0m\u001b[0;34m)\u001b[0m\u001b[0;34m\u001b[0m\u001b[0m\n\u001b[0m\u001b[1;32m   4002\u001b[0m \u001b[0;34m\u001b[0m\u001b[0m\n\u001b[1;32m   4003\u001b[0m     \u001b[0;32mif\u001b[0m \u001b[0misinstance\u001b[0m\u001b[0;34m(\u001b[0m\u001b[0mdata\u001b[0m\u001b[0;34m,\u001b[0m \u001b[0mABCIndexClass\u001b[0m\u001b[0;34m)\u001b[0m \u001b[0;32mand\u001b[0m \u001b[0;32mnot\u001b[0m \u001b[0mcopy\u001b[0m\u001b[0;34m:\u001b[0m\u001b[0;34m\u001b[0m\u001b[0m\n",
      "\u001b[0;31mValueError\u001b[0m: Length of values does not match length of index"
     ]
    }
   ],
   "source": [
    "# ntracts = []\n",
    "# years = []\n",
    "# master = pd.read_csv('/Users/ameliabaum/Desktop/Amelia/CRA_Thesis/tracts_type_master.csv')\n",
    "# boolean_tracts = pd.DataFrame()\n",
    "# #for year in neighbors_years:\n",
    "# for year in ['2009']:\n",
    "#     for tract in neighbors_years[year]:\n",
    "#         if (len(neighbors_years[year][tract]) > 0):\n",
    "#             ntracts.append(tract)\n",
    "#             #years.append(year)\n",
    "# boolean_tracts[\"Tract\"] = ntracts\n",
    "# boolean_tracts[\"Year\"] = years\n",
    "# boolean_tracts[\"Year\"] = boolean_tracts[\"Year\"].astype(int)\n",
    "# boolean_tracts\n",
    "# boolean_tracts_all = pd.merge(boolean_tracts, master,  how='left', left_on=['Tract','Year'], right_on = ['census_tract_number','as_of_year'])\n",
    "# boolean_tracts_all[[\"Tract\", \"Year\", \"Tract Type\"]]\n",
    "# boolean_tracts_all[\"CRA\"] = boolean_tracts_all[\"Tract Type\"].isin(['low', 'mod']) # == 'low' | boolean_tracts_all[\"Tract Type\"] == 'mod'\n",
    "# # boolean_tracts_all[\"Tract Type\"] == 'low' or boolean_tracts_all[\"Tract Type\"] == 'mod'\n",
    "# print(len(boolean_tracts_all))\n",
    "# boolean_tracts_all.to_csv(\"/Users/ameliabaum/Desktop/Amelia/CRA_Thesis/communityreinvestmentact/data/neighbors/boolean_tracts_all_2009.csv\")\n"
   ]
  },
  {
   "cell_type": "code",
   "execution_count": null,
   "metadata": {},
   "outputs": [],
   "source": []
  }
 ],
 "metadata": {
  "kernelspec": {
   "display_name": "Python 3",
   "language": "python",
   "name": "python3"
  },
  "language_info": {
   "codemirror_mode": {
    "name": "ipython",
    "version": 3
   },
   "file_extension": ".py",
   "mimetype": "text/x-python",
   "name": "python",
   "nbconvert_exporter": "python",
   "pygments_lexer": "ipython3",
   "version": "3.7.0"
  }
 },
 "nbformat": 4,
 "nbformat_minor": 2
}
