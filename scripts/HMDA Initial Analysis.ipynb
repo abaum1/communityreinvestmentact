{
 "cells": [
  {
   "cell_type": "code",
   "execution_count": 19,
   "metadata": {},
   "outputs": [],
   "source": [
    "import pandas as pd\n",
    "import numpy as np\n",
    "from openpyxl import load_workbook\n",
    "import os\n",
    "import matplotlib.pyplot as plt\n",
    "import urllib.request\n",
    "import os"
   ]
  },
  {
   "cell_type": "code",
   "execution_count": 38,
   "metadata": {},
   "outputs": [
    {
     "name": "stderr",
     "output_type": "stream",
     "text": [
      "/Users/ameliabaum/anaconda/lib/python3.6/site-packages/IPython/core/interactiveshell.py:2728: DtypeWarning: Columns (40) have mixed types. Specify dtype option on import or set low_memory=False.\n",
      "  interactivity=interactivity, compiler=compiler, result=result)\n"
     ]
    }
   ],
   "source": [
    "current_raw = pd.read_csv(\"data/downloaded_raw/Alameda_2008.csv\")\n",
    "#current_raw[\"tract_to_msamd_income\"].unique()"
   ]
  },
  {
   "cell_type": "code",
   "execution_count": 20,
   "metadata": {},
   "outputs": [],
   "source": [
    "def tract_type(row):\n",
    "    if (row[\"tract_to_msamd_income\"] < 50):\n",
    "        return \"low\"\n",
    "    if (row[\"tract_to_msamd_income\"] < 80):\n",
    "        return \"mod\"\n",
    "    if (row[\"tract_to_msamd_income\"] <= 120):\n",
    "        return \"mid\"\n",
    "    if (row[\"tract_to_msamd_income\"] > 120):\n",
    "        return \"high\"\n",
    "    else:\n",
    "        return \"not categorized\"\n",
    "    \n"
   ]
  },
  {
   "cell_type": "code",
   "execution_count": 21,
   "metadata": {},
   "outputs": [],
   "source": [
    "def tract_eligibility(row):\n",
    "    if (row[\"tract_to_msamd_income\"] < 80):\n",
    "        return \"eligible\"\n",
    "    else:\n",
    "        return \"not eligible\""
   ]
  },
  {
   "cell_type": "code",
   "execution_count": 22,
   "metadata": {},
   "outputs": [],
   "source": [
    "def borrower_eligibility(row):\n",
    "    if (row[\"applicant_income_000s\"]*1000 < .8*row[\"hud_median_family_income\"]):\n",
    "        return \"eligfible\"\n",
    "    else:\n",
    "        return \"not eligible\"\n"
   ]
  },
  {
   "cell_type": "code",
   "execution_count": 23,
   "metadata": {},
   "outputs": [],
   "source": [
    "def add_year(df, year):\n",
    "    df[\"Year\"] = year\n",
    "    "
   ]
  },
  {
   "cell_type": "code",
   "execution_count": 24,
   "metadata": {},
   "outputs": [],
   "source": [
    "#calculates the proportion of loans in the dataset that go to each of the 4 person-place categories, returns an array of \n",
    "#4 proportions that correspond to each of the 4 categories\n",
    "def people_vs_place(df):\n",
    "    hb_lt = 0 \n",
    "    hb_ht = 0\n",
    "    lb_lt = 0\n",
    "    lb_ht = 0\n",
    "    for row in df.itertuples():\n",
    "        cra_eligible_tract = row._48 #everytime the script is run these change.. ugh!\n",
    "        cra_eligible_borrower = row._49\n",
    "\n",
    "        if (cra_eligible_tract == \"eligible\" and cra_eligible_borrower == \"eligible\"):\n",
    "            lb_lt +=1\n",
    "            \n",
    "        elif (cra_eligible_tract == \"not eligible\" and cra_eligible_borrower == \"eligible\"):\n",
    "            lb_ht +=1\n",
    "        elif (cra_eligible_tract == \"eligible\" and cra_eligible_borrower == \"not eligible\"):\n",
    "            hb_lt +=1\n",
    "        elif (cra_eligible_tract == \"not eligible\" and cra_eligible_borrower == \"not eligible\"):\n",
    "            hb_ht +=1\n",
    "        \n",
    "    return [hb_lt/len(df), hb_lt, hb_ht/len(df), hb_ht, lb_lt/len(df), lb_lt, lb_ht/len(df), lb_ht]\n",
    "    \n",
    "        "
   ]
  },
  {
   "cell_type": "code",
   "execution_count": 25,
   "metadata": {},
   "outputs": [],
   "source": [
    "bay_county_names = [\"Alameda\", \"ContraCosta\", \"Sonoma\", \"Solano\", \"SanMateo\", \"SantaClara\", \"SanFrancisco\", \"Marin\",\"Napa\"] \n",
    "analysis_years = [\"2008\", \"2009\", \"2010\", \"2011\", \"2012\", \"2013\", \"2014\", \"2015\", \"2016\", \"2017\"]\n",
    "\n",
    "\n",
    "# bay_county_names = [\"Alameda\"]\n",
    "# analysis_years = [2008]\n"
   ]
  },
  {
   "cell_type": "code",
   "execution_count": 26,
   "metadata": {},
   "outputs": [],
   "source": [
    "#dataframes = []\n",
    "def parse_data(df, year, county):\n",
    "    df[\"CRA eligible tract\"] = df.apply(lambda item: tract_eligibility(item), axis=1)\n",
    "    df[\"CRA eligible borrower\"] = df.apply(lambda item: borrower_eligibility(item), axis=1)\n",
    "    df[\"type\"] = df.apply(lambda item: tract_type(item), axis=1)\n",
    "    df[\"Year\"] = year\n",
    "    df_lol = []\n",
    "    for tract, tract_df in df.groupby(\"census_tract_number\"):\n",
    "        row_list = [tract, tract_df[\"Year\"].iloc[0], tract_df[\"county_name\"].iloc[0],\n",
    "                    tract_df[\"type\"].iloc[0], tract_df[\"CRA eligible tract\"].iloc[0]]\n",
    "        row_list.extend(people_vs_place(tract_df))\n",
    "        df_lol.append(row_list)\n",
    "    data = pd.DataFrame(df_lol, columns=[\"Tract\", \"Year\", \"County\", \"type\", \"CRA Eligible\",'% HI borrower, LI tract', '# HI borrower, LI tract', \n",
    "                                         '% HI borrower, HI tract','# HI borrower, HI tract', \"% LI borrower, LI tract\", \"# LI borrower, LI tract\",\n",
    "                                         \"%LI borrower, HI tract\", \"# LI borrower, HI tract\"])\n",
    "    return data\n",
    "        \n",
    "        "
   ]
  },
  {
   "cell_type": "code",
   "execution_count": 27,
   "metadata": {},
   "outputs": [
    {
     "name": "stderr",
     "output_type": "stream",
     "text": [
      "/Users/ameliabaum/anaconda/lib/python3.6/site-packages/IPython/core/interactiveshell.py:2728: DtypeWarning: Columns (40) have mixed types. Specify dtype option on import or set low_memory=False.\n",
      "  interactivity=interactivity, compiler=compiler, result=result)\n"
     ]
    },
    {
     "name": "stdout",
     "output_type": "stream",
     "text": [
      "writing.. Alameda 2008  to csv\n"
     ]
    },
    {
     "name": "stderr",
     "output_type": "stream",
     "text": [
      "/Users/ameliabaum/anaconda/lib/python3.6/site-packages/IPython/core/interactiveshell.py:2728: DtypeWarning: Columns (29,30,40) have mixed types. Specify dtype option on import or set low_memory=False.\n",
      "  interactivity=interactivity, compiler=compiler, result=result)\n"
     ]
    },
    {
     "name": "stdout",
     "output_type": "stream",
     "text": [
      "writing.. Alameda 2009  to csv\n"
     ]
    },
    {
     "name": "stderr",
     "output_type": "stream",
     "text": [
      "/Users/ameliabaum/anaconda/lib/python3.6/site-packages/IPython/core/interactiveshell.py:2728: DtypeWarning: Columns (28,29,38,39) have mixed types. Specify dtype option on import or set low_memory=False.\n",
      "  interactivity=interactivity, compiler=compiler, result=result)\n"
     ]
    },
    {
     "name": "stdout",
     "output_type": "stream",
     "text": [
      "writing.. Alameda 2010  to csv\n"
     ]
    },
    {
     "name": "stderr",
     "output_type": "stream",
     "text": [
      "/Users/ameliabaum/anaconda/lib/python3.6/site-packages/IPython/core/interactiveshell.py:2728: DtypeWarning: Columns (30) have mixed types. Specify dtype option on import or set low_memory=False.\n",
      "  interactivity=interactivity, compiler=compiler, result=result)\n"
     ]
    },
    {
     "name": "stdout",
     "output_type": "stream",
     "text": [
      "writing.. Alameda 2011  to csv\n",
      "writing.. Alameda 2012  to csv\n",
      "writing.. Alameda 2013  to csv\n",
      "writing.. Alameda 2014  to csv\n",
      "writing.. Alameda 2015  to csv\n",
      "writing.. Alameda 2016  to csv\n",
      "writing.. Alameda 2017  to csv\n",
      "writing.. ContraCosta 2008  to csv\n"
     ]
    },
    {
     "name": "stderr",
     "output_type": "stream",
     "text": [
      "/Users/ameliabaum/anaconda/lib/python3.6/site-packages/IPython/core/interactiveshell.py:2728: DtypeWarning: Columns (39) have mixed types. Specify dtype option on import or set low_memory=False.\n",
      "  interactivity=interactivity, compiler=compiler, result=result)\n"
     ]
    },
    {
     "name": "stdout",
     "output_type": "stream",
     "text": [
      "writing.. ContraCosta 2009  to csv\n",
      "writing.. ContraCosta 2010  to csv\n"
     ]
    },
    {
     "name": "stderr",
     "output_type": "stream",
     "text": [
      "/Users/ameliabaum/anaconda/lib/python3.6/site-packages/IPython/core/interactiveshell.py:2728: DtypeWarning: Columns (30,38,39) have mixed types. Specify dtype option on import or set low_memory=False.\n",
      "  interactivity=interactivity, compiler=compiler, result=result)\n"
     ]
    },
    {
     "name": "stdout",
     "output_type": "stream",
     "text": [
      "writing.. ContraCosta 2011  to csv\n",
      "writing.. ContraCosta 2012  to csv\n"
     ]
    },
    {
     "name": "stderr",
     "output_type": "stream",
     "text": [
      "/Users/ameliabaum/anaconda/lib/python3.6/site-packages/IPython/core/interactiveshell.py:2728: DtypeWarning: Columns (29,30,39) have mixed types. Specify dtype option on import or set low_memory=False.\n",
      "  interactivity=interactivity, compiler=compiler, result=result)\n"
     ]
    },
    {
     "name": "stdout",
     "output_type": "stream",
     "text": [
      "writing.. ContraCosta 2013  to csv\n"
     ]
    },
    {
     "name": "stderr",
     "output_type": "stream",
     "text": [
      "/Users/ameliabaum/anaconda/lib/python3.6/site-packages/IPython/core/interactiveshell.py:2728: DtypeWarning: Columns (29,30) have mixed types. Specify dtype option on import or set low_memory=False.\n",
      "  interactivity=interactivity, compiler=compiler, result=result)\n"
     ]
    },
    {
     "name": "stdout",
     "output_type": "stream",
     "text": [
      "writing.. ContraCosta 2014  to csv\n"
     ]
    },
    {
     "name": "stderr",
     "output_type": "stream",
     "text": [
      "/Users/ameliabaum/anaconda/lib/python3.6/site-packages/IPython/core/interactiveshell.py:2728: DtypeWarning: Columns (38,39,40) have mixed types. Specify dtype option on import or set low_memory=False.\n",
      "  interactivity=interactivity, compiler=compiler, result=result)\n"
     ]
    },
    {
     "name": "stdout",
     "output_type": "stream",
     "text": [
      "writing.. ContraCosta 2015  to csv\n",
      "writing.. ContraCosta 2016  to csv\n",
      "writing.. ContraCosta 2017  to csv\n",
      "writing.. Sonoma 2008  to csv\n",
      "writing.. Sonoma 2009  to csv\n",
      "writing.. Sonoma 2010  to csv\n",
      "writing.. Sonoma 2011  to csv\n",
      "writing.. Sonoma 2012  to csv\n",
      "writing.. Sonoma 2013  to csv\n",
      "writing.. Sonoma 2014  to csv\n",
      "writing.. Sonoma 2015  to csv\n",
      "writing.. Sonoma 2016  to csv\n",
      "writing.. Sonoma 2017  to csv\n",
      "writing.. Solano 2008  to csv\n",
      "writing.. Solano 2009  to csv\n",
      "writing.. Solano 2010  to csv\n",
      "writing.. Solano 2011  to csv\n",
      "writing.. Solano 2012  to csv\n",
      "writing.. Solano 2013  to csv\n",
      "writing.. Solano 2014  to csv\n",
      "writing.. Solano 2015  to csv\n",
      "writing.. Solano 2016  to csv\n",
      "writing.. Solano 2017  to csv\n",
      "writing.. SanMateo 2008  to csv\n",
      "writing.. SanMateo 2009  to csv\n",
      "writing.. SanMateo 2010  to csv\n",
      "writing.. SanMateo 2011  to csv\n",
      "writing.. SanMateo 2012  to csv\n",
      "writing.. SanMateo 2013  to csv\n",
      "writing.. SanMateo 2014  to csv\n",
      "writing.. SanMateo 2015  to csv\n",
      "writing.. SanMateo 2016  to csv\n",
      "writing.. SanMateo 2017  to csv\n",
      "writing.. SantaClara 2008  to csv\n"
     ]
    },
    {
     "name": "stderr",
     "output_type": "stream",
     "text": [
      "/Users/ameliabaum/anaconda/lib/python3.6/site-packages/IPython/core/interactiveshell.py:2728: DtypeWarning: Columns (23,30) have mixed types. Specify dtype option on import or set low_memory=False.\n",
      "  interactivity=interactivity, compiler=compiler, result=result)\n"
     ]
    },
    {
     "name": "stdout",
     "output_type": "stream",
     "text": [
      "writing.. SantaClara 2009  to csv\n"
     ]
    },
    {
     "name": "stderr",
     "output_type": "stream",
     "text": [
      "/Users/ameliabaum/anaconda/lib/python3.6/site-packages/IPython/core/interactiveshell.py:2728: DtypeWarning: Columns (30,40) have mixed types. Specify dtype option on import or set low_memory=False.\n",
      "  interactivity=interactivity, compiler=compiler, result=result)\n"
     ]
    },
    {
     "name": "stdout",
     "output_type": "stream",
     "text": [
      "writing.. SantaClara 2010  to csv\n"
     ]
    },
    {
     "name": "stderr",
     "output_type": "stream",
     "text": [
      "/Users/ameliabaum/anaconda/lib/python3.6/site-packages/IPython/core/interactiveshell.py:2728: DtypeWarning: Columns (28,30) have mixed types. Specify dtype option on import or set low_memory=False.\n",
      "  interactivity=interactivity, compiler=compiler, result=result)\n"
     ]
    },
    {
     "name": "stdout",
     "output_type": "stream",
     "text": [
      "writing.. SantaClara 2011  to csv\n",
      "writing.. SantaClara 2012  to csv\n"
     ]
    },
    {
     "name": "stderr",
     "output_type": "stream",
     "text": [
      "/Users/ameliabaum/anaconda/lib/python3.6/site-packages/IPython/core/interactiveshell.py:2728: DtypeWarning: Columns (30,39,40) have mixed types. Specify dtype option on import or set low_memory=False.\n",
      "  interactivity=interactivity, compiler=compiler, result=result)\n"
     ]
    },
    {
     "name": "stdout",
     "output_type": "stream",
     "text": [
      "writing.. SantaClara 2013  to csv\n",
      "writing.. SantaClara 2014  to csv\n"
     ]
    },
    {
     "name": "stderr",
     "output_type": "stream",
     "text": [
      "/Users/ameliabaum/anaconda/lib/python3.6/site-packages/IPython/core/interactiveshell.py:2728: DtypeWarning: Columns (28,29,30,39) have mixed types. Specify dtype option on import or set low_memory=False.\n",
      "  interactivity=interactivity, compiler=compiler, result=result)\n"
     ]
    },
    {
     "name": "stdout",
     "output_type": "stream",
     "text": [
      "writing.. SantaClara 2015  to csv\n"
     ]
    },
    {
     "name": "stderr",
     "output_type": "stream",
     "text": [
      "/Users/ameliabaum/anaconda/lib/python3.6/site-packages/IPython/core/interactiveshell.py:2728: DtypeWarning: Columns (28,29,30,38,39) have mixed types. Specify dtype option on import or set low_memory=False.\n",
      "  interactivity=interactivity, compiler=compiler, result=result)\n"
     ]
    },
    {
     "name": "stdout",
     "output_type": "stream",
     "text": [
      "writing.. SantaClara 2016  to csv\n"
     ]
    },
    {
     "name": "stderr",
     "output_type": "stream",
     "text": [
      "/Users/ameliabaum/anaconda/lib/python3.6/site-packages/IPython/core/interactiveshell.py:2728: DtypeWarning: Columns (38) have mixed types. Specify dtype option on import or set low_memory=False.\n",
      "  interactivity=interactivity, compiler=compiler, result=result)\n"
     ]
    },
    {
     "name": "stdout",
     "output_type": "stream",
     "text": [
      "writing.. SantaClara 2017  to csv\n",
      "writing.. SanFrancisco 2008  to csv\n",
      "writing.. SanFrancisco 2009  to csv\n",
      "writing.. SanFrancisco 2010  to csv\n",
      "writing.. SanFrancisco 2011  to csv\n",
      "writing.. SanFrancisco 2012  to csv\n",
      "writing.. SanFrancisco 2013  to csv\n",
      "writing.. SanFrancisco 2014  to csv\n",
      "writing.. SanFrancisco 2015  to csv\n",
      "writing.. SanFrancisco 2016  to csv\n",
      "writing.. SanFrancisco 2017  to csv\n",
      "writing.. Marin 2008  to csv\n",
      "writing.. Marin 2009  to csv\n",
      "writing.. Marin 2010  to csv\n",
      "writing.. Marin 2011  to csv\n",
      "writing.. Marin 2012  to csv\n",
      "writing.. Marin 2013  to csv\n",
      "writing.. Marin 2014  to csv\n",
      "writing.. Marin 2015  to csv\n",
      "writing.. Marin 2016  to csv\n",
      "writing.. Marin 2017  to csv\n",
      "writing.. Napa 2008  to csv\n",
      "writing.. Napa 2009  to csv\n",
      "writing.. Napa 2010  to csv\n",
      "writing.. Napa 2011  to csv\n",
      "writing.. Napa 2012  to csv\n",
      "writing.. Napa 2013  to csv\n",
      "writing.. Napa 2014  to csv\n",
      "writing.. Napa 2015  to csv\n",
      "writing.. Napa 2016  to csv\n",
      "writing.. Napa 2017  to csv\n"
     ]
    }
   ],
   "source": [
    "#this takes awhile to run. Don't need to keep re-running it\n",
    "filenames = []\n",
    "tables_dict = {}\n",
    "for county in bay_county_names: \n",
    "    for year in analysis_years:\n",
    "        filename = \"data/downloaded_raw/\"+ county + \"_\"+ str(year)+ \".csv\"\n",
    "        filenames.append(filename)\n",
    "        df = pd.read_csv(filename)\n",
    "        new_frame = parse_data(df, year, county)\n",
    "        tables_dict[county+ \"_\"+ str(year)] = new_frame\n",
    "        print(\"writing..\", county, year, \" to csv\")\n",
    "        new_frame.to_csv(\"data/parsed_data/\"+county+\"_\"+str(year)+\"_parsed.csv\")\n",
    "        \n",
    "        "
   ]
  },
  {
   "cell_type": "code",
   "execution_count": null,
   "metadata": {},
   "outputs": [],
   "source": [
    "#create a master reference dataframe that maps all census tracts in the bay to their type\n",
    "files = [f for f in os.listdir(\"/Users/ameliabaum/Desktop/Amelia/CRA_Thesis/data/downloaded_raw\") if f[-3:] == \"csv\"]\n",
    "dfs = []\n",
    "for file in files:\n",
    "    df = pd.read_csv(\"/Users/ameliabaum/Desktop/Amelia/CRA_Thesis/data/parsed_data/\"+file) \n",
    "    dflite = df[[\"Tract\", \"Tract type\", \"Year\", \"County\", \"CRA Eligible\"]]\n",
    "    dfs.append(df)\n",
    "    master = pd.concat(dfs, axis=0)\n",
    "    for tract, tract_df in dflite.groupby(\"Tract\"):\n",
    "        row_list = [tract, tract_df[\"Type\"].iloc[0], tract_df[\"county_name\"].iloc[0],\n",
    "                    tract_df[\"Tract type\"].iloc[0], tract_df[\"CRA eligible tract\"].iloc[0]]\n",
    "    \n",
    "\n",
    "\n"
   ]
  },
  {
   "cell_type": "code",
   "execution_count": 64,
   "metadata": {},
   "outputs": [
    {
     "data": {
      "text/html": [
       "<div>\n",
       "<style>\n",
       "    .dataframe thead tr:only-child th {\n",
       "        text-align: right;\n",
       "    }\n",
       "\n",
       "    .dataframe thead th {\n",
       "        text-align: left;\n",
       "    }\n",
       "\n",
       "    .dataframe tbody tr th {\n",
       "        vertical-align: top;\n",
       "    }\n",
       "</style>\n",
       "<table border=\"1\" class=\"dataframe\">\n",
       "  <thead>\n",
       "    <tr style=\"text-align: right;\">\n",
       "      <th></th>\n",
       "      <th>Tract</th>\n",
       "      <th>Tract type</th>\n",
       "      <th>Year</th>\n",
       "      <th>County</th>\n",
       "      <th>CRA Eligible</th>\n",
       "    </tr>\n",
       "  </thead>\n",
       "  <tbody>\n",
       "    <tr>\n",
       "      <th>0</th>\n",
       "      <td>4001.00</td>\n",
       "      <td>high</td>\n",
       "      <td>2008</td>\n",
       "      <td>Alameda County</td>\n",
       "      <td>not eligible</td>\n",
       "    </tr>\n",
       "    <tr>\n",
       "      <th>1</th>\n",
       "      <td>4002.00</td>\n",
       "      <td>high</td>\n",
       "      <td>2008</td>\n",
       "      <td>Alameda County</td>\n",
       "      <td>not eligible</td>\n",
       "    </tr>\n",
       "    <tr>\n",
       "      <th>2</th>\n",
       "      <td>4003.00</td>\n",
       "      <td>mid</td>\n",
       "      <td>2008</td>\n",
       "      <td>Alameda County</td>\n",
       "      <td>not eligible</td>\n",
       "    </tr>\n",
       "    <tr>\n",
       "      <th>3</th>\n",
       "      <td>4004.00</td>\n",
       "      <td>mid</td>\n",
       "      <td>2008</td>\n",
       "      <td>Alameda County</td>\n",
       "      <td>not eligible</td>\n",
       "    </tr>\n",
       "    <tr>\n",
       "      <th>4</th>\n",
       "      <td>4005.00</td>\n",
       "      <td>mod</td>\n",
       "      <td>2008</td>\n",
       "      <td>Alameda County</td>\n",
       "      <td>eligible</td>\n",
       "    </tr>\n",
       "    <tr>\n",
       "      <th>5</th>\n",
       "      <td>4006.00</td>\n",
       "      <td>mod</td>\n",
       "      <td>2008</td>\n",
       "      <td>Alameda County</td>\n",
       "      <td>eligible</td>\n",
       "    </tr>\n",
       "    <tr>\n",
       "      <th>6</th>\n",
       "      <td>4007.00</td>\n",
       "      <td>mod</td>\n",
       "      <td>2008</td>\n",
       "      <td>Alameda County</td>\n",
       "      <td>eligible</td>\n",
       "    </tr>\n",
       "    <tr>\n",
       "      <th>7</th>\n",
       "      <td>4008.00</td>\n",
       "      <td>mod</td>\n",
       "      <td>2008</td>\n",
       "      <td>Alameda County</td>\n",
       "      <td>eligible</td>\n",
       "    </tr>\n",
       "    <tr>\n",
       "      <th>8</th>\n",
       "      <td>4009.00</td>\n",
       "      <td>mod</td>\n",
       "      <td>2008</td>\n",
       "      <td>Alameda County</td>\n",
       "      <td>eligible</td>\n",
       "    </tr>\n",
       "    <tr>\n",
       "      <th>9</th>\n",
       "      <td>4010.00</td>\n",
       "      <td>low</td>\n",
       "      <td>2008</td>\n",
       "      <td>Alameda County</td>\n",
       "      <td>eligible</td>\n",
       "    </tr>\n",
       "    <tr>\n",
       "      <th>10</th>\n",
       "      <td>4011.00</td>\n",
       "      <td>mod</td>\n",
       "      <td>2008</td>\n",
       "      <td>Alameda County</td>\n",
       "      <td>eligible</td>\n",
       "    </tr>\n",
       "    <tr>\n",
       "      <th>11</th>\n",
       "      <td>4012.00</td>\n",
       "      <td>mid</td>\n",
       "      <td>2008</td>\n",
       "      <td>Alameda County</td>\n",
       "      <td>not eligible</td>\n",
       "    </tr>\n",
       "    <tr>\n",
       "      <th>12</th>\n",
       "      <td>4013.00</td>\n",
       "      <td>low</td>\n",
       "      <td>2008</td>\n",
       "      <td>Alameda County</td>\n",
       "      <td>eligible</td>\n",
       "    </tr>\n",
       "    <tr>\n",
       "      <th>13</th>\n",
       "      <td>4014.00</td>\n",
       "      <td>low</td>\n",
       "      <td>2008</td>\n",
       "      <td>Alameda County</td>\n",
       "      <td>eligible</td>\n",
       "    </tr>\n",
       "    <tr>\n",
       "      <th>14</th>\n",
       "      <td>4015.00</td>\n",
       "      <td>low</td>\n",
       "      <td>2008</td>\n",
       "      <td>Alameda County</td>\n",
       "      <td>eligible</td>\n",
       "    </tr>\n",
       "    <tr>\n",
       "      <th>15</th>\n",
       "      <td>4016.00</td>\n",
       "      <td>low</td>\n",
       "      <td>2008</td>\n",
       "      <td>Alameda County</td>\n",
       "      <td>eligible</td>\n",
       "    </tr>\n",
       "    <tr>\n",
       "      <th>16</th>\n",
       "      <td>4017.00</td>\n",
       "      <td>low</td>\n",
       "      <td>2008</td>\n",
       "      <td>Alameda County</td>\n",
       "      <td>eligible</td>\n",
       "    </tr>\n",
       "    <tr>\n",
       "      <th>17</th>\n",
       "      <td>4018.00</td>\n",
       "      <td>low</td>\n",
       "      <td>2008</td>\n",
       "      <td>Alameda County</td>\n",
       "      <td>eligible</td>\n",
       "    </tr>\n",
       "    <tr>\n",
       "      <th>18</th>\n",
       "      <td>4019.00</td>\n",
       "      <td>mid</td>\n",
       "      <td>2008</td>\n",
       "      <td>Alameda County</td>\n",
       "      <td>not eligible</td>\n",
       "    </tr>\n",
       "    <tr>\n",
       "      <th>19</th>\n",
       "      <td>4020.00</td>\n",
       "      <td>mid</td>\n",
       "      <td>2008</td>\n",
       "      <td>Alameda County</td>\n",
       "      <td>not eligible</td>\n",
       "    </tr>\n",
       "    <tr>\n",
       "      <th>20</th>\n",
       "      <td>4021.00</td>\n",
       "      <td>low</td>\n",
       "      <td>2008</td>\n",
       "      <td>Alameda County</td>\n",
       "      <td>eligible</td>\n",
       "    </tr>\n",
       "    <tr>\n",
       "      <th>21</th>\n",
       "      <td>4022.00</td>\n",
       "      <td>low</td>\n",
       "      <td>2008</td>\n",
       "      <td>Alameda County</td>\n",
       "      <td>eligible</td>\n",
       "    </tr>\n",
       "    <tr>\n",
       "      <th>22</th>\n",
       "      <td>4023.00</td>\n",
       "      <td>mod</td>\n",
       "      <td>2008</td>\n",
       "      <td>Alameda County</td>\n",
       "      <td>eligible</td>\n",
       "    </tr>\n",
       "    <tr>\n",
       "      <th>23</th>\n",
       "      <td>4024.00</td>\n",
       "      <td>low</td>\n",
       "      <td>2008</td>\n",
       "      <td>Alameda County</td>\n",
       "      <td>eligible</td>\n",
       "    </tr>\n",
       "    <tr>\n",
       "      <th>24</th>\n",
       "      <td>4025.00</td>\n",
       "      <td>low</td>\n",
       "      <td>2008</td>\n",
       "      <td>Alameda County</td>\n",
       "      <td>eligible</td>\n",
       "    </tr>\n",
       "    <tr>\n",
       "      <th>25</th>\n",
       "      <td>4026.00</td>\n",
       "      <td>low</td>\n",
       "      <td>2008</td>\n",
       "      <td>Alameda County</td>\n",
       "      <td>eligible</td>\n",
       "    </tr>\n",
       "    <tr>\n",
       "      <th>26</th>\n",
       "      <td>4027.00</td>\n",
       "      <td>low</td>\n",
       "      <td>2008</td>\n",
       "      <td>Alameda County</td>\n",
       "      <td>eligible</td>\n",
       "    </tr>\n",
       "    <tr>\n",
       "      <th>27</th>\n",
       "      <td>4028.00</td>\n",
       "      <td>low</td>\n",
       "      <td>2008</td>\n",
       "      <td>Alameda County</td>\n",
       "      <td>eligible</td>\n",
       "    </tr>\n",
       "    <tr>\n",
       "      <th>28</th>\n",
       "      <td>4029.00</td>\n",
       "      <td>low</td>\n",
       "      <td>2008</td>\n",
       "      <td>Alameda County</td>\n",
       "      <td>eligible</td>\n",
       "    </tr>\n",
       "    <tr>\n",
       "      <th>29</th>\n",
       "      <td>4030.00</td>\n",
       "      <td>low</td>\n",
       "      <td>2008</td>\n",
       "      <td>Alameda County</td>\n",
       "      <td>eligible</td>\n",
       "    </tr>\n",
       "    <tr>\n",
       "      <th>...</th>\n",
       "      <td>...</td>\n",
       "      <td>...</td>\n",
       "      <td>...</td>\n",
       "      <td>...</td>\n",
       "      <td>...</td>\n",
       "    </tr>\n",
       "    <tr>\n",
       "      <th>289</th>\n",
       "      <td>4503.00</td>\n",
       "      <td>mid</td>\n",
       "      <td>2008</td>\n",
       "      <td>Alameda County</td>\n",
       "      <td>not eligible</td>\n",
       "    </tr>\n",
       "    <tr>\n",
       "      <th>290</th>\n",
       "      <td>4504.00</td>\n",
       "      <td>mid</td>\n",
       "      <td>2008</td>\n",
       "      <td>Alameda County</td>\n",
       "      <td>not eligible</td>\n",
       "    </tr>\n",
       "    <tr>\n",
       "      <th>291</th>\n",
       "      <td>4505.00</td>\n",
       "      <td>high</td>\n",
       "      <td>2008</td>\n",
       "      <td>Alameda County</td>\n",
       "      <td>not eligible</td>\n",
       "    </tr>\n",
       "    <tr>\n",
       "      <th>292</th>\n",
       "      <td>4506.01</td>\n",
       "      <td>high</td>\n",
       "      <td>2008</td>\n",
       "      <td>Alameda County</td>\n",
       "      <td>not eligible</td>\n",
       "    </tr>\n",
       "    <tr>\n",
       "      <th>293</th>\n",
       "      <td>4506.02</td>\n",
       "      <td>high</td>\n",
       "      <td>2008</td>\n",
       "      <td>Alameda County</td>\n",
       "      <td>not eligible</td>\n",
       "    </tr>\n",
       "    <tr>\n",
       "      <th>294</th>\n",
       "      <td>4506.03</td>\n",
       "      <td>high</td>\n",
       "      <td>2008</td>\n",
       "      <td>Alameda County</td>\n",
       "      <td>not eligible</td>\n",
       "    </tr>\n",
       "    <tr>\n",
       "      <th>295</th>\n",
       "      <td>4506.04</td>\n",
       "      <td>high</td>\n",
       "      <td>2008</td>\n",
       "      <td>Alameda County</td>\n",
       "      <td>not eligible</td>\n",
       "    </tr>\n",
       "    <tr>\n",
       "      <th>296</th>\n",
       "      <td>4506.05</td>\n",
       "      <td>high</td>\n",
       "      <td>2008</td>\n",
       "      <td>Alameda County</td>\n",
       "      <td>not eligible</td>\n",
       "    </tr>\n",
       "    <tr>\n",
       "      <th>297</th>\n",
       "      <td>4506.06</td>\n",
       "      <td>high</td>\n",
       "      <td>2008</td>\n",
       "      <td>Alameda County</td>\n",
       "      <td>not eligible</td>\n",
       "    </tr>\n",
       "    <tr>\n",
       "      <th>298</th>\n",
       "      <td>4506.07</td>\n",
       "      <td>mid</td>\n",
       "      <td>2008</td>\n",
       "      <td>Alameda County</td>\n",
       "      <td>not eligible</td>\n",
       "    </tr>\n",
       "    <tr>\n",
       "      <th>299</th>\n",
       "      <td>4507.01</td>\n",
       "      <td>high</td>\n",
       "      <td>2008</td>\n",
       "      <td>Alameda County</td>\n",
       "      <td>not eligible</td>\n",
       "    </tr>\n",
       "    <tr>\n",
       "      <th>300</th>\n",
       "      <td>4507.03</td>\n",
       "      <td>high</td>\n",
       "      <td>2008</td>\n",
       "      <td>Alameda County</td>\n",
       "      <td>not eligible</td>\n",
       "    </tr>\n",
       "    <tr>\n",
       "      <th>301</th>\n",
       "      <td>4507.21</td>\n",
       "      <td>high</td>\n",
       "      <td>2008</td>\n",
       "      <td>Alameda County</td>\n",
       "      <td>not eligible</td>\n",
       "    </tr>\n",
       "    <tr>\n",
       "      <th>302</th>\n",
       "      <td>4507.22</td>\n",
       "      <td>high</td>\n",
       "      <td>2008</td>\n",
       "      <td>Alameda County</td>\n",
       "      <td>not eligible</td>\n",
       "    </tr>\n",
       "    <tr>\n",
       "      <th>303</th>\n",
       "      <td>4507.41</td>\n",
       "      <td>mid</td>\n",
       "      <td>2008</td>\n",
       "      <td>Alameda County</td>\n",
       "      <td>not eligible</td>\n",
       "    </tr>\n",
       "    <tr>\n",
       "      <th>304</th>\n",
       "      <td>4507.42</td>\n",
       "      <td>high</td>\n",
       "      <td>2008</td>\n",
       "      <td>Alameda County</td>\n",
       "      <td>not eligible</td>\n",
       "    </tr>\n",
       "    <tr>\n",
       "      <th>305</th>\n",
       "      <td>4511.01</td>\n",
       "      <td>high</td>\n",
       "      <td>2008</td>\n",
       "      <td>Alameda County</td>\n",
       "      <td>not eligible</td>\n",
       "    </tr>\n",
       "    <tr>\n",
       "      <th>306</th>\n",
       "      <td>4511.02</td>\n",
       "      <td>high</td>\n",
       "      <td>2008</td>\n",
       "      <td>Alameda County</td>\n",
       "      <td>not eligible</td>\n",
       "    </tr>\n",
       "    <tr>\n",
       "      <th>307</th>\n",
       "      <td>4512.01</td>\n",
       "      <td>mid</td>\n",
       "      <td>2008</td>\n",
       "      <td>Alameda County</td>\n",
       "      <td>not eligible</td>\n",
       "    </tr>\n",
       "    <tr>\n",
       "      <th>308</th>\n",
       "      <td>4512.02</td>\n",
       "      <td>high</td>\n",
       "      <td>2008</td>\n",
       "      <td>Alameda County</td>\n",
       "      <td>not eligible</td>\n",
       "    </tr>\n",
       "    <tr>\n",
       "      <th>309</th>\n",
       "      <td>4513.00</td>\n",
       "      <td>high</td>\n",
       "      <td>2008</td>\n",
       "      <td>Alameda County</td>\n",
       "      <td>not eligible</td>\n",
       "    </tr>\n",
       "    <tr>\n",
       "      <th>310</th>\n",
       "      <td>4514.01</td>\n",
       "      <td>high</td>\n",
       "      <td>2008</td>\n",
       "      <td>Alameda County</td>\n",
       "      <td>not eligible</td>\n",
       "    </tr>\n",
       "    <tr>\n",
       "      <th>311</th>\n",
       "      <td>4514.02</td>\n",
       "      <td>mid</td>\n",
       "      <td>2008</td>\n",
       "      <td>Alameda County</td>\n",
       "      <td>not eligible</td>\n",
       "    </tr>\n",
       "    <tr>\n",
       "      <th>312</th>\n",
       "      <td>4515.01</td>\n",
       "      <td>mid</td>\n",
       "      <td>2008</td>\n",
       "      <td>Alameda County</td>\n",
       "      <td>not eligible</td>\n",
       "    </tr>\n",
       "    <tr>\n",
       "      <th>313</th>\n",
       "      <td>4515.02</td>\n",
       "      <td>high</td>\n",
       "      <td>2008</td>\n",
       "      <td>Alameda County</td>\n",
       "      <td>not eligible</td>\n",
       "    </tr>\n",
       "    <tr>\n",
       "      <th>314</th>\n",
       "      <td>4515.03</td>\n",
       "      <td>mid</td>\n",
       "      <td>2008</td>\n",
       "      <td>Alameda County</td>\n",
       "      <td>not eligible</td>\n",
       "    </tr>\n",
       "    <tr>\n",
       "      <th>315</th>\n",
       "      <td>4516.01</td>\n",
       "      <td>high</td>\n",
       "      <td>2008</td>\n",
       "      <td>Alameda County</td>\n",
       "      <td>not eligible</td>\n",
       "    </tr>\n",
       "    <tr>\n",
       "      <th>316</th>\n",
       "      <td>4516.02</td>\n",
       "      <td>high</td>\n",
       "      <td>2008</td>\n",
       "      <td>Alameda County</td>\n",
       "      <td>not eligible</td>\n",
       "    </tr>\n",
       "    <tr>\n",
       "      <th>317</th>\n",
       "      <td>4517.01</td>\n",
       "      <td>mid</td>\n",
       "      <td>2008</td>\n",
       "      <td>Alameda County</td>\n",
       "      <td>not eligible</td>\n",
       "    </tr>\n",
       "    <tr>\n",
       "      <th>318</th>\n",
       "      <td>4517.02</td>\n",
       "      <td>high</td>\n",
       "      <td>2008</td>\n",
       "      <td>Alameda County</td>\n",
       "      <td>not eligible</td>\n",
       "    </tr>\n",
       "  </tbody>\n",
       "</table>\n",
       "<p>319 rows × 5 columns</p>\n",
       "</div>"
      ],
      "text/plain": [
       "       Tract Tract type  Year          County  CRA Eligible\n",
       "0    4001.00       high  2008  Alameda County  not eligible\n",
       "1    4002.00       high  2008  Alameda County  not eligible\n",
       "2    4003.00        mid  2008  Alameda County  not eligible\n",
       "3    4004.00        mid  2008  Alameda County  not eligible\n",
       "4    4005.00        mod  2008  Alameda County      eligible\n",
       "5    4006.00        mod  2008  Alameda County      eligible\n",
       "6    4007.00        mod  2008  Alameda County      eligible\n",
       "7    4008.00        mod  2008  Alameda County      eligible\n",
       "8    4009.00        mod  2008  Alameda County      eligible\n",
       "9    4010.00        low  2008  Alameda County      eligible\n",
       "10   4011.00        mod  2008  Alameda County      eligible\n",
       "11   4012.00        mid  2008  Alameda County  not eligible\n",
       "12   4013.00        low  2008  Alameda County      eligible\n",
       "13   4014.00        low  2008  Alameda County      eligible\n",
       "14   4015.00        low  2008  Alameda County      eligible\n",
       "15   4016.00        low  2008  Alameda County      eligible\n",
       "16   4017.00        low  2008  Alameda County      eligible\n",
       "17   4018.00        low  2008  Alameda County      eligible\n",
       "18   4019.00        mid  2008  Alameda County  not eligible\n",
       "19   4020.00        mid  2008  Alameda County  not eligible\n",
       "20   4021.00        low  2008  Alameda County      eligible\n",
       "21   4022.00        low  2008  Alameda County      eligible\n",
       "22   4023.00        mod  2008  Alameda County      eligible\n",
       "23   4024.00        low  2008  Alameda County      eligible\n",
       "24   4025.00        low  2008  Alameda County      eligible\n",
       "25   4026.00        low  2008  Alameda County      eligible\n",
       "26   4027.00        low  2008  Alameda County      eligible\n",
       "27   4028.00        low  2008  Alameda County      eligible\n",
       "28   4029.00        low  2008  Alameda County      eligible\n",
       "29   4030.00        low  2008  Alameda County      eligible\n",
       "..       ...        ...   ...             ...           ...\n",
       "289  4503.00        mid  2008  Alameda County  not eligible\n",
       "290  4504.00        mid  2008  Alameda County  not eligible\n",
       "291  4505.00       high  2008  Alameda County  not eligible\n",
       "292  4506.01       high  2008  Alameda County  not eligible\n",
       "293  4506.02       high  2008  Alameda County  not eligible\n",
       "294  4506.03       high  2008  Alameda County  not eligible\n",
       "295  4506.04       high  2008  Alameda County  not eligible\n",
       "296  4506.05       high  2008  Alameda County  not eligible\n",
       "297  4506.06       high  2008  Alameda County  not eligible\n",
       "298  4506.07        mid  2008  Alameda County  not eligible\n",
       "299  4507.01       high  2008  Alameda County  not eligible\n",
       "300  4507.03       high  2008  Alameda County  not eligible\n",
       "301  4507.21       high  2008  Alameda County  not eligible\n",
       "302  4507.22       high  2008  Alameda County  not eligible\n",
       "303  4507.41        mid  2008  Alameda County  not eligible\n",
       "304  4507.42       high  2008  Alameda County  not eligible\n",
       "305  4511.01       high  2008  Alameda County  not eligible\n",
       "306  4511.02       high  2008  Alameda County  not eligible\n",
       "307  4512.01        mid  2008  Alameda County  not eligible\n",
       "308  4512.02       high  2008  Alameda County  not eligible\n",
       "309  4513.00       high  2008  Alameda County  not eligible\n",
       "310  4514.01       high  2008  Alameda County  not eligible\n",
       "311  4514.02        mid  2008  Alameda County  not eligible\n",
       "312  4515.01        mid  2008  Alameda County  not eligible\n",
       "313  4515.02       high  2008  Alameda County  not eligible\n",
       "314  4515.03        mid  2008  Alameda County  not eligible\n",
       "315  4516.01       high  2008  Alameda County  not eligible\n",
       "316  4516.02       high  2008  Alameda County  not eligible\n",
       "317  4517.01        mid  2008  Alameda County  not eligible\n",
       "318  4517.02       high  2008  Alameda County  not eligible\n",
       "\n",
       "[319 rows x 5 columns]"
      ]
     },
     "execution_count": 64,
     "metadata": {},
     "output_type": "execute_result"
    }
   ],
   "source": [
    "df= pd.read_csv(\"/Users/ameliabaum/Desktop/Amelia/CRA_Thesis/data/parsed_data/Alameda_2008_parsed.csv\") \n",
    "dflite = df[[\"Tract\", \"Tract type\", \"Year\", \"County\", \"CRA Eligible\"]]\n",
    "#dflite.groupby([\"Tract\", \"Tract type\", \"Year\", \"County\", \"CRA Eligible\"], axis=0)\n",
    "dflite"
   ]
  },
  {
   "cell_type": "code",
   "execution_count": 17,
   "metadata": {},
   "outputs": [],
   "source": [
    "master.to_csv(\"tracts_type_master.csv\")"
   ]
  },
  {
   "cell_type": "code",
   "execution_count": 117,
   "metadata": {},
   "outputs": [],
   "source": [
    "#write a function that will create 4 dataframes for each county, one for each of the person/place categories. \n",
    "county_person_place = {}\n",
    "for county in bay_county_names:\n",
    "    years_df_hb_lt = []\n",
    "    years_df_hb_ht = []\n",
    "    years_df_lb_lt = []\n",
    "    years_df_lb_ht = []\n",
    "    for year in analysis_years:\n",
    "        years_df_hb_lt.append(tables_dict[county+ \"_\"+ year][['Tract', 'Year', 'County','HI borrower, LI tract']])\n",
    "        years_df_hb_ht.append(tables_dict[county+ \"_\"+ year][['Tract', 'Year', 'County','HI borrower, HI tract']])\n",
    "        years_df_lb_lt.append(tables_dict[county+ \"_\"+ year][['Tract', 'Year', 'County','LI borrower, LI tract']])\n",
    "        years_df_lb_ht.append(tables_dict[county+ \"_\"+ year][['Tract', 'Year', 'County','LI borrower, HI tract']])  \n",
    "    county_person_place[county+\"_hb_lt\"] = pd.concat(years_df_hb_lt, axis=0)\n",
    "    county_person_place[county+\"_hb_ht\"] = pd.concat(years_df_hb_ht, axis=0)\n",
    "    county_person_place[county+\"_lb_lt\"] = pd.concat(years_df_lb_lt, axis=0)\n",
    "    county_person_place[county+\"_lb_ht\"] = pd.concat(years_df_lb_ht, axis=0)\n",
    "        \n",
    "        \n"
   ]
  },
  {
   "cell_type": "code",
   "execution_count": 118,
   "metadata": {},
   "outputs": [
    {
     "name": "stdout",
     "output_type": "stream",
     "text": [
      "4046.0\n"
     ]
    },
    {
     "data": {
      "image/png": "[encoded data removed]",
      "text/plain": [
       "<Figure size 432x288 with 1 Axes>"
      ]
     },
     "metadata": {},
     "output_type": "display_data"
    },
    {
     "name": "stdout",
     "output_type": "stream",
     "text": [
      "4515.03\n"
     ]
    },
    {
     "data": {
      "image/png": "[encoded data removed]",
      "text/plain": [
       "<Figure size 432x288 with 1 Axes>"
      ]
     },
     "metadata": {},
     "output_type": "display_data"
    },
    {
     "name": "stdout",
     "output_type": "stream",
     "text": [
      "4231.0\n"
     ]
    },
    {
     "data": {
      "image/png": "[encoded data removed]",
      "text/plain": [
       "<Figure size 432x288 with 1 Axes>"
      ]
     },
     "metadata": {},
     "output_type": "display_data"
    },
    {
     "name": "stdout",
     "output_type": "stream",
     "text": [
      "4051.0\n"
     ]
    },
    {
     "data": {
      "image/png": "[encoded data removed]",
      "text/plain": [
       "<Figure size 432x288 with 1 Axes>"
      ]
     },
     "metadata": {},
     "output_type": "display_data"
    },
    {
     "name": "stdout",
     "output_type": "stream",
     "text": [
      "4312.0\n"
     ]
    },
    {
     "data": {
      "image/png": "[encoded data removed]",
      "text/plain": [
       "<Figure size 432x288 with 1 Axes>"
      ]
     },
     "metadata": {},
     "output_type": "display_data"
    },
    {
     "name": "stdout",
     "output_type": "stream",
     "text": [
      "4042.0\n"
     ]
    },
    {
     "data": {
      "image/png": "[encoded data removed]",
      "text/plain": [
       "<Figure size 432x288 with 1 Axes>"
      ]
     },
     "metadata": {},
     "output_type": "display_data"
    },
    {
     "name": "stdout",
     "output_type": "stream",
     "text": [
      "4095.0\n"
     ]
    },
    {
     "data": {
      "image/png": "[encoded data removed]",
      "text/plain": [
       "<Figure size 432x288 with 1 Axes>"
      ]
     },
     "metadata": {},
     "output_type": "display_data"
    }
   ],
   "source": [
    "for i in range(7):\n",
    "    tract = county_person_place[\"Alameda_hb_lt\"].sample()[\"Tract\"].values[0]\n",
    "    print(tract)\n",
    "    foo_hblt = county_person_place[\"Alameda_hb_lt\"][county_person_place[\"Alameda_hb_lt\"][\"Tract\"] == tract]\n",
    "    foo_hbht = county_person_place[\"Alameda_hb_ht\"][county_person_place[\"Alameda_hb_ht\"][\"Tract\"] == tract]\n",
    "    foo_lblt = county_person_place[\"Alameda_lb_lt\"][county_person_place[\"Alameda_lb_lt\"][\"Tract\"] == tract]\n",
    "    foo_lbht = county_person_place[\"Alameda_lb_ht\"][county_person_place[\"Alameda_lb_ht\"][\"Tract\"] == tract]\n",
    "    p1 = plt.bar(foo_hblt[\"Year\"], foo_hblt[\"HI borrower, LI tract\"])\n",
    "    p2 = plt.bar(foo_hbht[\"Year\"], foo_hbht[\"HI borrower, HI tract\"], bottom=foo_hblt[\"HI borrower, LI tract\"])\n",
    "    p3 = plt.bar(foo_lblt[\"Year\"], foo_lblt[\"LI borrower, LI tract\"], bottom=foo_hblt[\"HI borrower, LI tract\"]+foo_hbht[\"HI borrower, HI tract\"])\n",
    "    p4 = plt.bar(foo_lbht[\"Year\"], foo_lbht[\"LI borrower, HI tract\"], bottom=foo_hblt[\"HI borrower, LI tract\"]+foo_hbht[\"HI borrower, HI tract\"]+foo_lblt[\"LI borrower, LI tract\"])\n",
    "\n",
    "    # plt.plot(foo_hblt[\"Year\"], foo_hblt[\"HI borrower, LI tract\"])\n",
    "    # plt.plot(foo_hbht[\"Year\"], foo_hbht[\"HI borrower, HI tract\"])\n",
    "    # plt.plot(foo_lblt[\"Year\"], foo_lblt[\"LI borrower, LI tract\"])\n",
    "    # plt.plot(foo_lbht[\"Year\"], foo_lbht[\"LI borrower, HI tract\"])\n",
    "    plt.legend((p1[0], p2[0], p3[0], p4[0]), ('HI borrower, LI tract', 'HI borrower, HI tract', \"LI borrower, LI tract\", \"LI borrower, HI tract\"))\n",
    "    plt.title(tract)\n",
    "    plt.show()\n"
   ]
  },
  {
   "cell_type": "code",
   "execution_count": null,
   "metadata": {},
   "outputs": [],
   "source": []
  },
  {
   "cell_type": "code",
   "execution_count": null,
   "metadata": {},
   "outputs": [],
   "source": []
  }
 ],
 "metadata": {
  "kernelspec": {
   "display_name": "Python 3",
   "language": "python",
   "name": "python3"
  },
  "language_info": {
   "codemirror_mode": {
    "name": "ipython",
    "version": 3
   },
   "file_extension": ".py",
   "mimetype": "text/x-python",
   "name": "python",
   "nbconvert_exporter": "python",
   "pygments_lexer": "ipython3",
   "version": "3.6.5"
  }
 },
 "nbformat": 4,
 "nbformat_minor": 2
}
