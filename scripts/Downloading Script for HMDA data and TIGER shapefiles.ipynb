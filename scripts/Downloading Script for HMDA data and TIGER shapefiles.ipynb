{
 "cells": [
  {
   "cell_type": "code",
   "execution_count": 2,
   "metadata": {},
   "outputs": [],
   "source": [
    "import urllib.request"
   ]
  },
  {
   "cell_type": "code",
   "execution_count": 3,
   "metadata": {},
   "outputs": [],
   "source": [
    "county_codes = ['001', '013', '041', '055', '075', '081', '085', '097', '095']\n",
    "county_names = [\"Alameda\", \"ContraCosta\", \"Marin\", \"Napa\", \"SanFrancisco\", \"SanMateo\", \"SantaClara\", \"Sonoma\", \"Solano\"]\n",
    "years = range(2008,2018)\n"
   ]
  },
  {
   "cell_type": "code",
   "execution_count": 4,
   "metadata": {},
   "outputs": [],
   "source": [
    "hmda_base_url = \"https://api.consumerfinance.gov/data/hmda/slice/hmda_lar.csv?&$where=as_of_year={0}+AND+loan_purpose=1+AND+((state_code=6+AND+county_code+IN+({1})))&$select=tract_to_msamd_income,rate_spread,population,minority_population,number_of_owner_occupied_units,number_of_1_to_4_family_units,loan_amount_000s,hud_median_family_income,applicant_income_000s,state_name,state_abbr,sequence_number,respondent_id,purchaser_type_name,property_type_name,preapproval_name,owner_occupancy_name,msamd_name,loan_type_name,loan_purpose_name,lien_status_name,hoepa_status_name,edit_status_name,denial_reason_name_3,denial_reason_name_2,denial_reason_name_1,county_name,co_applicant_sex_name,co_applicant_race_name_5,co_applicant_race_name_4,co_applicant_race_name_3,co_applicant_race_name_2,co_applicant_race_name_1,co_applicant_ethnicity_name,census_tract_number,as_of_year,application_date_indicator,applicant_sex_name,applicant_race_name_5,applicant_race_name_4,applicant_race_name_3,applicant_race_name_2,applicant_race_name_1,applicant_ethnicity_name,agency_name,agency_abbr,action_taken_name&$limit=0\""
   ]
  },
  {
   "cell_type": "code",
   "execution_count": 6,
   "metadata": {},
   "outputs": [],
   "source": [
    "#this code downloads the HMDA data from cfpb explorer for every county and year and writes to csv files, \n",
    "#one for each county and year combination. It downloads all the HMDA data for: mortgages first lien, owner occupied,\n",
    "#1-4 family homes, for ALL loan actions\n",
    "for code, name in zip(county_codes, county_names):\n",
    "    for year in years:\n",
    "        response = urllib.request.urlopen(hmda_base_url.format(year, code))\n",
    "        data = response.read()\n",
    "        csv = data.decode('utf-8')\n",
    "        with open(\"/Users/ameliabaum/Desktop/Amelia/CRA_Thesis/communityreinvestmentact/data/raw_hmda/\"+name+'_'+str(year)+'.csv', 'w') as outfile: \n",
    "            print(\"writing... \" + name+ ' '+str(year))\n",
    "            outfile.write(csv)\n"
   ]
  },
  {
   "cell_type": "code",
   "execution_count": 4,
   "metadata": {},
   "outputs": [],
   "source": [
    "shapefiles_base_url = 'https://www.census.gov/cgi-bin/geo/shapefiles{0}/county-files?county={1}'\n"
   ]
  },
  {
   "cell_type": "code",
   "execution_count": 7,
   "metadata": {},
   "outputs": [],
   "source": [
    "#this script downloads the the year and county specific TIGERLINE shapefiles from Census.org\n",
    "for code, name in zip(county_codes, county_names):\n",
    "    for year in years:\n",
    "        response = urllib.request.urlopen(shapefiles_base_url.format(year, \"06\"+code))\n",
    "        print(response)\n",
    "        data = response.read() \n",
    "        csv = data.decode('utf-8')\n",
    "        print(csv)\n",
    "        with open(\"/Users/ameliabaum/Desktop/Amelia/CRA_Thesis/communityreinvestmentact/data/raw_shapefiles/\"+name+'_'+str(year)+'.csv', 'w') as outfile: \n",
    "            print(\"writing... \" + name+ ' '+str(year))\n",
    "            outfile.write(csv)#this means that you are writing\n",
    "            "
   ]
  },
  {
   "cell_type": "code",
   "execution_count": null,
   "metadata": {},
   "outputs": [],
   "source": []
  }
 ],
 "metadata": {
  "kernelspec": {
   "display_name": "Python 3",
   "language": "python",
   "name": "python3"
  },
  "language_info": {
   "codemirror_mode": {
    "name": "ipython",
    "version": 3
   },
   "file_extension": ".py",
   "mimetype": "text/x-python",
   "name": "python",
   "nbconvert_exporter": "python",
   "pygments_lexer": "ipython3",
   "version": "3.7.0"
  }
 },
 "nbformat": 4,
 "nbformat_minor": 2
}
