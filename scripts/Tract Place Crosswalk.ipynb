{
 "cells": [
  {
   "cell_type": "code",
   "execution_count": 44,
   "metadata": {},
   "outputs": [],
   "source": [
    "import pandas as pd\n",
    "import geopandas as gp\n",
    "import os\n"
   ]
  },
  {
   "cell_type": "code",
   "execution_count": 45,
   "metadata": {},
   "outputs": [],
   "source": [
    "bay_county_names = [\"Alameda\", \"ContraCosta\", \"Sonoma\", \"Solano\", \"SanMateo\", \"SantaClara\", \"SanFrancisco\", \"Marin\",\"Napa\"] \n",
    "analysis_years = [\"2008\", \"2009\",\"2010\", \"2011\", \"2012\", \"2013\", \"2014\", \"2015\", \"2016\", \"2017\"]\n",
    "slump_years = [\"2008\", \"2009\",\"2010\", \"2011\", \"2012\"]\n",
    "recovery_years = [\"2013\", \"2014\", \"2015\", \"2016\", \"2017\"]"
   ]
  },
  {
   "cell_type": "markdown",
   "metadata": {},
   "source": [
    "CT- Place crosswalk from Missouri geocorr 2000"
   ]
  },
  {
   "cell_type": "code",
   "execution_count": 46,
   "metadata": {},
   "outputs": [
    {
     "data": {
      "text/html": [
       "<div>\n",
       "<style scoped>\n",
       "    .dataframe tbody tr th:only-of-type {\n",
       "        vertical-align: middle;\n",
       "    }\n",
       "\n",
       "    .dataframe tbody tr th {\n",
       "        vertical-align: top;\n",
       "    }\n",
       "\n",
       "    .dataframe thead th {\n",
       "        text-align: right;\n",
       "    }\n",
       "</style>\n",
       "<table border=\"1\" class=\"dataframe\">\n",
       "  <thead>\n",
       "    <tr style=\"text-align: right;\">\n",
       "      <th></th>\n",
       "      <th>county</th>\n",
       "      <th>tract</th>\n",
       "      <th>FIPS state</th>\n",
       "      <th>placefp</th>\n",
       "      <th>State Postal Code</th>\n",
       "      <th>cntyname</th>\n",
       "      <th>Place Name</th>\n",
       "      <th>Total Hsg. Units, 2000 census</th>\n",
       "      <th>tract to placefp allocation factor</th>\n",
       "    </tr>\n",
       "  </thead>\n",
       "  <tbody>\n",
       "    <tr>\n",
       "      <th>0</th>\n",
       "      <td>6001</td>\n",
       "      <td>4001.0</td>\n",
       "      <td>6</td>\n",
       "      <td>53000</td>\n",
       "      <td>CA</td>\n",
       "      <td>Alameda CA</td>\n",
       "      <td>Oakland city</td>\n",
       "      <td>1177</td>\n",
       "      <td>1</td>\n",
       "    </tr>\n",
       "    <tr>\n",
       "      <th>1</th>\n",
       "      <td>6001</td>\n",
       "      <td>4002.0</td>\n",
       "      <td>6</td>\n",
       "      <td>53000</td>\n",
       "      <td>CA</td>\n",
       "      <td>Alameda CA</td>\n",
       "      <td>Oakland city</td>\n",
       "      <td>873</td>\n",
       "      <td>1</td>\n",
       "    </tr>\n",
       "    <tr>\n",
       "      <th>2</th>\n",
       "      <td>6001</td>\n",
       "      <td>4003.0</td>\n",
       "      <td>6</td>\n",
       "      <td>53000</td>\n",
       "      <td>CA</td>\n",
       "      <td>Alameda CA</td>\n",
       "      <td>Oakland city</td>\n",
       "      <td>2567</td>\n",
       "      <td>1</td>\n",
       "    </tr>\n",
       "    <tr>\n",
       "      <th>3</th>\n",
       "      <td>6001</td>\n",
       "      <td>4004.0</td>\n",
       "      <td>6</td>\n",
       "      <td>53000</td>\n",
       "      <td>CA</td>\n",
       "      <td>Alameda CA</td>\n",
       "      <td>Oakland city</td>\n",
       "      <td>1880</td>\n",
       "      <td>1</td>\n",
       "    </tr>\n",
       "    <tr>\n",
       "      <th>4</th>\n",
       "      <td>6001</td>\n",
       "      <td>4005.0</td>\n",
       "      <td>6</td>\n",
       "      <td>53000</td>\n",
       "      <td>CA</td>\n",
       "      <td>Alameda CA</td>\n",
       "      <td>Oakland city</td>\n",
       "      <td>1592</td>\n",
       "      <td>1</td>\n",
       "    </tr>\n",
       "  </tbody>\n",
       "</table>\n",
       "</div>"
      ],
      "text/plain": [
       "   county   tract  FIPS state  placefp State Postal Code    cntyname  \\\n",
       "0    6001  4001.0           6    53000                CA  Alameda CA   \n",
       "1    6001  4002.0           6    53000                CA  Alameda CA   \n",
       "2    6001  4003.0           6    53000                CA  Alameda CA   \n",
       "3    6001  4004.0           6    53000                CA  Alameda CA   \n",
       "4    6001  4005.0           6    53000                CA  Alameda CA   \n",
       "\n",
       "     Place Name  Total Hsg. Units, 2000 census  \\\n",
       "0  Oakland city                           1177   \n",
       "1  Oakland city                            873   \n",
       "2  Oakland city                           2567   \n",
       "3  Oakland city                           1880   \n",
       "4  Oakland city                           1592   \n",
       "\n",
       "  tract to placefp allocation factor  \n",
       "0                                  1  \n",
       "1                                  1  \n",
       "2                                  1  \n",
       "3                                  1  \n",
       "4                                  1  "
      ]
     },
     "execution_count": 46,
     "metadata": {},
     "output_type": "execute_result"
    }
   ],
   "source": [
    "crosswalk = pd.read_csv(\"data/downloaded_raw/geocorr2000.csv\")\n",
    "crosswalk.head()"
   ]
  },
  {
   "cell_type": "code",
   "execution_count": 136,
   "metadata": {},
   "outputs": [],
   "source": [
    "# hmda_geodata_09 = pd.read_csv(\"/Users/ameliabaum/Desktop/Amelia/CRA_Thesis/data/geo_data/all_bay_concat_2009.csv\").drop([\"Unnamed: 0\", \"Unnamed: 0.1\", \"Unnamed: 0.1.1\"], axis=1)\n",
    "# hmda_geodata_09.head()"
   ]
  },
  {
   "cell_type": "markdown",
   "metadata": {},
   "source": [
    "#### Merge the file with all the CTs in the 9 counties for each year with the crosswalk, and replace the empty place names with \"unincorporated non CDPs\". Exports a csv for each year that includes the place designation of each CT"
   ]
  },
  {
   "cell_type": "code",
   "execution_count": 47,
   "metadata": {},
   "outputs": [],
   "source": [
    "for year in analysis_years:\n",
    "    file = pd.read_csv(\"/Users/ameliabaum/Desktop/Amelia/CRA_Thesis/data/county_geo_data/all_bay_concat_\"+year+\".csv\")\n",
    "    merged = file.merge(crosswalk, how= 'left', left_on=\"Tract\", right_on=\"tract\")\n",
    "    merged[\"Place Name\"].replace(to_replace=' ', value='unincorporated non CDP', inplace=True)\n",
    "    merged.to_csv(\"data/place_parsed/allbay_place_geolocated_\"+str(year)+\"_.csv\")\n",
    "    #these will be dataframes with place assigned to them, I will want to concatenate them with the years in the\n",
    "    #defined range and then groupby average, so for now I should export them as individual years\n"
   ]
  },
  {
   "cell_type": "markdown",
   "metadata": {},
   "source": [
    "#### Append the dataframe for all the years in each of the ranges \"slump\" and \"recovery\" to create a dataframe for each range"
   ]
  },
  {
   "cell_type": "code",
   "execution_count": 49,
   "metadata": {},
   "outputs": [],
   "source": [
    "path = \"/Users/ameliabaum/Desktop/Amelia/CRA_Thesis/communityreinvestmentact/data/place_parsed/\"\n",
    "for year in analysis_years:\n",
    "    slump_csvs = []\n",
    "    recovery_csvs = []\n",
    "    slump_file_names = [f for f in os.listdir(path) \n",
    "                    if f[-3:] == \"csv\"\n",
    "                    and f.split('_')[3] in slump_years]\n",
    "    for file in slump_file_names:   \n",
    "        df = pd.read_csv(path+file)\n",
    "        slump_csvs.append(df)\n",
    "    slump = pd.concat(slump_csvs, axis=0)\n",
    "    recovery_file_names = [f for f in os.listdir(path) \n",
    "                    if f[-3:] == \"csv\"\n",
    "                    and f.split('_')[3] in recovery_years]\n",
    "    for file in recovery_file_names:\n",
    "        df = pd.read_csv(path + file)\n",
    "        recovery_csvs.append(df)\n",
    "    recovery = pd.concat(recovery_csvs, axis=0)\n",
    "\n",
    "\n"
   ]
  },
  {
   "cell_type": "markdown",
   "metadata": {},
   "source": [
    "#### Find the mean of the number and percentage of each type of loan within the range "
   ]
  },
  {
   "cell_type": "code",
   "execution_count": 50,
   "metadata": {},
   "outputs": [],
   "source": [
    "recovery_place_df = recovery.groupby(\"Place Name\").agg('mean')[['% HI borrower, LI tract', '# HI borrower, LI tract',\n",
    "       '% HI borrower, HI tract', '# HI borrower, HI tract',\n",
    "       '% LI borrower, LI tract', '# LI borrower, LI tract',\n",
    "       '%LI borrower, HI tract', '# LI borrower, HI tract', 'STATEFP00',\n",
    "       'COUNTYFP00', 'FIPS state']]\n",
    "slump_place_df = slump.groupby(\"Place Name\").agg('mean')[['% HI borrower, LI tract', '# HI borrower, LI tract',\n",
    "       '% HI borrower, HI tract', '# HI borrower, HI tract',\n",
    "       '% LI borrower, LI tract', '# LI borrower, LI tract',\n",
    "       '%LI borrower, HI tract', '# LI borrower, HI tract', 'STATEFP00',\n",
    "       'COUNTYFP00', 'FIPS state']]\n",
    "slump_place_df[\"Period\"] = \"slump 2008-2012\"\n",
    "recovery_place_df[\"Period\"] = \"recovery 2013-2017\""
   ]
  },
  {
   "cell_type": "code",
   "execution_count": null,
   "metadata": {},
   "outputs": [],
   "source": [
    "recovery_place_df.to_csv(path+ \"recovery_place_concat.csv\")\n",
    "slump_place_df.to_csv(path+\"slump_place_concat.csv\")"
   ]
  },
  {
   "cell_type": "markdown",
   "metadata": {},
   "source": [
    "#### Geocode the place files by using the census shapefiles"
   ]
  },
  {
   "cell_type": "code",
   "execution_count": 1,
   "metadata": {},
   "outputs": [],
   "source": [
    "#need to geocode the recovery and slump aggregated place files using place census shapefiles\n",
    "places = gp.read_file(\"/Users/ameliabaum/Desktop/Amelia/CRA_Thesis/data/raw_shapefiles/pl06_d00_shp/pl06_d00.shp\")\n",
    "places[\"Merge Name\"] = places[\"NAME\"] + \" \" +places[\"LSAD_TRANS\"]\n"
   ]
  },
  {
   "cell_type": "code",
   "execution_count": 24,
   "metadata": {},
   "outputs": [],
   "source": [
    "recovery_csv = pd.read_csv(\"/Users/ameliabaum/Desktop/Amelia/CRA_Thesis/data/place_parsed/recovery_place_concat.csv\")\n",
    "slump_csv = pd.read_csv(\"/Users/ameliabaum/Desktop/Amelia/CRA_Thesis/data/place_parsed/slump_place_concat.csv\")"
   ]
  },
  {
   "cell_type": "code",
   "execution_count": 41,
   "metadata": {},
   "outputs": [],
   "source": [
    "slump_geo = slump_csv.merge(places, how='left', left_on='Place Name', right_on='Merge Name').dropna()\n",
    "\n",
    "recovery_geo = recovery_csv.merge(places, how='left', left_on='Place Name', right_on='Merge Name').dropna()\n"
   ]
  },
  {
   "cell_type": "code",
   "execution_count": 42,
   "metadata": {},
   "outputs": [],
   "source": [
    "slump_geo_csv = slump_geo.to_csv('/Users/ameliabaum/Desktop/Amelia/CRA_Thesis/data/place_geo/slump_geo_parsed.csv')\n",
    "recovery_geo_csv = recovery_geo.to_csv('/Users/ameliabaum/Desktop/Amelia/CRA_Thesis/data/place_geo/recoveru_geo_parsed.csv')"
   ]
  }
 ],
 "metadata": {
  "kernelspec": {
   "display_name": "Python 3",
   "language": "python",
   "name": "python3"
  },
  "language_info": {
   "codemirror_mode": {
    "name": "ipython",
    "version": 3
   },
   "file_extension": ".py",
   "mimetype": "text/x-python",
   "name": "python",
   "nbconvert_exporter": "python",
   "pygments_lexer": "ipython3",
   "version": "3.7.0"
  }
 },
 "nbformat": 4,
 "nbformat_minor": 2
}
