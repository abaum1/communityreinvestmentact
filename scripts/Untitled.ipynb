{
 "cells": [
  {
   "cell_type": "code",
   "execution_count": null,
   "metadata": {},
   "outputs": [],
   "source": [
    "import pandas as pd\n",
    "import geopandas a"
   ]
  },
  {
   "cell_type": "code",
   "execution_count": null,
   "metadata": {},
   "outputs": [],
   "source": [
    "import statsmodels.formula.api as smf\n",
    "\n",
    "data = X_drop.copy()\n",
    "data = sm.add_constant(data, prepend=False)\n",
    "data.rename({'Percent NH Black or African African alone': \"NHBLK\", 'Percent NH White alone': 'NHWHITE', \n",
    "             'Percent NH Asian alone': 'NHASIAN', 'Percent Hispanic': 'HISPANIC', \n",
    "             'Percent of population 25 years and over with Bachelor\\'s degree': 'BACHELORS', \n",
    "             'All families - Percent  below poverty level; Estimate; Families': 'POVERTYRT',\n",
    "             '% Single Family': 'PCTSINGLE', '% Owner Occupied': 'PCTOWNER',\n",
    "             'Estimate; Total Number of Housing Units': 'UNITS',\n",
    "             'Estimate; Median value (dollars)': 'MEDVAL', 'Median income (dollars); All households': 'MEDINC',            \n",
    "            }, axis=1, inplace=True)\n",
    "\n",
    "features = list(data.columns)\n",
    "features\n",
    "data['y'] = y_drop\n",
    "\n",
    "#formula = 'y ~ ' + ' + '.join(features)\n",
    "formula = 'y ~ NHBLK + BACHELORS + PCTSINGLE + PCTOWNER + POVERTYRT + NHWHITE + NHBLK + NHASIAN + UNITS + NHASIAN + HISPANIC + MEDVAL + MEDINC + const' \n",
    "\n",
    "\n",
    "poisson_model = smf.glm(formula=formula, data=data, family=sm.families.Poisson()).fit()\n",
    "poisson_model.summary()"
   ]
  },
  {
   "cell_type": "code",
   "execution_count": null,
   "metadata": {},
   "outputs": [],
   "source": [
    "with open('/Users/ameliabaum/Desktop/Amelia/CRA_Thesis/communityreinvestmentact/results/poisson_regression_results_noCRA.html', 'w') as outfile:\n",
    "    outfile.write(poisson_model.summary().as_html())\n",
    "      \n",
    "  "
   ]
  }
 ],
 "metadata": {
  "kernelspec": {
   "display_name": "Python 3",
   "language": "python",
   "name": "python3"
  },
  "language_info": {
   "codemirror_mode": {
    "name": "ipython",
    "version": 3
   },
   "file_extension": ".py",
   "mimetype": "text/x-python",
   "name": "python",
   "nbconvert_exporter": "python",
   "pygments_lexer": "ipython3",
   "version": "3.7.0"
  }
 },
 "nbformat": 4,
 "nbformat_minor": 2
}
