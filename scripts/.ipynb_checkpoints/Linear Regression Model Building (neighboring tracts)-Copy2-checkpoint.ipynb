{
 "cells": [
  {
   "cell_type": "code",
   "execution_count": 1,
   "metadata": {},
   "outputs": [],
   "source": [
    "import pandas as pd\n",
    "import numpy as np\n",
    "import matplotlib.pyplot as plt\n",
    "\n",
    "import statsmodels.api as sm\n",
    "from statsmodels.base.model import GenericLikelihoodModel\n",
    "# from statsmodels.genmod.generalized_estimating_equations import GEE\n",
    "# from statsmodels.genmod.cov_struct import (Exchangeable,\n",
    "#     Independence,Autoregressive)\n",
    "# from statsmodels.genmod.families import Poisson\n"
   ]
  },
  {
   "cell_type": "markdown",
   "metadata": {},
   "source": [
    "#### Demographic Data Processing\n"
   ]
  },
  {
   "cell_type": "code",
   "execution_count": 2,
   "metadata": {},
   "outputs": [],
   "source": [
    "def remove_minus(x):\n",
    "    if (x == \"-\"):\n",
    "        return \"NaN\"\n",
    "    else:\n",
    "        return x.replace(\"-\", \"\").replace(\"+\", \"\").replace(\",\", \"\")"
   ]
  },
  {
   "cell_type": "code",
   "execution_count": 3,
   "metadata": {},
   "outputs": [
    {
     "name": "stdout",
     "output_type": "stream",
     "text": [
      "total counties in the bay represented in ACS data 7049\n"
     ]
    }
   ],
   "source": [
    "#this data is for 11 variables, all census tracts in California, using ACS 2009 5YR estimates \n",
    "\n",
    "demog_data_path = '/Users/ameliabaum/Desktop/Amelia/CRA_Thesis/communityreinvestmentact/data/demographic_data/'\n",
    "#get percentages of each race\n",
    "\n",
    "race = pd.read_csv(demog_data_path+ 'ACS_09_5YR_B03002_race_clean.csv')\n",
    "race[\"Percent NH White alone\"] = race[\"Estimate; Not Hispanic or Latino: - White alone\"]/race[\"Estimate; Total:\"]\n",
    "race[\"Percent NH Black or African African alone\"] = race[\"Estimate; Not Hispanic or Latino: - Black or African American alone\"]/race[\"Estimate; Total:\"]\n",
    "race[\"Percent NH Asian alone\"] = race[\"Estimate; Not Hispanic or Latino: - Asian alone\"]/race[\"Estimate; Total:\"]\n",
    "race[\"Percent Hispanic\"] = race[\"Estimate; Hispanic or Latino:\"]/race[\"Estimate; Total:\"]\n",
    "\n",
    "\n",
    "edu = pd.read_csv(demog_data_path+ 'ACS_09_5YR_S1501_bach_clean.csv')\n",
    "edu = edu.rename({\"Percent of population 25 years and over  with Bachelor\\'s degree\": \"Percent of population 25 years and over with Bachelor\\'s degree\"}, axis=1)\n",
    "edu[\"Percent of population 25 years and over with Bachelor\\'s degree\"] = edu[\"Percent of population 25 years and over with Bachelor\\'s degree\"].apply(lambda x: x.replace(\"+\", \"\").replace(\"-\", \"NaN\"))\n",
    "edu[\"Percent of population 25 years and over with Bachelor\\'s degree\"] = edu[\"Percent of population 25 years and over with Bachelor\\'s degree\"].astype(float).dropna()\n",
    "\n",
    "\n",
    "#get rid of + and ***\n",
    "hvalue = pd.read_csv(demog_data_path+ 'ACS_09_5YR_B25077_hvalue_clean.csv')\n",
    "hvalue[\"Estimate; Median value (dollars)\"] = hvalue[\"Estimate; Median value (dollars)\"].apply(lambda x: x.replace(\"+\", \"\").replace(\"-\", \"NaN\").replace(\",\", \"\"))\n",
    "hvalue[\"Estimate; Median value (dollars)\"] = hvalue[\"Estimate; Median value (dollars)\"].astype(float)\n",
    "\n",
    "#hvalue[\"Estimate; Median value (dollars)\"] = hvalue[\"Estimate; Median value (dollars)\"].astype(float).dropna()\n",
    "\n",
    "#add attached and detached and find the %\n",
    "single = pd.read_csv(demog_data_path+ 'ACS_09_5YR_B25024_singlefam_clean.csv')\n",
    "single[\"Total Single Family\"] = single[\"Estimate; 1, attached\"]+ single[\"Estimate; 1, detached\"]\n",
    "single[\"% Single Family\"] = single[\"Total Single Family\"] / single[\"Estimate; Total:\"]\n",
    "#single[\"Tract\"] = (single[\"Id2\"].astype(str)).apply(lambda x: int(x[4:8]))\n",
    "\n",
    "poverty = pd.read_csv(demog_data_path+\"ACS_09_5YR_S1702_povertyfam_clean.csv\")\n",
    "\n",
    "# poverty = pd.read_csv(demog_data_path+ \"ACS_17_5YR_S1701_poverty_clean.csv\")\n",
    "poverty['All families - Percent  below poverty level; Estimate; Families'] = poverty['All families - Percent  below poverty level; Estimate; Families'].apply(lambda x: x.replace(\"+\", \"\").replace(\"-\", \"NaN\"))\n",
    "poverty['All families - Percent  below poverty level; Estimate; Families'] = poverty['All families - Percent  below poverty level; Estimate; Families'].astype(float).dropna()\n",
    "\n",
    "\n",
    "\n",
    "units = pd.read_csv(demog_data_path+'ACS_09_5YR_B25001_units_clean.csv')\n",
    "#units[\"Tract\"] = (units[\"Id2\"].astype(str)).apply(lambda x: int(x[4:8]))\n",
    "\n",
    "\n",
    "#find % renter occupied\n",
    "tenure = pd.read_csv(demog_data_path+ 'ACS_09_5YR_B25003_tenure_clean.csv')\n",
    "tenure[\"% Renter Occupied\"] = tenure[\"Estimate; Renter occupied\"]/tenure[\"Estimate; Total:\"]\n",
    "tenure[\"% Owner Occupied\"] = tenure[\"Estimate; Owner occupied\"]/tenure[\"Estimate; Total:\"]\n",
    "\n",
    "\n",
    "income = pd.read_csv(demog_data_path + 'ACS_09_5YR_S1903_income.csv')\n",
    "income[\"Median income (dollars); All households\"] = income[\"Median income (dollars); All households\"].apply(remove_minus)\n",
    "\n",
    "income[\"Median income (dollars); All households\"] = income[\"Median income (dollars); All households\"].astype(float)\n",
    "\n",
    "print(\"total counties in the bay represented in ACS data\", len(income))\n",
    "\n",
    "\n",
    "\n"
   ]
  },
  {
   "cell_type": "markdown",
   "metadata": {},
   "source": [
    "#### Create Controlled features dataframe"
   ]
  },
  {
   "cell_type": "code",
   "execution_count": 4,
   "metadata": {},
   "outputs": [
    {
     "name": "stdout",
     "output_type": "stream",
     "text": [
      "race and units merged length 7049\n",
      "edu merged length 7049\n",
      "income merged length 7049\n",
      "poverty merged length 7049\n",
      "hvalue merged length 7049\n",
      "single merged length 7049\n",
      "tenure merged length 7049\n"
     ]
    },
    {
     "data": {
      "text/html": [
       "<div>\n",
       "<style scoped>\n",
       "    .dataframe tbody tr th:only-of-type {\n",
       "        vertical-align: middle;\n",
       "    }\n",
       "\n",
       "    .dataframe tbody tr th {\n",
       "        vertical-align: top;\n",
       "    }\n",
       "\n",
       "    .dataframe thead th {\n",
       "        text-align: right;\n",
       "    }\n",
       "</style>\n",
       "<table border=\"1\" class=\"dataframe\">\n",
       "  <thead>\n",
       "    <tr style=\"text-align: right;\">\n",
       "      <th></th>\n",
       "      <th>Id2</th>\n",
       "      <th>Geography_x</th>\n",
       "      <th>Estimate; Total:_x</th>\n",
       "      <th>Margin of Error; Total:_x</th>\n",
       "      <th>Estimate; Not Hispanic or Latino:</th>\n",
       "      <th>Estimate; Not Hispanic or Latino: - White alone</th>\n",
       "      <th>Estimate; Not Hispanic or Latino: - Black or African American alone</th>\n",
       "      <th>Estimate; Not Hispanic or Latino: - Asian alone</th>\n",
       "      <th>Estimate; Hispanic or Latino:</th>\n",
       "      <th>Estimate; Hispanic or Latino: - White alone</th>\n",
       "      <th>...</th>\n",
       "      <th>% Single Family</th>\n",
       "      <th>Geography_y</th>\n",
       "      <th>Estimate; Total:</th>\n",
       "      <th>Margin of Error; Total:</th>\n",
       "      <th>Estimate; Owner occupied</th>\n",
       "      <th>Margin of Error; Owner occupied</th>\n",
       "      <th>Estimate; Renter occupied</th>\n",
       "      <th>Margin of Error; Renter occupied</th>\n",
       "      <th>% Renter Occupied</th>\n",
       "      <th>% Owner Occupied</th>\n",
       "    </tr>\n",
       "  </thead>\n",
       "  <tbody>\n",
       "    <tr>\n",
       "      <th>0</th>\n",
       "      <td>6001400100</td>\n",
       "      <td>Census Tract 4001, Alameda County, California</td>\n",
       "      <td>2872</td>\n",
       "      <td>233</td>\n",
       "      <td>2851</td>\n",
       "      <td>2209</td>\n",
       "      <td>119</td>\n",
       "      <td>318</td>\n",
       "      <td>21</td>\n",
       "      <td>15</td>\n",
       "      <td>...</td>\n",
       "      <td>0.912439</td>\n",
       "      <td>Census Tract 4001, Alameda County, California</td>\n",
       "      <td>1308</td>\n",
       "      <td>108</td>\n",
       "      <td>1171</td>\n",
       "      <td>107</td>\n",
       "      <td>137</td>\n",
       "      <td>74</td>\n",
       "      <td>0.104740</td>\n",
       "      <td>0.895260</td>\n",
       "    </tr>\n",
       "    <tr>\n",
       "      <th>1</th>\n",
       "      <td>6001400200</td>\n",
       "      <td>Census Tract 4002, Alameda County, California</td>\n",
       "      <td>2076</td>\n",
       "      <td>165</td>\n",
       "      <td>1854</td>\n",
       "      <td>1594</td>\n",
       "      <td>47</td>\n",
       "      <td>144</td>\n",
       "      <td>222</td>\n",
       "      <td>56</td>\n",
       "      <td>...</td>\n",
       "      <td>0.665236</td>\n",
       "      <td>Census Tract 4002, Alameda County, California</td>\n",
       "      <td>902</td>\n",
       "      <td>42</td>\n",
       "      <td>593</td>\n",
       "      <td>71</td>\n",
       "      <td>309</td>\n",
       "      <td>73</td>\n",
       "      <td>0.342572</td>\n",
       "      <td>0.657428</td>\n",
       "    </tr>\n",
       "    <tr>\n",
       "      <th>2</th>\n",
       "      <td>6001400300</td>\n",
       "      <td>Census Tract 4003, Alameda County, California</td>\n",
       "      <td>4964</td>\n",
       "      <td>369</td>\n",
       "      <td>4541</td>\n",
       "      <td>3545</td>\n",
       "      <td>492</td>\n",
       "      <td>375</td>\n",
       "      <td>423</td>\n",
       "      <td>247</td>\n",
       "      <td>...</td>\n",
       "      <td>0.478758</td>\n",
       "      <td>Census Tract 4003, Alameda County, California</td>\n",
       "      <td>2626</td>\n",
       "      <td>132</td>\n",
       "      <td>1064</td>\n",
       "      <td>150</td>\n",
       "      <td>1562</td>\n",
       "      <td>182</td>\n",
       "      <td>0.594821</td>\n",
       "      <td>0.405179</td>\n",
       "    </tr>\n",
       "    <tr>\n",
       "      <th>3</th>\n",
       "      <td>6001400400</td>\n",
       "      <td>Census Tract 4004, Alameda County, California</td>\n",
       "      <td>4223</td>\n",
       "      <td>553</td>\n",
       "      <td>3957</td>\n",
       "      <td>2948</td>\n",
       "      <td>391</td>\n",
       "      <td>330</td>\n",
       "      <td>266</td>\n",
       "      <td>149</td>\n",
       "      <td>...</td>\n",
       "      <td>0.555446</td>\n",
       "      <td>Census Tract 4004, Alameda County, California</td>\n",
       "      <td>1964</td>\n",
       "      <td>87</td>\n",
       "      <td>852</td>\n",
       "      <td>133</td>\n",
       "      <td>1112</td>\n",
       "      <td>152</td>\n",
       "      <td>0.566191</td>\n",
       "      <td>0.433809</td>\n",
       "    </tr>\n",
       "    <tr>\n",
       "      <th>4</th>\n",
       "      <td>6001400500</td>\n",
       "      <td>Census Tract 4005, Alameda County, California</td>\n",
       "      <td>3759</td>\n",
       "      <td>308</td>\n",
       "      <td>3323</td>\n",
       "      <td>1577</td>\n",
       "      <td>1303</td>\n",
       "      <td>249</td>\n",
       "      <td>436</td>\n",
       "      <td>179</td>\n",
       "      <td>...</td>\n",
       "      <td>0.444380</td>\n",
       "      <td>Census Tract 4005, Alameda County, California</td>\n",
       "      <td>1686</td>\n",
       "      <td>82</td>\n",
       "      <td>738</td>\n",
       "      <td>102</td>\n",
       "      <td>948</td>\n",
       "      <td>119</td>\n",
       "      <td>0.562278</td>\n",
       "      <td>0.437722</td>\n",
       "    </tr>\n",
       "  </tbody>\n",
       "</table>\n",
       "<p>5 rows × 56 columns</p>\n",
       "</div>"
      ],
      "text/plain": [
       "          Id2                                    Geography_x  \\\n",
       "0  6001400100  Census Tract 4001, Alameda County, California   \n",
       "1  6001400200  Census Tract 4002, Alameda County, California   \n",
       "2  6001400300  Census Tract 4003, Alameda County, California   \n",
       "3  6001400400  Census Tract 4004, Alameda County, California   \n",
       "4  6001400500  Census Tract 4005, Alameda County, California   \n",
       "\n",
       "   Estimate; Total:_x  Margin of Error; Total:_x  \\\n",
       "0                2872                        233   \n",
       "1                2076                        165   \n",
       "2                4964                        369   \n",
       "3                4223                        553   \n",
       "4                3759                        308   \n",
       "\n",
       "   Estimate; Not Hispanic or Latino:  \\\n",
       "0                               2851   \n",
       "1                               1854   \n",
       "2                               4541   \n",
       "3                               3957   \n",
       "4                               3323   \n",
       "\n",
       "   Estimate; Not Hispanic or Latino: - White alone  \\\n",
       "0                                             2209   \n",
       "1                                             1594   \n",
       "2                                             3545   \n",
       "3                                             2948   \n",
       "4                                             1577   \n",
       "\n",
       "   Estimate; Not Hispanic or Latino: - Black or African American alone  \\\n",
       "0                                                119                     \n",
       "1                                                 47                     \n",
       "2                                                492                     \n",
       "3                                                391                     \n",
       "4                                               1303                     \n",
       "\n",
       "   Estimate; Not Hispanic or Latino: - Asian alone  \\\n",
       "0                                              318   \n",
       "1                                              144   \n",
       "2                                              375   \n",
       "3                                              330   \n",
       "4                                              249   \n",
       "\n",
       "   Estimate; Hispanic or Latino:  Estimate; Hispanic or Latino: - White alone  \\\n",
       "0                             21                                           15   \n",
       "1                            222                                           56   \n",
       "2                            423                                          247   \n",
       "3                            266                                          149   \n",
       "4                            436                                          179   \n",
       "\n",
       "         ...         % Single Family  \\\n",
       "0        ...                0.912439   \n",
       "1        ...                0.665236   \n",
       "2        ...                0.478758   \n",
       "3        ...                0.555446   \n",
       "4        ...                0.444380   \n",
       "\n",
       "                                     Geography_y  Estimate; Total:  \\\n",
       "0  Census Tract 4001, Alameda County, California              1308   \n",
       "1  Census Tract 4002, Alameda County, California               902   \n",
       "2  Census Tract 4003, Alameda County, California              2626   \n",
       "3  Census Tract 4004, Alameda County, California              1964   \n",
       "4  Census Tract 4005, Alameda County, California              1686   \n",
       "\n",
       "   Margin of Error; Total:  Estimate; Owner occupied  \\\n",
       "0                      108                      1171   \n",
       "1                       42                       593   \n",
       "2                      132                      1064   \n",
       "3                       87                       852   \n",
       "4                       82                       738   \n",
       "\n",
       "   Margin of Error; Owner occupied  Estimate; Renter occupied  \\\n",
       "0                              107                        137   \n",
       "1                               71                        309   \n",
       "2                              150                       1562   \n",
       "3                              133                       1112   \n",
       "4                              102                        948   \n",
       "\n",
       "  Margin of Error; Renter occupied  % Renter Occupied  % Owner Occupied  \n",
       "0                               74           0.104740          0.895260  \n",
       "1                               73           0.342572          0.657428  \n",
       "2                              182           0.594821          0.405179  \n",
       "3                              152           0.566191          0.433809  \n",
       "4                              119           0.562278          0.437722  \n",
       "\n",
       "[5 rows x 56 columns]"
      ]
     },
     "execution_count": 4,
     "metadata": {},
     "output_type": "execute_result"
    }
   ],
   "source": [
    "race_units_merged = race.merge(units, how='left', left_on=\"Id2\", right_on=\"Id2\")\n",
    "print(\"race and units merged\", \"length\", len(race_units_merged))\n",
    "#print(\"race and units merged\", \"dtypes\", race_units_merged.dtypes)\n",
    "\n",
    "edu_merged = race_units_merged.merge(edu, how='left', left_on=\"Id2\", right_on=\"Id2\")\n",
    "print(\"edu merged\", \"length\", len(edu_merged))\n",
    "#print(\"edu merged\", \"dtypes\", edu_merged.dtypes)\n",
    "\n",
    "income_merged = edu_merged.merge(income, how='left', left_on=\"Id2\", right_on=\"Id2\")\n",
    "print(\"income merged\", \"length\", len(income_merged))\n",
    "#print(\"income\", \"dtypes\", income_merged.dtypes)\n",
    "\n",
    "poverty_merged = income_merged.merge(poverty, how='left', left_on=\"Id2\", right_on=\"Id2\")\n",
    "print(\"poverty merged\", \"length\", len(poverty_merged))\n",
    "#print(\"poverty\", \"dtypes\", poverty_merged.dtypes)\n",
    "\n",
    "hvalue_merged = poverty_merged.merge(hvalue, how='left', left_on=\"Id2\", right_on=\"Id2\")\n",
    "print(\"hvalue merged\", \"length\", len(hvalue_merged))\n",
    "#print(\"hvalue\", \"dtypes\", hvalue_merged.dtypes)\n",
    "\n",
    "single_merged = hvalue_merged.merge(single, how='left', left_on=\"Id2\", right_on=\"Id2\")\n",
    "print(\"single merged\", \"length\", len(single_merged))\n",
    "#print(\"singe merged\", \"dtypes\", single_merged.dtypes)\n",
    "\n",
    "\n",
    "all_demog_vars = single_merged.merge(tenure, how='left', left_on=\"Id2\", right_on=\"Id2\")\n",
    "print(\"tenure merged\", \"length\", len(all_demog_vars))\n",
    "all_demog_vars.head()\n"
   ]
  },
  {
   "cell_type": "code",
   "execution_count": 5,
   "metadata": {},
   "outputs": [
    {
     "data": {
      "text/html": [
       "<div>\n",
       "<style scoped>\n",
       "    .dataframe tbody tr th:only-of-type {\n",
       "        vertical-align: middle;\n",
       "    }\n",
       "\n",
       "    .dataframe tbody tr th {\n",
       "        vertical-align: top;\n",
       "    }\n",
       "\n",
       "    .dataframe thead th {\n",
       "        text-align: right;\n",
       "    }\n",
       "</style>\n",
       "<table border=\"1\" class=\"dataframe\">\n",
       "  <thead>\n",
       "    <tr style=\"text-align: right;\">\n",
       "      <th></th>\n",
       "      <th>Geoid</th>\n",
       "      <th>Percent of population 25 years and over with Bachelor's degree</th>\n",
       "      <th>% below poverty level</th>\n",
       "      <th>% Single Family</th>\n",
       "      <th>% Owner Occupied</th>\n",
       "      <th>Percent NH White alone</th>\n",
       "      <th>Percent NH Black or African African alone</th>\n",
       "      <th>Percent NH Asian alone</th>\n",
       "      <th>Percent Hispanic</th>\n",
       "      <th>Total number of housing units</th>\n",
       "      <th>Median home value</th>\n",
       "      <th>Median income</th>\n",
       "    </tr>\n",
       "  </thead>\n",
       "  <tbody>\n",
       "    <tr>\n",
       "      <th>0</th>\n",
       "      <td>6001400100</td>\n",
       "      <td>34.5</td>\n",
       "      <td>3.1</td>\n",
       "      <td>0.912439</td>\n",
       "      <td>0.895260</td>\n",
       "      <td>0.769150</td>\n",
       "      <td>0.041435</td>\n",
       "      <td>0.110724</td>\n",
       "      <td>0.007312</td>\n",
       "      <td>1439</td>\n",
       "      <td>1000000.0</td>\n",
       "      <td>186439.0</td>\n",
       "    </tr>\n",
       "    <tr>\n",
       "      <th>1</th>\n",
       "      <td>6001400200</td>\n",
       "      <td>37.6</td>\n",
       "      <td>0.0</td>\n",
       "      <td>0.665236</td>\n",
       "      <td>0.657428</td>\n",
       "      <td>0.767823</td>\n",
       "      <td>0.022640</td>\n",
       "      <td>0.069364</td>\n",
       "      <td>0.106936</td>\n",
       "      <td>932</td>\n",
       "      <td>909500.0</td>\n",
       "      <td>122647.0</td>\n",
       "    </tr>\n",
       "    <tr>\n",
       "      <th>2</th>\n",
       "      <td>6001400300</td>\n",
       "      <td>32.1</td>\n",
       "      <td>6.9</td>\n",
       "      <td>0.478758</td>\n",
       "      <td>0.405179</td>\n",
       "      <td>0.714142</td>\n",
       "      <td>0.099114</td>\n",
       "      <td>0.075544</td>\n",
       "      <td>0.085214</td>\n",
       "      <td>2801</td>\n",
       "      <td>718100.0</td>\n",
       "      <td>66638.0</td>\n",
       "    </tr>\n",
       "    <tr>\n",
       "      <th>3</th>\n",
       "      <td>6001400400</td>\n",
       "      <td>44.0</td>\n",
       "      <td>4.0</td>\n",
       "      <td>0.555446</td>\n",
       "      <td>0.433809</td>\n",
       "      <td>0.698082</td>\n",
       "      <td>0.092588</td>\n",
       "      <td>0.078143</td>\n",
       "      <td>0.062988</td>\n",
       "      <td>2020</td>\n",
       "      <td>790500.0</td>\n",
       "      <td>80391.0</td>\n",
       "    </tr>\n",
       "    <tr>\n",
       "      <th>4</th>\n",
       "      <td>6001400500</td>\n",
       "      <td>28.1</td>\n",
       "      <td>6.0</td>\n",
       "      <td>0.444380</td>\n",
       "      <td>0.437722</td>\n",
       "      <td>0.419526</td>\n",
       "      <td>0.346635</td>\n",
       "      <td>0.066241</td>\n",
       "      <td>0.115988</td>\n",
       "      <td>1735</td>\n",
       "      <td>572000.0</td>\n",
       "      <td>50658.0</td>\n",
       "    </tr>\n",
       "  </tbody>\n",
       "</table>\n",
       "</div>"
      ],
      "text/plain": [
       "        Geoid  Percent of population 25 years and over with Bachelor's degree  \\\n",
       "0  6001400100                                               34.5                \n",
       "1  6001400200                                               37.6                \n",
       "2  6001400300                                               32.1                \n",
       "3  6001400400                                               44.0                \n",
       "4  6001400500                                               28.1                \n",
       "\n",
       "   % below poverty level  % Single Family  % Owner Occupied  \\\n",
       "0                    3.1         0.912439          0.895260   \n",
       "1                    0.0         0.665236          0.657428   \n",
       "2                    6.9         0.478758          0.405179   \n",
       "3                    4.0         0.555446          0.433809   \n",
       "4                    6.0         0.444380          0.437722   \n",
       "\n",
       "   Percent NH White alone  Percent NH Black or African African alone  \\\n",
       "0                0.769150                                   0.041435   \n",
       "1                0.767823                                   0.022640   \n",
       "2                0.714142                                   0.099114   \n",
       "3                0.698082                                   0.092588   \n",
       "4                0.419526                                   0.346635   \n",
       "\n",
       "   Percent NH Asian alone  Percent Hispanic  Total number of housing units  \\\n",
       "0                0.110724          0.007312                           1439   \n",
       "1                0.069364          0.106936                            932   \n",
       "2                0.075544          0.085214                           2801   \n",
       "3                0.078143          0.062988                           2020   \n",
       "4                0.066241          0.115988                           1735   \n",
       "\n",
       "   Median home value  Median income  \n",
       "0          1000000.0       186439.0  \n",
       "1           909500.0       122647.0  \n",
       "2           718100.0        66638.0  \n",
       "3           790500.0        80391.0  \n",
       "4           572000.0        50658.0  "
      ]
     },
     "execution_count": 5,
     "metadata": {},
     "output_type": "execute_result"
    }
   ],
   "source": [
    "all_demog_vars.columns\n",
    "all_demog_vars_1 = all_demog_vars[['Id2','Percent of population 25 years and over with Bachelor\\'s degree', \n",
    "      'All families - Percent  below poverty level; Estimate; Families', \n",
    "      '% Single Family', '% Owner Occupied', 'Percent NH White alone',\n",
    "       'Percent NH Black or African African alone', 'Percent NH Asian alone',\n",
    "       'Percent Hispanic', 'Estimate; Total Number of Housing Units', 'Estimate; Median value (dollars)', \n",
    "        'Median income (dollars); All households']]\n",
    "all_demog_vars_1_renamed = all_demog_vars_1.rename({'All families - Percent  below poverty level; Estimate; Families': \"% below poverty level\",\n",
    "              'Estimate; Total Number of Housing Units': 'Total number of housing units',\n",
    "              'Estimate; Median value (dollars)': \"Median home value\",\n",
    "              'Median income (dollars); All households': \"Median income\", 'Id2': \"Geoid\"}, axis=1)\n",
    "\n",
    "\n",
    "# print(\"num tracts\", len(all_demog_vars))\n",
    "      \n",
    "all_demog_vars_1_renamed.head()\n",
    "\n",
    "\n",
    "\n"
   ]
  },
  {
   "cell_type": "markdown",
   "metadata": {},
   "source": [
    "#### Get only Bay Area counties"
   ]
  },
  {
   "cell_type": "code",
   "execution_count": 6,
   "metadata": {},
   "outputs": [],
   "source": [
    "county_codes = ['6001', '6013', '6041', '6055', '6075', '6081', '6085', '6097', '6095']\n"
   ]
  },
  {
   "cell_type": "code",
   "execution_count": 7,
   "metadata": {},
   "outputs": [
    {
     "name": "stdout",
     "output_type": "stream",
     "text": [
      "num bay area tracts represented in the ACS data 1405\n"
     ]
    },
    {
     "data": {
      "text/html": [
       "<div>\n",
       "<style scoped>\n",
       "    .dataframe tbody tr th:only-of-type {\n",
       "        vertical-align: middle;\n",
       "    }\n",
       "\n",
       "    .dataframe tbody tr th {\n",
       "        vertical-align: top;\n",
       "    }\n",
       "\n",
       "    .dataframe thead th {\n",
       "        text-align: right;\n",
       "    }\n",
       "</style>\n",
       "<table border=\"1\" class=\"dataframe\">\n",
       "  <thead>\n",
       "    <tr style=\"text-align: right;\">\n",
       "      <th></th>\n",
       "      <th>Geoid</th>\n",
       "      <th>Percent of population 25 years and over with Bachelor's degree</th>\n",
       "      <th>% below poverty level</th>\n",
       "      <th>% Single Family</th>\n",
       "      <th>% Owner Occupied</th>\n",
       "      <th>Percent NH White alone</th>\n",
       "      <th>Percent NH Black or African African alone</th>\n",
       "      <th>Percent NH Asian alone</th>\n",
       "      <th>Percent Hispanic</th>\n",
       "      <th>Total number of housing units</th>\n",
       "      <th>Median home value</th>\n",
       "      <th>Median income</th>\n",
       "    </tr>\n",
       "  </thead>\n",
       "  <tbody>\n",
       "    <tr>\n",
       "      <th>0</th>\n",
       "      <td>6001400100</td>\n",
       "      <td>34.5</td>\n",
       "      <td>3.1</td>\n",
       "      <td>0.912439</td>\n",
       "      <td>0.895260</td>\n",
       "      <td>0.769150</td>\n",
       "      <td>0.041435</td>\n",
       "      <td>0.110724</td>\n",
       "      <td>0.007312</td>\n",
       "      <td>1439</td>\n",
       "      <td>1000000.0</td>\n",
       "      <td>186439.0</td>\n",
       "    </tr>\n",
       "    <tr>\n",
       "      <th>1</th>\n",
       "      <td>6001400200</td>\n",
       "      <td>37.6</td>\n",
       "      <td>0.0</td>\n",
       "      <td>0.665236</td>\n",
       "      <td>0.657428</td>\n",
       "      <td>0.767823</td>\n",
       "      <td>0.022640</td>\n",
       "      <td>0.069364</td>\n",
       "      <td>0.106936</td>\n",
       "      <td>932</td>\n",
       "      <td>909500.0</td>\n",
       "      <td>122647.0</td>\n",
       "    </tr>\n",
       "    <tr>\n",
       "      <th>2</th>\n",
       "      <td>6001400300</td>\n",
       "      <td>32.1</td>\n",
       "      <td>6.9</td>\n",
       "      <td>0.478758</td>\n",
       "      <td>0.405179</td>\n",
       "      <td>0.714142</td>\n",
       "      <td>0.099114</td>\n",
       "      <td>0.075544</td>\n",
       "      <td>0.085214</td>\n",
       "      <td>2801</td>\n",
       "      <td>718100.0</td>\n",
       "      <td>66638.0</td>\n",
       "    </tr>\n",
       "    <tr>\n",
       "      <th>3</th>\n",
       "      <td>6001400400</td>\n",
       "      <td>44.0</td>\n",
       "      <td>4.0</td>\n",
       "      <td>0.555446</td>\n",
       "      <td>0.433809</td>\n",
       "      <td>0.698082</td>\n",
       "      <td>0.092588</td>\n",
       "      <td>0.078143</td>\n",
       "      <td>0.062988</td>\n",
       "      <td>2020</td>\n",
       "      <td>790500.0</td>\n",
       "      <td>80391.0</td>\n",
       "    </tr>\n",
       "    <tr>\n",
       "      <th>4</th>\n",
       "      <td>6001400500</td>\n",
       "      <td>28.1</td>\n",
       "      <td>6.0</td>\n",
       "      <td>0.444380</td>\n",
       "      <td>0.437722</td>\n",
       "      <td>0.419526</td>\n",
       "      <td>0.346635</td>\n",
       "      <td>0.066241</td>\n",
       "      <td>0.115988</td>\n",
       "      <td>1735</td>\n",
       "      <td>572000.0</td>\n",
       "      <td>50658.0</td>\n",
       "    </tr>\n",
       "  </tbody>\n",
       "</table>\n",
       "</div>"
      ],
      "text/plain": [
       "        Geoid  Percent of population 25 years and over with Bachelor's degree  \\\n",
       "0  6001400100                                               34.5                \n",
       "1  6001400200                                               37.6                \n",
       "2  6001400300                                               32.1                \n",
       "3  6001400400                                               44.0                \n",
       "4  6001400500                                               28.1                \n",
       "\n",
       "   % below poverty level  % Single Family  % Owner Occupied  \\\n",
       "0                    3.1         0.912439          0.895260   \n",
       "1                    0.0         0.665236          0.657428   \n",
       "2                    6.9         0.478758          0.405179   \n",
       "3                    4.0         0.555446          0.433809   \n",
       "4                    6.0         0.444380          0.437722   \n",
       "\n",
       "   Percent NH White alone  Percent NH Black or African African alone  \\\n",
       "0                0.769150                                   0.041435   \n",
       "1                0.767823                                   0.022640   \n",
       "2                0.714142                                   0.099114   \n",
       "3                0.698082                                   0.092588   \n",
       "4                0.419526                                   0.346635   \n",
       "\n",
       "   Percent NH Asian alone  Percent Hispanic  Total number of housing units  \\\n",
       "0                0.110724          0.007312                           1439   \n",
       "1                0.069364          0.106936                            932   \n",
       "2                0.075544          0.085214                           2801   \n",
       "3                0.078143          0.062988                           2020   \n",
       "4                0.066241          0.115988                           1735   \n",
       "\n",
       "   Median home value  Median income  \n",
       "0          1000000.0       186439.0  \n",
       "1           909500.0       122647.0  \n",
       "2           718100.0        66638.0  \n",
       "3           790500.0        80391.0  \n",
       "4           572000.0        50658.0  "
      ]
     },
     "execution_count": 7,
     "metadata": {},
     "output_type": "execute_result"
    }
   ],
   "source": [
    "all_demog_vars_bay = all_demog_vars_1_renamed[all_demog_vars_1_renamed[\"Geoid\"].apply(lambda x: str(x)[:4]).isin(county_codes)]\n",
    "print(\"num bay area tracts represented in the ACS data\", len(all_demog_vars_bay))\n",
    "all_demog_vars_bay.head()\n"
   ]
  },
  {
   "cell_type": "markdown",
   "metadata": {},
   "source": [
    "#### Merge Demographic features with neighbors dataframe to contribute CRA eligibility information by tract and exclude CTs without oppositely coded neighbors\n",
    "\n",
    "Universe: all of the CTs in the 9 county bay area that had loan activity have oppositely coded neighbors. The boolean_tracts_all_2009.csv file includes all the tracts that have oppositely coded neighbors and their CRA eligibility.\n",
    "\n"
   ]
  },
  {
   "cell_type": "code",
   "execution_count": 8,
   "metadata": {},
   "outputs": [
    {
     "name": "stdout",
     "output_type": "stream",
     "text": [
      "num all tracts in the HMDA data that have at least one oppositely coded neighbor 801\n"
     ]
    }
   ],
   "source": [
    "data_path = '/Users/ameliabaum/Desktop/Amelia/CRA_Thesis/communityreinvestmentact/data/neighbors/'\n",
    "cra_elig_neighbors = pd.read_csv(data_path+ 'boolean_tracts_all_2009.csv')\n",
    "print(\"num all tracts in the HMDA data that have at least one oppositely coded neighbor\", len(cra_elig_neighbors))\n"
   ]
  },
  {
   "cell_type": "code",
   "execution_count": 9,
   "metadata": {},
   "outputs": [
    {
     "name": "stdout",
     "output_type": "stream",
     "text": [
      "num all tracts in the HMDA data that have at least one oppositely coded neighbor 801\n"
     ]
    },
    {
     "data": {
      "text/html": [
       "<div>\n",
       "<style scoped>\n",
       "    .dataframe tbody tr th:only-of-type {\n",
       "        vertical-align: middle;\n",
       "    }\n",
       "\n",
       "    .dataframe tbody tr th {\n",
       "        vertical-align: top;\n",
       "    }\n",
       "\n",
       "    .dataframe thead th {\n",
       "        text-align: right;\n",
       "    }\n",
       "</style>\n",
       "<table border=\"1\" class=\"dataframe\">\n",
       "  <thead>\n",
       "    <tr style=\"text-align: right;\">\n",
       "      <th></th>\n",
       "      <th>Geoid</th>\n",
       "      <th>Percent of population 25 years and over with Bachelor's degree</th>\n",
       "      <th>% below poverty level</th>\n",
       "      <th>% Single Family</th>\n",
       "      <th>% Owner Occupied</th>\n",
       "      <th>Percent NH White alone</th>\n",
       "      <th>Percent NH Black or African African alone</th>\n",
       "      <th>Percent NH Asian alone</th>\n",
       "      <th>Percent Hispanic</th>\n",
       "      <th>Total number of housing units</th>\n",
       "      <th>Median home value</th>\n",
       "      <th>Median income</th>\n",
       "      <th>Year_x</th>\n",
       "      <th>Tract_y</th>\n",
       "      <th>type</th>\n",
       "      <th>County</th>\n",
       "      <th>CRA Eligible</th>\n",
       "    </tr>\n",
       "  </thead>\n",
       "  <tbody>\n",
       "    <tr>\n",
       "      <th>0</th>\n",
       "      <td>6001400100</td>\n",
       "      <td>34.5</td>\n",
       "      <td>3.1</td>\n",
       "      <td>0.912439</td>\n",
       "      <td>0.895260</td>\n",
       "      <td>0.769150</td>\n",
       "      <td>0.041435</td>\n",
       "      <td>0.110724</td>\n",
       "      <td>0.007312</td>\n",
       "      <td>1439</td>\n",
       "      <td>1000000.0</td>\n",
       "      <td>186439.0</td>\n",
       "      <td>2009</td>\n",
       "      <td>4001.0</td>\n",
       "      <td>high</td>\n",
       "      <td>Alameda County</td>\n",
       "      <td>not eligible</td>\n",
       "    </tr>\n",
       "    <tr>\n",
       "      <th>1</th>\n",
       "      <td>6001400300</td>\n",
       "      <td>32.1</td>\n",
       "      <td>6.9</td>\n",
       "      <td>0.478758</td>\n",
       "      <td>0.405179</td>\n",
       "      <td>0.714142</td>\n",
       "      <td>0.099114</td>\n",
       "      <td>0.075544</td>\n",
       "      <td>0.085214</td>\n",
       "      <td>2801</td>\n",
       "      <td>718100.0</td>\n",
       "      <td>66638.0</td>\n",
       "      <td>2009</td>\n",
       "      <td>4003.0</td>\n",
       "      <td>mid</td>\n",
       "      <td>Alameda County</td>\n",
       "      <td>not eligible</td>\n",
       "    </tr>\n",
       "    <tr>\n",
       "      <th>2</th>\n",
       "      <td>6001400400</td>\n",
       "      <td>44.0</td>\n",
       "      <td>4.0</td>\n",
       "      <td>0.555446</td>\n",
       "      <td>0.433809</td>\n",
       "      <td>0.698082</td>\n",
       "      <td>0.092588</td>\n",
       "      <td>0.078143</td>\n",
       "      <td>0.062988</td>\n",
       "      <td>2020</td>\n",
       "      <td>790500.0</td>\n",
       "      <td>80391.0</td>\n",
       "      <td>2009</td>\n",
       "      <td>4004.0</td>\n",
       "      <td>mid</td>\n",
       "      <td>Alameda County</td>\n",
       "      <td>not eligible</td>\n",
       "    </tr>\n",
       "    <tr>\n",
       "      <th>3</th>\n",
       "      <td>6001400500</td>\n",
       "      <td>28.1</td>\n",
       "      <td>6.0</td>\n",
       "      <td>0.444380</td>\n",
       "      <td>0.437722</td>\n",
       "      <td>0.419526</td>\n",
       "      <td>0.346635</td>\n",
       "      <td>0.066241</td>\n",
       "      <td>0.115988</td>\n",
       "      <td>1735</td>\n",
       "      <td>572000.0</td>\n",
       "      <td>50658.0</td>\n",
       "      <td>2009</td>\n",
       "      <td>4005.0</td>\n",
       "      <td>mod</td>\n",
       "      <td>Alameda County</td>\n",
       "      <td>eligible</td>\n",
       "    </tr>\n",
       "    <tr>\n",
       "      <th>4</th>\n",
       "      <td>6001400600</td>\n",
       "      <td>51.9</td>\n",
       "      <td>26.4</td>\n",
       "      <td>0.632653</td>\n",
       "      <td>0.470756</td>\n",
       "      <td>0.338305</td>\n",
       "      <td>0.473150</td>\n",
       "      <td>0.032220</td>\n",
       "      <td>0.059666</td>\n",
       "      <td>784</td>\n",
       "      <td>586700.0</td>\n",
       "      <td>39802.0</td>\n",
       "      <td>2009</td>\n",
       "      <td>4006.0</td>\n",
       "      <td>mod</td>\n",
       "      <td>Alameda County</td>\n",
       "      <td>eligible</td>\n",
       "    </tr>\n",
       "  </tbody>\n",
       "</table>\n",
       "</div>"
      ],
      "text/plain": [
       "        Geoid  Percent of population 25 years and over with Bachelor's degree  \\\n",
       "0  6001400100                                               34.5                \n",
       "1  6001400300                                               32.1                \n",
       "2  6001400400                                               44.0                \n",
       "3  6001400500                                               28.1                \n",
       "4  6001400600                                               51.9                \n",
       "\n",
       "   % below poverty level  % Single Family  % Owner Occupied  \\\n",
       "0                    3.1         0.912439          0.895260   \n",
       "1                    6.9         0.478758          0.405179   \n",
       "2                    4.0         0.555446          0.433809   \n",
       "3                    6.0         0.444380          0.437722   \n",
       "4                   26.4         0.632653          0.470756   \n",
       "\n",
       "   Percent NH White alone  Percent NH Black or African African alone  \\\n",
       "0                0.769150                                   0.041435   \n",
       "1                0.714142                                   0.099114   \n",
       "2                0.698082                                   0.092588   \n",
       "3                0.419526                                   0.346635   \n",
       "4                0.338305                                   0.473150   \n",
       "\n",
       "   Percent NH Asian alone  Percent Hispanic  Total number of housing units  \\\n",
       "0                0.110724          0.007312                           1439   \n",
       "1                0.075544          0.085214                           2801   \n",
       "2                0.078143          0.062988                           2020   \n",
       "3                0.066241          0.115988                           1735   \n",
       "4                0.032220          0.059666                            784   \n",
       "\n",
       "   Median home value  Median income  Year_x  Tract_y  type          County  \\\n",
       "0          1000000.0       186439.0    2009   4001.0  high  Alameda County   \n",
       "1           718100.0        66638.0    2009   4003.0   mid  Alameda County   \n",
       "2           790500.0        80391.0    2009   4004.0   mid  Alameda County   \n",
       "3           572000.0        50658.0    2009   4005.0   mod  Alameda County   \n",
       "4           586700.0        39802.0    2009   4006.0   mod  Alameda County   \n",
       "\n",
       "   CRA Eligible  \n",
       "0  not eligible  \n",
       "1  not eligible  \n",
       "2  not eligible  \n",
       "3      eligible  \n",
       "4      eligible  "
      ]
     },
     "execution_count": 9,
     "metadata": {},
     "output_type": "execute_result"
    }
   ],
   "source": [
    "demog_with_cra = pd.merge(all_demog_vars_bay, cra_elig_neighbors, how='right', left_on='Geoid', right_on='Geoid')\n",
    "print(\"num all tracts in the HMDA data that have at least one oppositely coded neighbor\", len(demog_with_cra))\n",
    "\n",
    "demog_with_cra.head()\n"
   ]
  },
  {
   "cell_type": "markdown",
   "metadata": {},
   "source": [
    "#### Get total number and percentages of loans data from HMDA files\n",
    "This is currently for 2009, but next step is to do it for the average of the recovery period 2013-2017\n",
    "\n",
    "\n",
    "Universe: all of the CTs in the 9 county bay area that had loan activity during 2009"
   ]
  },
  {
   "cell_type": "code",
   "execution_count": 10,
   "metadata": {},
   "outputs": [
    {
     "data": {
      "text/html": [
       "<div>\n",
       "<style scoped>\n",
       "    .dataframe tbody tr th:only-of-type {\n",
       "        vertical-align: middle;\n",
       "    }\n",
       "\n",
       "    .dataframe tbody tr th {\n",
       "        vertical-align: top;\n",
       "    }\n",
       "\n",
       "    .dataframe thead th {\n",
       "        text-align: right;\n",
       "    }\n",
       "</style>\n",
       "<table border=\"1\" class=\"dataframe\">\n",
       "  <thead>\n",
       "    <tr style=\"text-align: right;\">\n",
       "      <th></th>\n",
       "      <th>Year</th>\n",
       "      <th>County</th>\n",
       "      <th>type</th>\n",
       "      <th>CRA Eligible</th>\n",
       "      <th>% HI borrower, LI tract</th>\n",
       "      <th># HI borrower, LI tract</th>\n",
       "      <th>% HI borrower, HI tract</th>\n",
       "      <th># HI borrower, HI tract</th>\n",
       "      <th>% LI borrower, LI tract</th>\n",
       "      <th># LI borrower, LI tract</th>\n",
       "      <th>%LI borrower, HI tract</th>\n",
       "      <th># LI borrower, HI tract</th>\n",
       "      <th>Geoid</th>\n",
       "      <th>Total Loans</th>\n",
       "    </tr>\n",
       "  </thead>\n",
       "  <tbody>\n",
       "    <tr>\n",
       "      <th>0</th>\n",
       "      <td>2009</td>\n",
       "      <td>Alameda County</td>\n",
       "      <td>high</td>\n",
       "      <td>not eligible</td>\n",
       "      <td>0.000000</td>\n",
       "      <td>0</td>\n",
       "      <td>0.981818</td>\n",
       "      <td>54</td>\n",
       "      <td>0.000000</td>\n",
       "      <td>0</td>\n",
       "      <td>0.018182</td>\n",
       "      <td>1</td>\n",
       "      <td>6001400100</td>\n",
       "      <td>54</td>\n",
       "    </tr>\n",
       "    <tr>\n",
       "      <th>1</th>\n",
       "      <td>2009</td>\n",
       "      <td>Alameda County</td>\n",
       "      <td>high</td>\n",
       "      <td>not eligible</td>\n",
       "      <td>0.000000</td>\n",
       "      <td>0</td>\n",
       "      <td>1.000000</td>\n",
       "      <td>20</td>\n",
       "      <td>0.000000</td>\n",
       "      <td>0</td>\n",
       "      <td>0.000000</td>\n",
       "      <td>0</td>\n",
       "      <td>6001400200</td>\n",
       "      <td>20</td>\n",
       "    </tr>\n",
       "    <tr>\n",
       "      <th>2</th>\n",
       "      <td>2009</td>\n",
       "      <td>Alameda County</td>\n",
       "      <td>mid</td>\n",
       "      <td>not eligible</td>\n",
       "      <td>0.000000</td>\n",
       "      <td>0</td>\n",
       "      <td>0.906250</td>\n",
       "      <td>58</td>\n",
       "      <td>0.000000</td>\n",
       "      <td>0</td>\n",
       "      <td>0.093750</td>\n",
       "      <td>6</td>\n",
       "      <td>6001400300</td>\n",
       "      <td>58</td>\n",
       "    </tr>\n",
       "    <tr>\n",
       "      <th>3</th>\n",
       "      <td>2009</td>\n",
       "      <td>Alameda County</td>\n",
       "      <td>mid</td>\n",
       "      <td>not eligible</td>\n",
       "      <td>0.000000</td>\n",
       "      <td>0</td>\n",
       "      <td>0.979167</td>\n",
       "      <td>47</td>\n",
       "      <td>0.000000</td>\n",
       "      <td>0</td>\n",
       "      <td>0.020833</td>\n",
       "      <td>1</td>\n",
       "      <td>6001400400</td>\n",
       "      <td>47</td>\n",
       "    </tr>\n",
       "    <tr>\n",
       "      <th>4</th>\n",
       "      <td>2009</td>\n",
       "      <td>Alameda County</td>\n",
       "      <td>mod</td>\n",
       "      <td>eligible</td>\n",
       "      <td>0.877193</td>\n",
       "      <td>50</td>\n",
       "      <td>0.000000</td>\n",
       "      <td>0</td>\n",
       "      <td>0.122807</td>\n",
       "      <td>7</td>\n",
       "      <td>0.000000</td>\n",
       "      <td>0</td>\n",
       "      <td>6001400500</td>\n",
       "      <td>57</td>\n",
       "    </tr>\n",
       "  </tbody>\n",
       "</table>\n",
       "</div>"
      ],
      "text/plain": [
       "   Year          County  type  CRA Eligible  % HI borrower, LI tract  \\\n",
       "0  2009  Alameda County  high  not eligible                 0.000000   \n",
       "1  2009  Alameda County  high  not eligible                 0.000000   \n",
       "2  2009  Alameda County   mid  not eligible                 0.000000   \n",
       "3  2009  Alameda County   mid  not eligible                 0.000000   \n",
       "4  2009  Alameda County   mod      eligible                 0.877193   \n",
       "\n",
       "   # HI borrower, LI tract  % HI borrower, HI tract  # HI borrower, HI tract  \\\n",
       "0                        0                 0.981818                       54   \n",
       "1                        0                 1.000000                       20   \n",
       "2                        0                 0.906250                       58   \n",
       "3                        0                 0.979167                       47   \n",
       "4                       50                 0.000000                        0   \n",
       "\n",
       "   % LI borrower, LI tract  # LI borrower, LI tract  %LI borrower, HI tract  \\\n",
       "0                 0.000000                        0                0.018182   \n",
       "1                 0.000000                        0                0.000000   \n",
       "2                 0.000000                        0                0.093750   \n",
       "3                 0.000000                        0                0.020833   \n",
       "4                 0.122807                        7                0.000000   \n",
       "\n",
       "   # LI borrower, HI tract       Geoid  Total Loans  \n",
       "0                        1  6001400100           54  \n",
       "1                        0  6001400200           20  \n",
       "2                        6  6001400300           58  \n",
       "3                        1  6001400400           47  \n",
       "4                        0  6001400500           57  "
      ]
     },
     "execution_count": 10,
     "metadata": {},
     "output_type": "execute_result"
    }
   ],
   "source": [
    "filepath = '/Users/ameliabaum/Desktop/Amelia/CRA_Thesis/communityreinvestmentact/data/parsed_data/'\n",
    "Alameda = pd.read_csv(filepath+'Alameda_2009_parsed.csv')\n",
    "Alameda[\"Geoid\"] = Alameda[\"Tract\"].apply(lambda x: int(x*100 + 6001000000))\n",
    "\n",
    "ContraCosta = pd.read_csv(filepath+'ContraCosta_2009_parsed.csv')\n",
    "ContraCosta[\"Geoid\"] = ContraCosta[\"Tract\"].apply(lambda x: int(x*100 + 6013000000))\n",
    "\n",
    "Napa = pd.read_csv(filepath+'Napa_2009_parsed.csv')\n",
    "Napa[\"Geoid\"] = Napa[\"Tract\"].apply(lambda x: int(x*100 + 6055000000))\n",
    "\n",
    "Marin = pd.read_csv(filepath+'Marin_2009_parsed.csv')\n",
    "Marin[\"Geoid\"] = Marin[\"Tract\"].apply(lambda x: int(x*100 + 6041000000))\n",
    "\n",
    "SanMateo = pd.read_csv(filepath+'SanMateo_2009_parsed.csv')\n",
    "SanMateo[\"Geoid\"] = SanMateo[\"Tract\"].apply(lambda x: int(x*100 + 6081000000))\n",
    "\n",
    "SanFrancisco = pd.read_csv(filepath+'SanFrancisco_2009_parsed.csv')\n",
    "SanFrancisco[\"Geoid\"] = SanFrancisco[\"Tract\"].apply(lambda x: int(x*100 + 6075000000))\n",
    "\n",
    "Solano = pd.read_csv(filepath+'Solano_2009_parsed.csv')\n",
    "Solano[\"Geoid\"] = Solano[\"Tract\"].apply(lambda x: int(x*100 + 6095000000))\n",
    "\n",
    "SantaClara = pd.read_csv(filepath+'SantaClara_2009_parsed.csv')\n",
    "SantaClara[\"Geoid\"] = SantaClara[\"Tract\"].apply(lambda x: int(x*100 + 6085000000))\n",
    "\n",
    "Sonoma = pd.read_csv(filepath+'Sonoma_2009_parsed.csv')\n",
    "Sonoma[\"Geoid\"] = Sonoma[\"Tract\"].apply(lambda x: int(x*100 + 6097000000))\n",
    "\n",
    "counties = [Alameda, ContraCosta, Napa, Marin, SanMateo, SanFrancisco,Solano,SantaClara, Sonoma]\n",
    "\n",
    "bay_counties_loans = pd.concat(counties).reset_index(drop=True)\n",
    "bay_counties_loans[\"Total Loans\"] = bay_counties_loans['# HI borrower, LI tract'] + bay_counties_loans['# HI borrower, HI tract']+ bay_counties_loans['# LI borrower, LI tract']\n",
    "+ bay_counties_loans['# LI borrower, HI tract']\n",
    "bay_counties_loans = bay_counties_loans.drop(\"Tract\", axis=1)\n",
    "bay_counties_loans.head()"
   ]
  },
  {
   "cell_type": "markdown",
   "metadata": {},
   "source": [
    "#### Merge Loans Data with cra_demog features"
   ]
  },
  {
   "cell_type": "code",
   "execution_count": 11,
   "metadata": {},
   "outputs": [
    {
     "name": "stdout",
     "output_type": "stream",
     "text": [
      "number of observations/tracts 801\n"
     ]
    }
   ],
   "source": [
    "allvars_2009 = pd.merge(demog_with_cra, bay_counties_loans, how=\"left\", left_on='Geoid', right_on='Geoid').drop('CRA Eligible_y', axis=1)\n",
    "allvars_2009['CRA'] = allvars_2009['CRA Eligible_x'].apply(lambda x: 1 if x == 'eligible' else 0)\n",
    "#allvars_2009.to_csv(\"/Users/ameliabaum/Desktop/Amelia/CRA_Thesis/communityreinvestmentact/data/regression/all_vars2009.csv\")\n",
    "print(\"number of observations/tracts\", len(allvars_2009))\n",
    "\n",
    "\n"
   ]
  },
  {
   "cell_type": "code",
   "execution_count": 12,
   "metadata": {},
   "outputs": [
    {
     "name": "stdout",
     "output_type": "stream",
     "text": [
      "number of non-nan obs:  790\n"
     ]
    }
   ],
   "source": [
    "nonans = allvars_2009.dropna()\n",
    "print(\"number of non-nan obs: \", len(nonans))"
   ]
  },
  {
   "cell_type": "code",
   "execution_count": 13,
   "metadata": {},
   "outputs": [],
   "source": [
    "def normalize_columns(data, mean_df, std_df):\n",
    "    '''\n",
    "    Input:\n",
    "      data (data frame): contains only numeric columns\n",
    "    Output:\n",
    "      data frame, the same data, except each column is standardized \n",
    "      to have 0-mean and unit variance\n",
    "    '''\n",
    "    normalized_data=(data-mean_df.mean())/std_df.std()\n",
    "\n",
    "    return normalized_data"
   ]
  },
  {
   "cell_type": "code",
   "execution_count": 14,
   "metadata": {},
   "outputs": [],
   "source": [
    "# def unnormalize_columns(data, mean_df, std_df):\n",
    "#     unnormalized_data=(data*std_df.std())+mean_df.mean()\n",
    "\n",
    "#     return unnormalized_data"
   ]
  },
  {
   "cell_type": "markdown",
   "metadata": {},
   "source": [
    "#### Model 1: Minority vs. num loans"
   ]
  },
  {
   "cell_type": "code",
   "execution_count": 23,
   "metadata": {},
   "outputs": [],
   "source": [
    "def dummy_var(row):\n",
    "    dummy = 0\n",
    "    if (row['Percent NH White alone'] >= 0.50):\n",
    "        dummy = 1\n",
    "    else:\n",
    "        dummy = 0\n",
    "    return dummy"
   ]
  },
  {
   "cell_type": "code",
   "execution_count": 30,
   "metadata": {},
   "outputs": [
    {
     "name": "stdout",
     "output_type": "stream",
     "text": [
      "regression num observations after dropping nans 790\n"
     ]
    },
    {
     "name": "stderr",
     "output_type": "stream",
     "text": [
      "/Users/ameliabaum/anaconda3/lib/python3.7/site-packages/ipykernel_launcher.py:9: SettingWithCopyWarning: \n",
      "A value is trying to be set on a copy of a slice from a DataFrame.\n",
      "Try using .loc[row_indexer,col_indexer] = value instead\n",
      "\n",
      "See the caveats in the documentation: http://pandas.pydata.org/pandas-docs/stable/indexing.html#indexing-view-versus-copy\n",
      "  if __name__ == '__main__':\n"
     ]
    }
   ],
   "source": [
    "#drop observations with NaN values\n",
    "X_vars_models = nonans.loc[:, ~nonans.columns.isin(['Geoid', 'Total Loans','County_y', 'County_x',\n",
    "         'type_y', 'type_x', 'CRA Eligible_x', 'Year', \"Year_x\", \"Tract_y\", '% HI borrower, LI tract',\n",
    "       '# HI borrower, LI tract', '% HI borrower, HI tract',\n",
    "       '# HI borrower, HI tract', '% LI borrower, LI tract',\n",
    "       '# LI borrower, LI tract', '%LI borrower, HI tract',\n",
    "       '# LI borrower, HI tract' ])]\n",
    "Y_vars_models = nonans['Total Loans']\n",
    "X_vars_models['Minority'] = X_vars_models.apply(lambda x: dummy_var(x), axis=1)\n",
    "print(\"regression num observations after dropping nans\", len(X_vars_models))"
   ]
  },
  {
   "cell_type": "code",
   "execution_count": 32,
   "metadata": {},
   "outputs": [
    {
     "data": {
      "text/html": [
       "<div>\n",
       "<style scoped>\n",
       "    .dataframe tbody tr th:only-of-type {\n",
       "        vertical-align: middle;\n",
       "    }\n",
       "\n",
       "    .dataframe tbody tr th {\n",
       "        vertical-align: top;\n",
       "    }\n",
       "\n",
       "    .dataframe thead th {\n",
       "        text-align: right;\n",
       "    }\n",
       "</style>\n",
       "<table border=\"1\" class=\"dataframe\">\n",
       "  <thead>\n",
       "    <tr style=\"text-align: right;\">\n",
       "      <th></th>\n",
       "      <th>Percent of population 25 years and over with Bachelor's degree</th>\n",
       "      <th>% below poverty level</th>\n",
       "      <th>% Single Family</th>\n",
       "      <th>% Owner Occupied</th>\n",
       "      <th>Percent NH White alone</th>\n",
       "      <th>Percent NH Black or African African alone</th>\n",
       "      <th>Percent NH Asian alone</th>\n",
       "      <th>Percent Hispanic</th>\n",
       "      <th>Total number of housing units</th>\n",
       "      <th>Median home value</th>\n",
       "      <th>Median income</th>\n",
       "      <th>CRA</th>\n",
       "      <th>Minority</th>\n",
       "    </tr>\n",
       "  </thead>\n",
       "  <tbody>\n",
       "    <tr>\n",
       "      <th>0</th>\n",
       "      <td>1.173649</td>\n",
       "      <td>-0.692232</td>\n",
       "      <td>1.170598</td>\n",
       "      <td>1.659406</td>\n",
       "      <td>1.599032</td>\n",
       "      <td>-0.386909</td>\n",
       "      <td>-0.560245</td>\n",
       "      <td>-1.359381</td>\n",
       "      <td>-0.533980</td>\n",
       "      <td>2.173141</td>\n",
       "      <td>4.666265</td>\n",
       "      <td>-0.811683</td>\n",
       "      <td>1.319412</td>\n",
       "    </tr>\n",
       "    <tr>\n",
       "      <th>1</th>\n",
       "      <td>0.941447</td>\n",
       "      <td>-0.197604</td>\n",
       "      <td>-0.412884</td>\n",
       "      <td>-0.600077</td>\n",
       "      <td>1.356233</td>\n",
       "      <td>0.068573</td>\n",
       "      <td>-0.764368</td>\n",
       "      <td>-0.929743</td>\n",
       "      <td>0.873962</td>\n",
       "      <td>0.686456</td>\n",
       "      <td>-0.091198</td>\n",
       "      <td>-0.811683</td>\n",
       "      <td>1.319412</td>\n",
       "    </tr>\n",
       "    <tr>\n",
       "      <th>2</th>\n",
       "      <td>2.092781</td>\n",
       "      <td>-0.575083</td>\n",
       "      <td>-0.132877</td>\n",
       "      <td>-0.468083</td>\n",
       "      <td>1.285348</td>\n",
       "      <td>0.017043</td>\n",
       "      <td>-0.749284</td>\n",
       "      <td>-1.052318</td>\n",
       "      <td>0.066618</td>\n",
       "      <td>1.068279</td>\n",
       "      <td>0.454952</td>\n",
       "      <td>-0.811683</td>\n",
       "      <td>1.319412</td>\n",
       "    </tr>\n",
       "    <tr>\n",
       "      <th>3</th>\n",
       "      <td>0.554443</td>\n",
       "      <td>-0.314753</td>\n",
       "      <td>-0.538404</td>\n",
       "      <td>-0.450038</td>\n",
       "      <td>0.055852</td>\n",
       "      <td>2.023203</td>\n",
       "      <td>-0.818345</td>\n",
       "      <td>-0.760016</td>\n",
       "      <td>-0.227995</td>\n",
       "      <td>-0.084047</td>\n",
       "      <td>-0.725786</td>\n",
       "      <td>1.230449</td>\n",
       "      <td>-0.756954</td>\n",
       "    </tr>\n",
       "    <tr>\n",
       "      <th>4</th>\n",
       "      <td>2.857113</td>\n",
       "      <td>2.340618</td>\n",
       "      <td>0.149027</td>\n",
       "      <td>-0.297739</td>\n",
       "      <td>-0.302644</td>\n",
       "      <td>3.022275</td>\n",
       "      <td>-1.015744</td>\n",
       "      <td>-1.070642</td>\n",
       "      <td>-1.211074</td>\n",
       "      <td>-0.006522</td>\n",
       "      <td>-1.156893</td>\n",
       "      <td>1.230449</td>\n",
       "      <td>-0.756954</td>\n",
       "    </tr>\n",
       "  </tbody>\n",
       "</table>\n",
       "</div>"
      ],
      "text/plain": [
       "   Percent of population 25 years and over with Bachelor's degree  \\\n",
       "0                                           1.173649                \n",
       "1                                           0.941447                \n",
       "2                                           2.092781                \n",
       "3                                           0.554443                \n",
       "4                                           2.857113                \n",
       "\n",
       "   % below poverty level  % Single Family  % Owner Occupied  \\\n",
       "0              -0.692232         1.170598          1.659406   \n",
       "1              -0.197604        -0.412884         -0.600077   \n",
       "2              -0.575083        -0.132877         -0.468083   \n",
       "3              -0.314753        -0.538404         -0.450038   \n",
       "4               2.340618         0.149027         -0.297739   \n",
       "\n",
       "   Percent NH White alone  Percent NH Black or African African alone  \\\n",
       "0                1.599032                                  -0.386909   \n",
       "1                1.356233                                   0.068573   \n",
       "2                1.285348                                   0.017043   \n",
       "3                0.055852                                   2.023203   \n",
       "4               -0.302644                                   3.022275   \n",
       "\n",
       "   Percent NH Asian alone  Percent Hispanic  Total number of housing units  \\\n",
       "0               -0.560245         -1.359381                      -0.533980   \n",
       "1               -0.764368         -0.929743                       0.873962   \n",
       "2               -0.749284         -1.052318                       0.066618   \n",
       "3               -0.818345         -0.760016                      -0.227995   \n",
       "4               -1.015744         -1.070642                      -1.211074   \n",
       "\n",
       "   Median home value  Median income       CRA  Minority  \n",
       "0           2.173141       4.666265 -0.811683  1.319412  \n",
       "1           0.686456      -0.091198 -0.811683  1.319412  \n",
       "2           1.068279       0.454952 -0.811683  1.319412  \n",
       "3          -0.084047      -0.725786  1.230449 -0.756954  \n",
       "4          -0.006522      -1.156893  1.230449 -0.756954  "
      ]
     },
     "execution_count": 32,
     "metadata": {},
     "output_type": "execute_result"
    }
   ],
   "source": [
    "#normalize the data before perfoming the regression- currently this is normalizing 2 binary variables (CRA and minority),\n",
    "#which is a call I intentionally made, but is a fairly subjective call and could be changed.\n",
    "X_vars_models_normal = normalize_columns(X_vars_models, X_vars_models, X_vars_models)\n",
    "Y_vars_models_normal = normalize_columns(Y_vars_models, Y_vars_models, Y_vars_models)\n",
    "X_vars_models_normal.head()"
   ]
  },
  {
   "cell_type": "code",
   "execution_count": 33,
   "metadata": {},
   "outputs": [
    {
     "name": "stdout",
     "output_type": "stream",
     "text": [
      "                            OLS Regression Results                            \n",
      "==============================================================================\n",
      "Dep. Variable:            Total Loans   R-squared:                       0.001\n",
      "Model:                            OLS   Adj. R-squared:                  0.000\n",
      "Method:                 Least Squares   F-statistic:                     1.151\n",
      "Date:                Wed, 30 Jan 2019   Prob (F-statistic):              0.284\n",
      "Time:                        22:48:42   Log-Likelihood:                -1119.9\n",
      "No. Observations:                 790   AIC:                             2242.\n",
      "Df Residuals:                     789   BIC:                             2246.\n",
      "Df Model:                           1                                         \n",
      "Covariance Type:            nonrobust                                         \n",
      "==============================================================================\n",
      "                 coef    std err          t      P>|t|      [0.025      0.975]\n",
      "------------------------------------------------------------------------------\n",
      "Minority      -0.0382      0.036     -1.073      0.284      -0.108       0.032\n",
      "==============================================================================\n",
      "Omnibus:                      852.939   Durbin-Watson:                   1.090\n",
      "Prob(Omnibus):                  0.000   Jarque-Bera (JB):            57204.652\n",
      "Skew:                           5.108   Prob(JB):                         0.00\n",
      "Kurtosis:                      43.416   Cond. No.                         1.00\n",
      "==============================================================================\n",
      "\n",
      "Warnings:\n",
      "[1] Standard Errors assume that the covariance matrix of the errors is correctly specified.\n"
     ]
    }
   ],
   "source": [
    "X_m1_normal_constant = sm.add_constant(X_vars_models_normal)\n",
    "m1 = sm.regression.linear_model.OLS(Y_vars_models_normal, X_vars_models_normal['Minority'])\n",
    "results_m1 = m1.fit()\n",
    "print(results_m1.summary())"
   ]
  },
  {
   "cell_type": "code",
   "execution_count": 34,
   "metadata": {},
   "outputs": [],
   "source": [
    "# with open('/Users/ameliabaum/Desktop/Amelia/CRA_Thesis/communityreinvestmentact/results/2009_minority_m1.html', 'w') as outfile:\n",
    "#     outfile.write(results_m1.summary().as_html())\n",
    "      \n",
    "  "
   ]
  },
  {
   "cell_type": "markdown",
   "metadata": {},
   "source": [
    "#### Model 2\n"
   ]
  },
  {
   "cell_type": "code",
   "execution_count": 37,
   "metadata": {
    "scrolled": true
   },
   "outputs": [
    {
     "name": "stdout",
     "output_type": "stream",
     "text": [
      "                            OLS Regression Results                            \n",
      "==============================================================================\n",
      "Dep. Variable:            Total Loans   R-squared:                       0.002\n",
      "Model:                            OLS   Adj. R-squared:                 -0.001\n",
      "Method:                 Least Squares   F-statistic:                    0.6657\n",
      "Date:                Wed, 30 Jan 2019   Prob (F-statistic):              0.514\n",
      "Time:                        22:50:35   Log-Likelihood:                -1119.8\n",
      "No. Observations:                 790   AIC:                             2244.\n",
      "Df Residuals:                     788   BIC:                             2253.\n",
      "Df Model:                           2                                         \n",
      "Covariance Type:            nonrobust                                         \n",
      "==========================================================================================\n",
      "                             coef    std err          t      P>|t|      [0.025      0.975]\n",
      "------------------------------------------------------------------------------------------\n",
      "Minority                  -0.0159      0.063     -0.251      0.802      -0.140       0.108\n",
      "Percent NH White alone    -0.0269      0.063     -0.426      0.670      -0.151       0.097\n",
      "==============================================================================\n",
      "Omnibus:                      853.814   Durbin-Watson:                   1.088\n",
      "Prob(Omnibus):                  0.000   Jarque-Bera (JB):            57381.155\n",
      "Skew:                           5.117   Prob(JB):                         0.00\n",
      "Kurtosis:                      43.478   Cond. No.                         3.25\n",
      "==============================================================================\n",
      "\n",
      "Warnings:\n",
      "[1] Standard Errors assume that the covariance matrix of the errors is correctly specified.\n"
     ]
    }
   ],
   "source": [
    "X_m2_normal_constant = sm.add_constant(X_vars_models_normal)\n",
    "m2 = sm.regression.linear_model.OLS(Y_vars_models_normal, X_m2_normal_constant[['Minority', 'Percent NH White alone']])\n",
    "\n",
    "results_m2 = m2.fit()\n",
    "\n",
    "print(results_m2.summary())"
   ]
  },
  {
   "cell_type": "code",
   "execution_count": 38,
   "metadata": {},
   "outputs": [],
   "source": [
    "# with open('/Users/ameliabaum/Desktop/Amelia/CRA_Thesis/communityreinvestmentact/results/2009_minnhw_m2.html', 'w') as outfile:\n",
    "#     outfile.write(results_m2.summary().as_html())\n",
    "    \n",
    "    "
   ]
  },
  {
   "cell_type": "markdown",
   "metadata": {},
   "source": [
    "#### Model 3\n",
    "\n"
   ]
  },
  {
   "cell_type": "code",
   "execution_count": 39,
   "metadata": {},
   "outputs": [
    {
     "name": "stdout",
     "output_type": "stream",
     "text": [
      "                            OLS Regression Results                            \n",
      "==============================================================================\n",
      "Dep. Variable:            Total Loans   R-squared:                       0.012\n",
      "Model:                            OLS   Adj. R-squared:                  0.009\n",
      "Method:                 Least Squares   F-statistic:                     4.716\n",
      "Date:                Wed, 30 Jan 2019   Prob (F-statistic):            0.00921\n",
      "Time:                        22:51:49   Log-Likelihood:                -1115.8\n",
      "No. Observations:                 790   AIC:                             2236.\n",
      "Df Residuals:                     788   BIC:                             2245.\n",
      "Df Model:                           2                                         \n",
      "Covariance Type:            nonrobust                                         \n",
      "====================================================================================\n",
      "                       coef    std err          t      P>|t|      [0.025      0.975]\n",
      "------------------------------------------------------------------------------------\n",
      "Minority             0.0074      0.039      0.191      0.849      -0.069       0.084\n",
      "Percent Hispanic     0.1116      0.039      2.876      0.004       0.035       0.188\n",
      "==============================================================================\n",
      "Omnibus:                      863.347   Durbin-Watson:                   1.111\n",
      "Prob(Omnibus):                  0.000   Jarque-Bera (JB):            59584.213\n",
      "Skew:                           5.206   Prob(JB):                         0.00\n",
      "Kurtosis:                      44.252   Cond. No.                         1.54\n",
      "==============================================================================\n",
      "\n",
      "Warnings:\n",
      "[1] Standard Errors assume that the covariance matrix of the errors is correctly specified.\n"
     ]
    }
   ],
   "source": [
    "X_m3_normal_constant = sm.add_constant(X_vars_models_normal)\n",
    "m3 = sm.regression.linear_model.OLS(Y_vars_models_normal, X_m3_normal_constant[['Minority', 'Percent Hispanic']])\n",
    "results_m3 = m3.fit()\n",
    "\n",
    "print(results_m3.summary())"
   ]
  },
  {
   "cell_type": "code",
   "execution_count": 40,
   "metadata": {},
   "outputs": [],
   "source": [
    "# with open('/Users/ameliabaum/Desktop/Amelia/CRA_Thesis/communityreinvestmentact/results/2009_minh_m3.html', 'w') as outfile:\n",
    "#     outfile.write(results_m3.summary().as_html())\n",
    "\n"
   ]
  },
  {
   "cell_type": "markdown",
   "metadata": {},
   "source": [
    "#### Model 4"
   ]
  },
  {
   "cell_type": "code",
   "execution_count": 43,
   "metadata": {},
   "outputs": [
    {
     "name": "stdout",
     "output_type": "stream",
     "text": [
      "                            OLS Regression Results                            \n",
      "==============================================================================\n",
      "Dep. Variable:            Total Loans   R-squared:                       0.010\n",
      "Model:                            OLS   Adj. R-squared:                  0.008\n",
      "Method:                 Least Squares   F-statistic:                     3.986\n",
      "Date:                Wed, 30 Jan 2019   Prob (F-statistic):             0.0189\n",
      "Time:                        22:55:21   Log-Likelihood:                -1116.5\n",
      "No. Observations:                 790   AIC:                             2237.\n",
      "Df Residuals:                     788   BIC:                             2246.\n",
      "Df Model:                           2                                         \n",
      "Covariance Type:            nonrobust                                         \n",
      "==========================================================================================\n",
      "                             coef    std err          t      P>|t|      [0.025      0.975]\n",
      "------------------------------------------------------------------------------------------\n",
      "Minority                  -0.0785      0.039     -2.029      0.043      -0.154      -0.003\n",
      "Percent NH Asian alone    -0.1009      0.039     -2.610      0.009      -0.177      -0.025\n",
      "==============================================================================\n",
      "Omnibus:                      856.888   Durbin-Watson:                   1.128\n",
      "Prob(Omnibus):                  0.000   Jarque-Bera (JB):            58007.878\n",
      "Skew:                           5.146   Prob(JB):                         0.00\n",
      "Kurtosis:                      43.698   Cond. No.                         1.53\n",
      "==============================================================================\n",
      "\n",
      "Warnings:\n",
      "[1] Standard Errors assume that the covariance matrix of the errors is correctly specified.\n"
     ]
    }
   ],
   "source": [
    "X_m4_normal_constant = sm.add_constant(X_vars_models_normal)\n",
    "m4 = sm.regression.linear_model.OLS(Y_vars_models_normal, X_m4_normal_constant[['Minority', 'Percent NH Asian alone']])\n",
    "results_m4 = m4.fit()\n",
    "print(results_m4.summary())"
   ]
  },
  {
   "cell_type": "code",
   "execution_count": 46,
   "metadata": {},
   "outputs": [],
   "source": [
    "with open('/Users/ameliabaum/Desktop/Amelia/CRA_Thesis/communityreinvestmentact/results/2009_minnha_m4.html', 'w') as outfile:\n",
    "    outfile.write(results_m4.summary().as_html())"
   ]
  },
  {
   "cell_type": "markdown",
   "metadata": {},
   "source": [
    "#### Model 5"
   ]
  },
  {
   "cell_type": "code",
   "execution_count": 45,
   "metadata": {},
   "outputs": [
    {
     "name": "stdout",
     "output_type": "stream",
     "text": [
      "                            OLS Regression Results                            \n",
      "==============================================================================\n",
      "Dep. Variable:            Total Loans   R-squared:                       0.001\n",
      "Model:                            OLS   Adj. R-squared:                 -0.001\n",
      "Method:                 Least Squares   F-statistic:                    0.5842\n",
      "Date:                Wed, 30 Jan 2019   Prob (F-statistic):              0.558\n",
      "Time:                        22:56:51   Log-Likelihood:                -1119.9\n",
      "No. Observations:                 790   AIC:                             2244.\n",
      "Df Residuals:                     788   BIC:                             2253.\n",
      "Df Model:                           2                                         \n",
      "Covariance Type:            nonrobust                                         \n",
      "=============================================================================================================\n",
      "                                                coef    std err          t      P>|t|      [0.025      0.975]\n",
      "-------------------------------------------------------------------------------------------------------------\n",
      "Minority                                     -0.0399      0.038     -1.056      0.291      -0.114       0.034\n",
      "Percent NH Black or African African alone    -0.0052      0.038     -0.137      0.891      -0.079       0.069\n",
      "==============================================================================\n",
      "Omnibus:                      852.987   Durbin-Watson:                   1.089\n",
      "Prob(Omnibus):                  0.000   Jarque-Bera (JB):            57228.946\n",
      "Skew:                           5.109   Prob(JB):                         0.00\n",
      "Kurtosis:                      43.425   Cond. No.                         1.42\n",
      "==============================================================================\n",
      "\n",
      "Warnings:\n",
      "[1] Standard Errors assume that the covariance matrix of the errors is correctly specified.\n"
     ]
    }
   ],
   "source": [
    "X_m5_normal_constant = sm.add_constant(X_vars_models_normal)\n",
    "m5 = sm.regression.linear_model.OLS(Y_vars_models_normal, X_m5_normal_constant[['Minority', 'Percent NH Black or African African alone']])\n",
    "results_m5 = m5.fit()\n",
    "print(results_m5.summary())"
   ]
  },
  {
   "cell_type": "code",
   "execution_count": 47,
   "metadata": {},
   "outputs": [],
   "source": [
    "with open('/Users/ameliabaum/Desktop/Amelia/CRA_Thesis/communityreinvestmentact/results/2009_minnhb_m5.html', 'w') as outfile:\n",
    "    outfile.write(results_m5.summary().as_html())"
   ]
  },
  {
   "cell_type": "markdown",
   "metadata": {},
   "source": [
    "#### Model 6: Housing units\n"
   ]
  },
  {
   "cell_type": "code",
   "execution_count": 51,
   "metadata": {},
   "outputs": [
    {
     "name": "stdout",
     "output_type": "stream",
     "text": [
      "                            OLS Regression Results                            \n",
      "==============================================================================\n",
      "Dep. Variable:            Total Loans   R-squared:                       0.376\n",
      "Model:                            OLS   Adj. R-squared:                  0.375\n",
      "Method:                 Least Squares   F-statistic:                     475.2\n",
      "Date:                Wed, 30 Jan 2019   Prob (F-statistic):           7.78e-83\n",
      "Time:                        23:07:00   Log-Likelihood:                -934.24\n",
      "No. Observations:                 790   AIC:                             1870.\n",
      "Df Residuals:                     789   BIC:                             1875.\n",
      "Df Model:                           1                                         \n",
      "Covariance Type:            nonrobust                                         \n",
      "=================================================================================================\n",
      "                                    coef    std err          t      P>|t|      [0.025      0.975]\n",
      "-------------------------------------------------------------------------------------------------\n",
      "Total number of housing units     0.6131      0.028     21.800      0.000       0.558       0.668\n",
      "==============================================================================\n",
      "Omnibus:                      529.400   Durbin-Watson:                   1.228\n",
      "Prob(Omnibus):                  0.000   Jarque-Bera (JB):             9183.150\n",
      "Skew:                           2.774   Prob(JB):                         0.00\n",
      "Kurtosis:                      18.755   Cond. No.                         1.00\n",
      "==============================================================================\n",
      "\n",
      "Warnings:\n",
      "[1] Standard Errors assume that the covariance matrix of the errors is correctly specified.\n"
     ]
    }
   ],
   "source": [
    "X_m6_normal_constant = sm.add_constant(X_vars_models_normal)\n",
    "m6 = sm.regression.linear_model.OLS(Y_vars_models_normal, X_m6_normal_constant[['Total number of housing units']])\n",
    "results_m6 = m6.fit()\n",
    "print(results_m6.summary())"
   ]
  },
  {
   "cell_type": "code",
   "execution_count": 49,
   "metadata": {},
   "outputs": [
    {
     "data": {
      "text/html": [
       "<div>\n",
       "<style scoped>\n",
       "    .dataframe tbody tr th:only-of-type {\n",
       "        vertical-align: middle;\n",
       "    }\n",
       "\n",
       "    .dataframe tbody tr th {\n",
       "        vertical-align: top;\n",
       "    }\n",
       "\n",
       "    .dataframe thead th {\n",
       "        text-align: right;\n",
       "    }\n",
       "</style>\n",
       "<table border=\"1\" class=\"dataframe\">\n",
       "  <thead>\n",
       "    <tr style=\"text-align: right;\">\n",
       "      <th></th>\n",
       "      <th>Percent of population 25 years and over with Bachelor's degree</th>\n",
       "      <th>% below poverty level</th>\n",
       "      <th>% Single Family</th>\n",
       "      <th>% Owner Occupied</th>\n",
       "      <th>Percent NH White alone</th>\n",
       "      <th>Percent NH Black or African African alone</th>\n",
       "      <th>Percent NH Asian alone</th>\n",
       "      <th>Percent Hispanic</th>\n",
       "      <th>Total number of housing units</th>\n",
       "      <th>Median home value</th>\n",
       "      <th>Median income</th>\n",
       "      <th>CRA</th>\n",
       "      <th>Minority</th>\n",
       "    </tr>\n",
       "  </thead>\n",
       "  <tbody>\n",
       "    <tr>\n",
       "      <th>0</th>\n",
       "      <td>1.173649</td>\n",
       "      <td>-0.692232</td>\n",
       "      <td>1.170598</td>\n",
       "      <td>1.659406</td>\n",
       "      <td>1.599032</td>\n",
       "      <td>-0.386909</td>\n",
       "      <td>-0.560245</td>\n",
       "      <td>-1.359381</td>\n",
       "      <td>-0.533980</td>\n",
       "      <td>2.173141</td>\n",
       "      <td>4.666265</td>\n",
       "      <td>-0.811683</td>\n",
       "      <td>1.319412</td>\n",
       "    </tr>\n",
       "    <tr>\n",
       "      <th>1</th>\n",
       "      <td>0.941447</td>\n",
       "      <td>-0.197604</td>\n",
       "      <td>-0.412884</td>\n",
       "      <td>-0.600077</td>\n",
       "      <td>1.356233</td>\n",
       "      <td>0.068573</td>\n",
       "      <td>-0.764368</td>\n",
       "      <td>-0.929743</td>\n",
       "      <td>0.873962</td>\n",
       "      <td>0.686456</td>\n",
       "      <td>-0.091198</td>\n",
       "      <td>-0.811683</td>\n",
       "      <td>1.319412</td>\n",
       "    </tr>\n",
       "    <tr>\n",
       "      <th>2</th>\n",
       "      <td>2.092781</td>\n",
       "      <td>-0.575083</td>\n",
       "      <td>-0.132877</td>\n",
       "      <td>-0.468083</td>\n",
       "      <td>1.285348</td>\n",
       "      <td>0.017043</td>\n",
       "      <td>-0.749284</td>\n",
       "      <td>-1.052318</td>\n",
       "      <td>0.066618</td>\n",
       "      <td>1.068279</td>\n",
       "      <td>0.454952</td>\n",
       "      <td>-0.811683</td>\n",
       "      <td>1.319412</td>\n",
       "    </tr>\n",
       "    <tr>\n",
       "      <th>3</th>\n",
       "      <td>0.554443</td>\n",
       "      <td>-0.314753</td>\n",
       "      <td>-0.538404</td>\n",
       "      <td>-0.450038</td>\n",
       "      <td>0.055852</td>\n",
       "      <td>2.023203</td>\n",
       "      <td>-0.818345</td>\n",
       "      <td>-0.760016</td>\n",
       "      <td>-0.227995</td>\n",
       "      <td>-0.084047</td>\n",
       "      <td>-0.725786</td>\n",
       "      <td>1.230449</td>\n",
       "      <td>-0.756954</td>\n",
       "    </tr>\n",
       "    <tr>\n",
       "      <th>4</th>\n",
       "      <td>2.857113</td>\n",
       "      <td>2.340618</td>\n",
       "      <td>0.149027</td>\n",
       "      <td>-0.297739</td>\n",
       "      <td>-0.302644</td>\n",
       "      <td>3.022275</td>\n",
       "      <td>-1.015744</td>\n",
       "      <td>-1.070642</td>\n",
       "      <td>-1.211074</td>\n",
       "      <td>-0.006522</td>\n",
       "      <td>-1.156893</td>\n",
       "      <td>1.230449</td>\n",
       "      <td>-0.756954</td>\n",
       "    </tr>\n",
       "  </tbody>\n",
       "</table>\n",
       "</div>"
      ],
      "text/plain": [
       "   Percent of population 25 years and over with Bachelor's degree  \\\n",
       "0                                           1.173649                \n",
       "1                                           0.941447                \n",
       "2                                           2.092781                \n",
       "3                                           0.554443                \n",
       "4                                           2.857113                \n",
       "\n",
       "   % below poverty level  % Single Family  % Owner Occupied  \\\n",
       "0              -0.692232         1.170598          1.659406   \n",
       "1              -0.197604        -0.412884         -0.600077   \n",
       "2              -0.575083        -0.132877         -0.468083   \n",
       "3              -0.314753        -0.538404         -0.450038   \n",
       "4               2.340618         0.149027         -0.297739   \n",
       "\n",
       "   Percent NH White alone  Percent NH Black or African African alone  \\\n",
       "0                1.599032                                  -0.386909   \n",
       "1                1.356233                                   0.068573   \n",
       "2                1.285348                                   0.017043   \n",
       "3                0.055852                                   2.023203   \n",
       "4               -0.302644                                   3.022275   \n",
       "\n",
       "   Percent NH Asian alone  Percent Hispanic  Total number of housing units  \\\n",
       "0               -0.560245         -1.359381                      -0.533980   \n",
       "1               -0.764368         -0.929743                       0.873962   \n",
       "2               -0.749284         -1.052318                       0.066618   \n",
       "3               -0.818345         -0.760016                      -0.227995   \n",
       "4               -1.015744         -1.070642                      -1.211074   \n",
       "\n",
       "   Median home value  Median income       CRA  Minority  \n",
       "0           2.173141       4.666265 -0.811683  1.319412  \n",
       "1           0.686456      -0.091198 -0.811683  1.319412  \n",
       "2           1.068279       0.454952 -0.811683  1.319412  \n",
       "3          -0.084047      -0.725786  1.230449 -0.756954  \n",
       "4          -0.006522      -1.156893  1.230449 -0.756954  "
      ]
     },
     "execution_count": 49,
     "metadata": {},
     "output_type": "execute_result"
    }
   ],
   "source": [
    "X_vars_models_normal.head()"
   ]
  },
  {
   "cell_type": "code",
   "execution_count": 52,
   "metadata": {},
   "outputs": [],
   "source": [
    "with open('/Users/ameliabaum/Desktop/Amelia/CRA_Thesis/communityreinvestmentact/results/2009_units_m6.html', 'w') as outfile:\n",
    "    outfile.write(results_m6.summary().as_html())"
   ]
  },
  {
   "cell_type": "markdown",
   "metadata": {},
   "source": [
    "#### Model 7: # of housing market features\n"
   ]
  },
  {
   "cell_type": "code",
   "execution_count": 53,
   "metadata": {},
   "outputs": [
    {
     "name": "stdout",
     "output_type": "stream",
     "text": [
      "                            OLS Regression Results                            \n",
      "==============================================================================\n",
      "Dep. Variable:            Total Loans   R-squared:                       0.068\n",
      "Model:                            OLS   Adj. R-squared:                  0.065\n",
      "Method:                 Least Squares   F-statistic:                     19.25\n",
      "Date:                Wed, 30 Jan 2019   Prob (F-statistic):           4.72e-12\n",
      "Time:                        23:09:17   Log-Likelihood:                -1092.5\n",
      "No. Observations:                 790   AIC:                             2191.\n",
      "Df Residuals:                     787   BIC:                             2205.\n",
      "Df Model:                           3                                         \n",
      "Covariance Type:            nonrobust                                         \n",
      "=====================================================================================\n",
      "                        coef    std err          t      P>|t|      [0.025      0.975]\n",
      "-------------------------------------------------------------------------------------\n",
      "% Single Family      -0.0126      0.063     -0.200      0.842      -0.137       0.111\n",
      "% Owner Occupied      0.2434      0.063      3.851      0.000       0.119       0.367\n",
      "Median home value    -0.1196      0.034     -3.474      0.001      -0.187      -0.052\n",
      "==============================================================================\n",
      "Omnibus:                      858.665   Durbin-Watson:                   1.190\n",
      "Prob(Omnibus):                  0.000   Jarque-Bera (JB):            59108.447\n",
      "Skew:                           5.157   Prob(JB):                         0.00\n",
      "Kurtosis:                      44.101   Cond. No.                         3.38\n",
      "==============================================================================\n",
      "\n",
      "Warnings:\n",
      "[1] Standard Errors assume that the covariance matrix of the errors is correctly specified.\n"
     ]
    }
   ],
   "source": [
    "X_m7_normal_constant = sm.add_constant(X_vars_models_normal)\n",
    "m7 = sm.regression.linear_model.OLS(Y_vars_models_normal, X_m7_normal_constant[['% Single Family','% Owner Occupied',\n",
    "                                                                         'Median home value']])\n",
    "results_m7 = m7.fit()\n",
    "print(results_m7.summary())"
   ]
  },
  {
   "cell_type": "code",
   "execution_count": 54,
   "metadata": {},
   "outputs": [],
   "source": [
    "with open('/Users/ameliabaum/Desktop/Amelia/CRA_Thesis/communityreinvestmentact/results/2009_housing_m7.html', 'w') as outfile:\n",
    "    outfile.write(results_m7.summary().as_html())"
   ]
  },
  {
   "cell_type": "markdown",
   "metadata": {},
   "source": [
    "#### Model 8: socioeconomic features\n"
   ]
  },
  {
   "cell_type": "code",
   "execution_count": 58,
   "metadata": {},
   "outputs": [
    {
     "name": "stdout",
     "output_type": "stream",
     "text": [
      "                            OLS Regression Results                            \n",
      "==============================================================================\n",
      "Dep. Variable:            Total Loans   R-squared:                       0.061\n",
      "Model:                            OLS   Adj. R-squared:                  0.057\n",
      "Method:                 Least Squares   F-statistic:                     17.04\n",
      "Date:                Wed, 30 Jan 2019   Prob (F-statistic):           9.93e-11\n",
      "Time:                        23:12:28   Log-Likelihood:                -1095.6\n",
      "No. Observations:                 790   AIC:                             2197.\n",
      "Df Residuals:                     787   BIC:                             2211.\n",
      "Df Model:                           3                                         \n",
      "Covariance Type:            nonrobust                                         \n",
      "==================================================================================================================================\n",
      "                                                                     coef    std err          t      P>|t|      [0.025      0.975]\n",
      "----------------------------------------------------------------------------------------------------------------------------------\n",
      "Median income                                                      0.2639      0.047      5.604      0.000       0.171       0.356\n",
      "Percent of population 25 years and over with Bachelor's degree    -0.2378      0.041     -5.770      0.000      -0.319      -0.157\n",
      "% below poverty level                                             -0.0065      0.045     -0.145      0.885      -0.094       0.081\n",
      "==============================================================================\n",
      "Omnibus:                      851.919   Durbin-Watson:                   1.177\n",
      "Prob(Omnibus):                  0.000   Jarque-Bera (JB):            57834.267\n",
      "Skew:                           5.091   Prob(JB):                         0.00\n",
      "Kurtosis:                      43.661   Cond. No.                         2.37\n",
      "==============================================================================\n",
      "\n",
      "Warnings:\n",
      "[1] Standard Errors assume that the covariance matrix of the errors is correctly specified.\n"
     ]
    }
   ],
   "source": [
    "X_m8_normal_constant = sm.add_constant(X_vars_models_normal)\n",
    "m8 = sm.regression.linear_model.OLS(Y_vars_models_normal, X_m8_normal_constant[['Median income','Percent of population 25 years and over with Bachelor\\'s degree',\n",
    "                                                                         '% below poverty level']])\n",
    "results_m8 = m8.fit()\n",
    "print(results_m8.summary())"
   ]
  },
  {
   "cell_type": "code",
   "execution_count": 35,
   "metadata": {},
   "outputs": [
    {
     "data": {
      "image/png": "[encoded data removed]",
      "text/plain": [
       "<Figure size 432x288 with 1 Axes>"
      ]
     },
     "metadata": {
      "needs_background": "light"
     },
     "output_type": "display_data"
    }
   ],
   "source": [
    "plt.scatter(X_vars_m2['Percent NH White alone'], Y_m2, c='orangered', alpha='0.5')\n",
    "plt.title('% NH White alone vs. # of Loans by tract- 2009')\n",
    "plt.xlabel('Percent NH White alone')\n",
    "plt.ylabel('# of total loans')\n",
    "\n",
    "plt.savefig('/Users/ameliabaum/Desktop/Amelia/CRA_Thesis/communityreinvestmentact/results/nhw_vs_loans_09.png')\n"
   ]
  },
  {
   "cell_type": "code",
   "execution_count": 39,
   "metadata": {},
   "outputs": [
    {
     "data": {
      "image/png": "[encoded data removed]",
      "text/plain": [
       "<Figure size 432x288 with 1 Axes>"
      ]
     },
     "metadata": {
      "needs_background": "light"
     },
     "output_type": "display_data"
    }
   ],
   "source": [
    "plt.title('% with Bachelors degree vs. # of Loans by tract- 2009')\n",
    "\n",
    "plt.scatter(X_vars_m2['Percent of population 25 years and over with Bachelor\\'s degree'], Y_m2, c='cadetblue', alpha=0.6)\n",
    "\n",
    "plt.xlabel('Percent bachelors')\n",
    "plt.ylabel('# of total loans')\n",
    "plt.savefig('/Users/ameliabaum/Desktop/Amelia/CRA_Thesis/communityreinvestmentact/results/bach_vs_loans_09.png')\n"
   ]
  },
  {
   "cell_type": "code",
   "execution_count": 40,
   "metadata": {},
   "outputs": [
    {
     "data": {
      "image/png": "[encoded data removed]",
      "text/plain": [
       "<Figure size 432x288 with 1 Axes>"
      ]
     },
     "metadata": {
      "needs_background": "light"
     },
     "output_type": "display_data"
    }
   ],
   "source": [
    "plt.title('% hispanic vs. # of Loans by tract- 2009')\n",
    "\n",
    "plt.scatter(X_vars_m2['Percent Hispanic'], Y_m2, c='forestgreen', alpha=0.6)\n",
    "\n",
    "plt.xlabel('Percent hispanic')\n",
    "plt.ylabel('# of total loans')\n",
    "plt.savefig('/Users/ameliabaum/Desktop/Amelia/CRA_Thesis/communityreinvestmentact/results/hispanic_vs_loans_09.png')"
   ]
  },
  {
   "cell_type": "code",
   "execution_count": 44,
   "metadata": {},
   "outputs": [
    {
     "data": {
      "text/plain": [
       "(array([534., 109.,  55.,  42.,  10.,  17.,   9.,   6.,   5.,   3.]),\n",
       " array([0.        , 0.07696682, 0.15393365, 0.23090047, 0.3078673 ,\n",
       "        0.38483412, 0.46180095, 0.53876777, 0.6157346 , 0.69270142,\n",
       "        0.76966825]),\n",
       " <a list of 10 Patch objects>)"
      ]
     },
     "execution_count": 44,
     "metadata": {},
     "output_type": "execute_result"
    },
    {
     "data": {
      "image/png": "[encoded data removed]",
      "text/plain": [
       "<Figure size 432x288 with 1 Axes>"
      ]
     },
     "metadata": {
      "needs_background": "light"
     },
     "output_type": "display_data"
    }
   ],
   "source": [
    "plt.title('Distribution of %NH black population by CT-2009')\n",
    "plt.hist(X_vars_m2['Percent NH Black or African African alone'])\n",
    "\n"
   ]
  },
  {
   "cell_type": "code",
   "execution_count": 47,
   "metadata": {},
   "outputs": [],
   "source": [
    "LI = X_vars_m2[X_vars_m2['CRA'] == 1]\n",
    "LI.head()\n",
    "HI = X_vars_m2[X_vars_m2['CRA'] == 0]"
   ]
  },
  {
   "cell_type": "code",
   "execution_count": 58,
   "metadata": {},
   "outputs": [
    {
     "data": {
      "image/png": "[encoded data removed]",
      "text/plain": [
       "<Figure size 432x288 with 1 Axes>"
      ]
     },
     "metadata": {
      "needs_background": "light"
     },
     "output_type": "display_data"
    }
   ],
   "source": [
    "plt.title('Distribution of %NH White population in LI CTs-2009')\n",
    "plt.hist(LI['Percent NH White alone'], color='orangered')\n",
    "plt.savefig('/Users/ameliabaum/Desktop/Amelia/CRA_Thesis/communityreinvestmentact/results/LI_nhw_dist_09.png')"
   ]
  },
  {
   "cell_type": "code",
   "execution_count": 59,
   "metadata": {},
   "outputs": [
    {
     "data": {
      "image/png": "[encoded data removed]",
      "text/plain": [
       "<Figure size 432x288 with 1 Axes>"
      ]
     },
     "metadata": {
      "needs_background": "light"
     },
     "output_type": "display_data"
    }
   ],
   "source": [
    "plt.title('Distribution of %NH White population in HI CTs-2009')\n",
    "plt.hist(HI['Percent NH White alone'], color='orangered')\n",
    "plt.savefig('/Users/ameliabaum/Desktop/Amelia/CRA_Thesis/communityreinvestmentact/results/HI_nhw_dist_09.png')"
   ]
  },
  {
   "cell_type": "code",
   "execution_count": 60,
   "metadata": {},
   "outputs": [
    {
     "data": {
      "image/png": "[encoded data removed]",
      "text/plain": [
       "<Figure size 432x288 with 1 Axes>"
      ]
     },
     "metadata": {
      "needs_background": "light"
     },
     "output_type": "display_data"
    }
   ],
   "source": [
    "plt.title('Distribution of %NH Black population in LI CTs-2009')\n",
    "plt.hist(LI['Percent NH Black or African African alone'], color='purple')\n",
    "plt.savefig('/Users/ameliabaum/Desktop/Amelia/CRA_Thesis/communityreinvestmentact/results/LI_nhb_dist_09.png')"
   ]
  },
  {
   "cell_type": "code",
   "execution_count": 63,
   "metadata": {},
   "outputs": [
    {
     "data": {
      "image/png": "[encoded data removed]",
      "text/plain": [
       "<Figure size 432x288 with 1 Axes>"
      ]
     },
     "metadata": {
      "needs_background": "light"
     },
     "output_type": "display_data"
    }
   ],
   "source": [
    "plt.title('Distribution of %NH Black population in HI CTs-2009')\n",
    "plt.hist(HI['Percent NH Black or African African alone'], color='purple')\n",
    "plt.savefig('/Users/ameliabaum/Desktop/Amelia/CRA_Thesis/communityreinvestmentact/results/HI_nhb_dist_09.png')"
   ]
  },
  {
   "cell_type": "code",
   "execution_count": 64,
   "metadata": {},
   "outputs": [
    {
     "data": {
      "image/png": "[encoded data removed]",
      "text/plain": [
       "<Figure size 432x288 with 1 Axes>"
      ]
     },
     "metadata": {
      "needs_background": "light"
     },
     "output_type": "display_data"
    }
   ],
   "source": [
    "plt.title('Distribution of %hispanic population in HI CTs-2009')\n",
    "plt.hist(HI['Percent Hispanic'], color='darkblue')\n",
    "plt.savefig('/Users/ameliabaum/Desktop/Amelia/CRA_Thesis/communityreinvestmentact/results/HI_h_dist_09.png')"
   ]
  },
  {
   "cell_type": "code",
   "execution_count": 65,
   "metadata": {},
   "outputs": [
    {
     "data": {
      "image/png": "[encoded data removed]",
      "text/plain": [
       "<Figure size 432x288 with 1 Axes>"
      ]
     },
     "metadata": {
      "needs_background": "light"
     },
     "output_type": "display_data"
    }
   ],
   "source": [
    "plt.title('Distribution of %hispanic population in LI CTs-2009')\n",
    "plt.hist(LI['Percent Hispanic'], color='darkblue')\n",
    "plt.savefig('/Users/ameliabaum/Desktop/Amelia/CRA_Thesis/communityreinvestmentact/results/LI_h_dist_09.png')"
   ]
  },
  {
   "cell_type": "code",
   "execution_count": null,
   "metadata": {},
   "outputs": [],
   "source": []
  }
 ],
 "metadata": {
  "kernelspec": {
   "display_name": "Python 3",
   "language": "python",
   "name": "python3"
  },
  "language_info": {
   "codemirror_mode": {
    "name": "ipython",
    "version": 3
   },
   "file_extension": ".py",
   "mimetype": "text/x-python",
   "name": "python",
   "nbconvert_exporter": "python",
   "pygments_lexer": "ipython3",
   "version": "3.7.2"
  }
 },
 "nbformat": 4,
 "nbformat_minor": 2
}
